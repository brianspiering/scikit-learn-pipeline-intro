{
 "cells": [
  {
   "cell_type": "markdown",
   "id": "higher-label",
   "metadata": {
    "slideshow": {
     "slide_type": "skip"
    },
    "toc": true
   },
   "source": [
    "<h1>Table of Contents<span class=\"tocSkip\"></span></h1>\n",
    "<div class=\"toc\"><ul class=\"toc-item\"><li><span><a href=\"#Introduction-to-scikit-learn's-pipelines\" data-toc-modified-id=\"Introduction-to-scikit-learn's-pipelines-1\">Introduction to scikit-learn's pipelines</a></span></li><li><span><a href=\"#by-Brian-Spiering\" data-toc-modified-id=\"by-Brian-Spiering-2\">by Brian Spiering</a></span></li><li><span><a href=\"#Who-am-I?\" data-toc-modified-id=\"Who-am-I?-3\">Who am I?</a></span></li><li><span><a href=\"#Motivating-Story\" data-toc-modified-id=\"Motivating-Story-4\">Motivating Story</a></span></li><li><span><a href=\"#Learning-Outcomes\" data-toc-modified-id=\"Learning-Outcomes-5\">Learning Outcomes</a></span></li><li><span><a href=\"#Scikit-learn-Package-Review\" data-toc-modified-id=\"Scikit-learn-Package-Review-6\">Scikit-learn Package Review</a></span></li><li><span><a href=\"#Scikit-learn's-Estimator\" data-toc-modified-id=\"Scikit-learn's-Estimator-7\">Scikit-learn's Estimator</a></span></li><li><span><a href=\"#Pipelines\" data-toc-modified-id=\"Pipelines-8\">Pipelines</a></span></li><li><span><a href=\"#&quot;Programming-is-all-about-managing-complexity&quot;\" data-toc-modified-id=\"&quot;Programming-is-all-about-managing-complexity&quot;-9\">\"Programming is all about managing complexity\"</a></span></li><li><span><a href=\"#Pipeline-advantages\" data-toc-modified-id=\"Pipeline-advantages-10\">Pipeline advantages</a></span></li><li><span><a href=\"#Automate-fitting-many-models-with-a-pipeline\" data-toc-modified-id=\"Automate-fitting-many-models-with-a-pipeline-11\">Automate fitting many models with a pipeline</a></span></li><li><span><a href=\"#Pipelines-automatically-apply-the-correct-steps-\" data-toc-modified-id=\"Pipelines-automatically-apply-the-correct-steps--12\">Pipelines automatically apply the correct steps </a></span></li><li><span><a href=\"#Transformations-based-on-column-type-\" data-toc-modified-id=\"Transformations-based-on-column-type--13\">Transformations based on column type </a></span></li><li><span><a href=\"#Takeaways\" data-toc-modified-id=\"Takeaways-14\">Takeaways</a></span></li><li><span><a href=\"#Bonus-Material\" data-toc-modified-id=\"Bonus-Material-15\">Bonus Material</a></span></li><li><span><a href=\"#Sources-of-Inspiration\" data-toc-modified-id=\"Sources-of-Inspiration-16\">Sources of Inspiration</a></span></li><li><span><a href=\"#Check-for-understanding\" data-toc-modified-id=\"Check-for-understanding-17\">Check for understanding</a></span></li></ul></div>"
   ]
  },
  {
   "cell_type": "markdown",
   "id": "suitable-black",
   "metadata": {
    "slideshow": {
     "slide_type": "slide"
    }
   },
   "source": [
    "<center><h2>Introduction to scikit-learn's pipelines</h2></center>\n",
    "<center><h2>by Brian Spiering</h2></center>\n",
    "\n",
    "<br>\n",
    "<br>\n",
    "<center><img src=\"images/pipeline_intro.png\" width=\"100%\"/></center>"
   ]
  },
  {
   "cell_type": "markdown",
   "id": "aad18afb",
   "metadata": {
    "slideshow": {
     "slide_type": "slide"
    }
   },
   "source": [
    "<center><h2>Who am I?</h2></center>\n",
    "<center><img src=\"images/hi.png\" width=\"45%\"/></center>\n",
    "<center>Brian Spiering</center>\n",
    "<center>A Data Science Instructor at Metis</center>"
   ]
  },
  {
   "cell_type": "markdown",
   "id": "39f4e918",
   "metadata": {
    "slideshow": {
     "slide_type": "slide"
    }
   },
   "source": [
    "<br>\n",
    "<center><img src=\"images/olympic_rings.jpeg\" width=\"75%\"/></center>"
   ]
  },
  {
   "cell_type": "markdown",
   "id": "6ca102f8",
   "metadata": {
    "slideshow": {
     "slide_type": "skip"
    }
   },
   "source": [
    "[Image Source](https://compote.slate.com/images/005266c4-3c9f-416e-b2a4-f421e23ce879.jpeg?width=780&height=520&rect=1560x1040&offset=0x0)"
   ]
  },
  {
   "cell_type": "markdown",
   "id": "44325466",
   "metadata": {
    "slideshow": {
     "slide_type": "skip"
    }
   },
   "source": [
    "<center><h2>Motivating Story</h2></center>\n",
    "\n",
    "Image you are working as junior Data Scientist at a media company related to the Olympics. You have just built your first model to predict which athletes will be the biggest influencers in the near future. \n",
    "\n",
    "It took a while to find the right data, clean it and organize it, and fit that first algorithm. Now you boss says those dreaded words, \"Does your code scale?\"...\n",
    "\n",
    "Today I'm going to show you how to start on that path towards scale and improving your machine learning programming skills."
   ]
  },
  {
   "cell_type": "markdown",
   "id": "linear-peninsula",
   "metadata": {
    "slideshow": {
     "slide_type": "skip"
    }
   },
   "source": [
    "<center><h2>Learning Outcomes</h2></center>\n",
    "\n",
    "__By the end of this session, you should be able to__:\n",
    "\n",
    "- Describe what is scikit-learn's pipeline.\n",
    "- List the advantages of using scikit-learn's pipeline.\n",
    "- Code scikit-learn pipelines to automate machine learning."
   ]
  },
  {
   "cell_type": "markdown",
   "id": "occasional-politics",
   "metadata": {
    "slideshow": {
     "slide_type": "slide"
    }
   },
   "source": [
    "<center><h2>Scikit-learn Package Review</h2></center>\n",
    "\n",
    "<br>\n",
    "<center><img src=\"images/1200px-Scikit_learn_logo_small.svg.png\" width=\"35%\"/></center>"
   ]
  },
  {
   "cell_type": "markdown",
   "id": "5edc540a",
   "metadata": {
    "slideshow": {
     "slide_type": "skip"
    }
   },
   "source": [
    "You should already be familiar the fundamentals of scikit-learn.\n",
    "\n",
    "Scikit-learn is a Python library for traditional machine learning.\n",
    "\n",
    "Scikit-learn features:\n",
    "\n",
    "- Open source\n",
    "- Well-established\n",
    "- Comprehensive\n",
    "    - Handles pre-preprocessing, cleaning, feature extraction and selection, and cross-validation\n",
    "    - Most popular algorithms are included\n",
    "- Consistent, easy-to-use interface\n",
    "- Object-oriented programming (OOP) / class based."
   ]
  },
  {
   "cell_type": "code",
   "execution_count": 89,
   "id": "4cc0d1c0",
   "metadata": {
    "slideshow": {
     "slide_type": "slide"
    }
   },
   "outputs": [],
   "source": [
    "# Scikit-learn Example"
   ]
  },
  {
   "cell_type": "code",
   "execution_count": 90,
   "id": "429d87e5",
   "metadata": {
    "slideshow": {
     "slide_type": "skip"
    }
   },
   "outputs": [],
   "source": [
    "reset -fs"
   ]
  },
  {
   "cell_type": "code",
   "execution_count": 91,
   "id": "6f43105d",
   "metadata": {
    "slideshow": {
     "slide_type": "fragment"
    }
   },
   "outputs": [],
   "source": [
    "# Create sample data \n",
    "import numpy as np\n",
    "\n",
    "#             Number of followers, number of posts\n",
    "X = np.array([[121_883, 2_921],    [192_981, 6_9231]]) \n",
    "#             Number of likes\n",
    "y = np.array([[10_342],            [17_841]])         "
   ]
  },
  {
   "cell_type": "code",
   "execution_count": 92,
   "id": "6a24ac3e",
   "metadata": {
    "slideshow": {
     "slide_type": "slide"
    }
   },
   "outputs": [
    {
     "data": {
      "text/html": [
       "<style>#sk-04c569ac-c18a-4e8f-a3fc-e3d653760f9c {color: black;background-color: white;}#sk-04c569ac-c18a-4e8f-a3fc-e3d653760f9c pre{padding: 0;}#sk-04c569ac-c18a-4e8f-a3fc-e3d653760f9c div.sk-toggleable {background-color: white;}#sk-04c569ac-c18a-4e8f-a3fc-e3d653760f9c label.sk-toggleable__label {cursor: pointer;display: block;width: 100%;margin-bottom: 0;padding: 0.3em;box-sizing: border-box;text-align: center;}#sk-04c569ac-c18a-4e8f-a3fc-e3d653760f9c div.sk-toggleable__content {max-height: 0;max-width: 0;overflow: hidden;text-align: left;background-color: #f0f8ff;}#sk-04c569ac-c18a-4e8f-a3fc-e3d653760f9c div.sk-toggleable__content pre {margin: 0.2em;color: black;border-radius: 0.25em;background-color: #f0f8ff;}#sk-04c569ac-c18a-4e8f-a3fc-e3d653760f9c input.sk-toggleable__control:checked~div.sk-toggleable__content {max-height: 200px;max-width: 100%;overflow: auto;}#sk-04c569ac-c18a-4e8f-a3fc-e3d653760f9c div.sk-estimator input.sk-toggleable__control:checked~label.sk-toggleable__label {background-color: #d4ebff;}#sk-04c569ac-c18a-4e8f-a3fc-e3d653760f9c div.sk-label input.sk-toggleable__control:checked~label.sk-toggleable__label {background-color: #d4ebff;}#sk-04c569ac-c18a-4e8f-a3fc-e3d653760f9c input.sk-hidden--visually {border: 0;clip: rect(1px 1px 1px 1px);clip: rect(1px, 1px, 1px, 1px);height: 1px;margin: -1px;overflow: hidden;padding: 0;position: absolute;width: 1px;}#sk-04c569ac-c18a-4e8f-a3fc-e3d653760f9c div.sk-estimator {font-family: monospace;background-color: #f0f8ff;border: 1px dotted black;border-radius: 0.25em;box-sizing: border-box;margin-bottom: 0.5em;}#sk-04c569ac-c18a-4e8f-a3fc-e3d653760f9c div.sk-estimator:hover {background-color: #d4ebff;}#sk-04c569ac-c18a-4e8f-a3fc-e3d653760f9c div.sk-parallel-item::after {content: \"\";width: 100%;border-bottom: 1px solid gray;flex-grow: 1;}#sk-04c569ac-c18a-4e8f-a3fc-e3d653760f9c div.sk-label:hover label.sk-toggleable__label {background-color: #d4ebff;}#sk-04c569ac-c18a-4e8f-a3fc-e3d653760f9c div.sk-serial::before {content: \"\";position: absolute;border-left: 1px solid gray;box-sizing: border-box;top: 2em;bottom: 0;left: 50%;}#sk-04c569ac-c18a-4e8f-a3fc-e3d653760f9c div.sk-serial {display: flex;flex-direction: column;align-items: center;background-color: white;padding-right: 0.2em;padding-left: 0.2em;}#sk-04c569ac-c18a-4e8f-a3fc-e3d653760f9c div.sk-item {z-index: 1;}#sk-04c569ac-c18a-4e8f-a3fc-e3d653760f9c div.sk-parallel {display: flex;align-items: stretch;justify-content: center;background-color: white;}#sk-04c569ac-c18a-4e8f-a3fc-e3d653760f9c div.sk-parallel::before {content: \"\";position: absolute;border-left: 1px solid gray;box-sizing: border-box;top: 2em;bottom: 0;left: 50%;}#sk-04c569ac-c18a-4e8f-a3fc-e3d653760f9c div.sk-parallel-item {display: flex;flex-direction: column;position: relative;background-color: white;}#sk-04c569ac-c18a-4e8f-a3fc-e3d653760f9c div.sk-parallel-item:first-child::after {align-self: flex-end;width: 50%;}#sk-04c569ac-c18a-4e8f-a3fc-e3d653760f9c div.sk-parallel-item:last-child::after {align-self: flex-start;width: 50%;}#sk-04c569ac-c18a-4e8f-a3fc-e3d653760f9c div.sk-parallel-item:only-child::after {width: 0;}#sk-04c569ac-c18a-4e8f-a3fc-e3d653760f9c div.sk-dashed-wrapped {border: 1px dashed gray;margin: 0 0.4em 0.5em 0.4em;box-sizing: border-box;padding-bottom: 0.4em;background-color: white;position: relative;}#sk-04c569ac-c18a-4e8f-a3fc-e3d653760f9c div.sk-label label {font-family: monospace;font-weight: bold;background-color: white;display: inline-block;line-height: 1.2em;}#sk-04c569ac-c18a-4e8f-a3fc-e3d653760f9c div.sk-label-container {position: relative;z-index: 2;text-align: center;}#sk-04c569ac-c18a-4e8f-a3fc-e3d653760f9c div.sk-container {display: inline-block;position: relative;}</style><div id=\"sk-04c569ac-c18a-4e8f-a3fc-e3d653760f9c\" class\"sk-top-container\"><div class=\"sk-container\"><div class=\"sk-item\"><div class=\"sk-estimator sk-toggleable\"><input class=\"sk-toggleable__control sk-hidden--visually\" id=\"63a0a915-0666-44c1-ad79-09d5fc9297a1\" type=\"checkbox\" checked><label class=\"sk-toggleable__label\" for=\"63a0a915-0666-44c1-ad79-09d5fc9297a1\">LinearRegression</label><div class=\"sk-toggleable__content\"><pre>LinearRegression()</pre></div></div></div></div></div>"
      ],
      "text/plain": [
       "LinearRegression()"
      ]
     },
     "execution_count": 92,
     "metadata": {},
     "output_type": "execute_result"
    }
   ],
   "source": [
    "# Build a scikit-learn model \n",
    "from sklearn.linear_model  import LinearRegression\n",
    "\n",
    "lr = LinearRegression()\n",
    "lr.fit(X, y)"
   ]
  },
  {
   "cell_type": "code",
   "execution_count": 93,
   "id": "816c8f7c",
   "metadata": {
    "slideshow": {
     "slide_type": "fragment"
    }
   },
   "outputs": [
    {
     "name": "stdout",
     "output_type": "stream",
     "text": [
      "11,699\n"
     ]
    }
   ],
   "source": [
    "# For a new account, what is the predicted number of likes?\n",
    "# Number of followers, number of posts\n",
    "new_account = np.array([[143_231, 5_823]])\n",
    "predicted_number_of_likes = lr.predict(new_account)[0][0]\n",
    "print(f\"{predicted_number_of_likes:,.0f}\")"
   ]
  },
  {
   "cell_type": "markdown",
   "id": "alpha-excitement",
   "metadata": {
    "slideshow": {
     "slide_type": "slide"
    }
   },
   "source": [
    "<center><h2>Scikit-learn's Estimator</h2></center>\n",
    "\n",
    "Estimator is a consistent interface for all scikit-learn algorithms. \n",
    "\n",
    "All estimators have a fit method:\n",
    "`estimator.fit(X, [y])` \n",
    "\n"
   ]
  },
  {
   "cell_type": "markdown",
   "id": "42981fef",
   "metadata": {
    "slideshow": {
     "slide_type": "slide"
    }
   },
   "source": [
    "__Estimators have other methods__:\n",
    "\n",
    "- `estimator.predict`\n",
    "    - Classification\n",
    "    - Regression\n",
    "    - Clustering"
   ]
  },
  {
   "cell_type": "markdown",
   "id": "33e1ec12",
   "metadata": {
    "slideshow": {
     "slide_type": "fragment"
    }
   },
   "source": [
    "- `estimator.transform` (thus, called Transformers)\n",
    "    - Preprocessing\n",
    "    - Dimensionality reduction\n",
    "    - Feature selection"
   ]
  },
  {
   "cell_type": "markdown",
   "id": "c0457bf4",
   "metadata": {
    "slideshow": {
     "slide_type": "skip"
    }
   },
   "source": [
    "X is required.  \n",
    "y is optional."
   ]
  },
  {
   "cell_type": "markdown",
   "id": "covered-interface",
   "metadata": {
    "slideshow": {
     "slide_type": "slide"
    }
   },
   "source": [
    "<center><h2>Pipelines</h2></center>\n",
    "<center><img src=\"images/pipeline_real_world.jpg\" width=\"100%\"/></center>"
   ]
  },
  {
   "cell_type": "markdown",
   "id": "8404c327",
   "metadata": {
    "slideshow": {
     "slide_type": "skip"
    }
   },
   "source": [
    "Pipelines are a very useful idea.\n",
    "\n",
    "Pipelines allow things (oil or data) to move without losing any of the precious resource.\n",
    "\n",
    "Pipelines have modular segments. If section needs to be improved, only that section needs to be replaced."
   ]
  },
  {
   "cell_type": "code",
   "execution_count": 94,
   "id": "another-alarm",
   "metadata": {
    "slideshow": {
     "slide_type": "slide"
    }
   },
   "outputs": [
    {
     "data": {
      "text/html": [
       "<style>#sk-0f3892af-f29c-491b-9b15-d34bdefdff4a {color: black;background-color: white;}#sk-0f3892af-f29c-491b-9b15-d34bdefdff4a pre{padding: 0;}#sk-0f3892af-f29c-491b-9b15-d34bdefdff4a div.sk-toggleable {background-color: white;}#sk-0f3892af-f29c-491b-9b15-d34bdefdff4a label.sk-toggleable__label {cursor: pointer;display: block;width: 100%;margin-bottom: 0;padding: 0.3em;box-sizing: border-box;text-align: center;}#sk-0f3892af-f29c-491b-9b15-d34bdefdff4a div.sk-toggleable__content {max-height: 0;max-width: 0;overflow: hidden;text-align: left;background-color: #f0f8ff;}#sk-0f3892af-f29c-491b-9b15-d34bdefdff4a div.sk-toggleable__content pre {margin: 0.2em;color: black;border-radius: 0.25em;background-color: #f0f8ff;}#sk-0f3892af-f29c-491b-9b15-d34bdefdff4a input.sk-toggleable__control:checked~div.sk-toggleable__content {max-height: 200px;max-width: 100%;overflow: auto;}#sk-0f3892af-f29c-491b-9b15-d34bdefdff4a div.sk-estimator input.sk-toggleable__control:checked~label.sk-toggleable__label {background-color: #d4ebff;}#sk-0f3892af-f29c-491b-9b15-d34bdefdff4a div.sk-label input.sk-toggleable__control:checked~label.sk-toggleable__label {background-color: #d4ebff;}#sk-0f3892af-f29c-491b-9b15-d34bdefdff4a input.sk-hidden--visually {border: 0;clip: rect(1px 1px 1px 1px);clip: rect(1px, 1px, 1px, 1px);height: 1px;margin: -1px;overflow: hidden;padding: 0;position: absolute;width: 1px;}#sk-0f3892af-f29c-491b-9b15-d34bdefdff4a div.sk-estimator {font-family: monospace;background-color: #f0f8ff;border: 1px dotted black;border-radius: 0.25em;box-sizing: border-box;margin-bottom: 0.5em;}#sk-0f3892af-f29c-491b-9b15-d34bdefdff4a div.sk-estimator:hover {background-color: #d4ebff;}#sk-0f3892af-f29c-491b-9b15-d34bdefdff4a div.sk-parallel-item::after {content: \"\";width: 100%;border-bottom: 1px solid gray;flex-grow: 1;}#sk-0f3892af-f29c-491b-9b15-d34bdefdff4a div.sk-label:hover label.sk-toggleable__label {background-color: #d4ebff;}#sk-0f3892af-f29c-491b-9b15-d34bdefdff4a div.sk-serial::before {content: \"\";position: absolute;border-left: 1px solid gray;box-sizing: border-box;top: 2em;bottom: 0;left: 50%;}#sk-0f3892af-f29c-491b-9b15-d34bdefdff4a div.sk-serial {display: flex;flex-direction: column;align-items: center;background-color: white;padding-right: 0.2em;padding-left: 0.2em;}#sk-0f3892af-f29c-491b-9b15-d34bdefdff4a div.sk-item {z-index: 1;}#sk-0f3892af-f29c-491b-9b15-d34bdefdff4a div.sk-parallel {display: flex;align-items: stretch;justify-content: center;background-color: white;}#sk-0f3892af-f29c-491b-9b15-d34bdefdff4a div.sk-parallel::before {content: \"\";position: absolute;border-left: 1px solid gray;box-sizing: border-box;top: 2em;bottom: 0;left: 50%;}#sk-0f3892af-f29c-491b-9b15-d34bdefdff4a div.sk-parallel-item {display: flex;flex-direction: column;position: relative;background-color: white;}#sk-0f3892af-f29c-491b-9b15-d34bdefdff4a div.sk-parallel-item:first-child::after {align-self: flex-end;width: 50%;}#sk-0f3892af-f29c-491b-9b15-d34bdefdff4a div.sk-parallel-item:last-child::after {align-self: flex-start;width: 50%;}#sk-0f3892af-f29c-491b-9b15-d34bdefdff4a div.sk-parallel-item:only-child::after {width: 0;}#sk-0f3892af-f29c-491b-9b15-d34bdefdff4a div.sk-dashed-wrapped {border: 1px dashed gray;margin: 0 0.4em 0.5em 0.4em;box-sizing: border-box;padding-bottom: 0.4em;background-color: white;position: relative;}#sk-0f3892af-f29c-491b-9b15-d34bdefdff4a div.sk-label label {font-family: monospace;font-weight: bold;background-color: white;display: inline-block;line-height: 1.2em;}#sk-0f3892af-f29c-491b-9b15-d34bdefdff4a div.sk-label-container {position: relative;z-index: 2;text-align: center;}#sk-0f3892af-f29c-491b-9b15-d34bdefdff4a div.sk-container {display: inline-block;position: relative;}</style><div id=\"sk-0f3892af-f29c-491b-9b15-d34bdefdff4a\" class\"sk-top-container\"><div class=\"sk-container\"><div class=\"sk-item sk-dashed-wrapped\"><div class=\"sk-label-container\"><div class=\"sk-label sk-toggleable\"><input class=\"sk-toggleable__control sk-hidden--visually\" id=\"a9832688-2087-444f-9871-3eb1a9b91cc1\" type=\"checkbox\" ><label class=\"sk-toggleable__label\" for=\"a9832688-2087-444f-9871-3eb1a9b91cc1\">Pipeline</label><div class=\"sk-toggleable__content\"><pre>Pipeline(steps=[('standardscaler', StandardScaler()),\n",
       "                ('linearregression', LinearRegression())])</pre></div></div></div><div class=\"sk-serial\"><div class=\"sk-item\"><div class=\"sk-estimator sk-toggleable\"><input class=\"sk-toggleable__control sk-hidden--visually\" id=\"3e3d554a-14e6-405f-9512-a307da575c49\" type=\"checkbox\" ><label class=\"sk-toggleable__label\" for=\"3e3d554a-14e6-405f-9512-a307da575c49\">StandardScaler</label><div class=\"sk-toggleable__content\"><pre>StandardScaler()</pre></div></div></div><div class=\"sk-item\"><div class=\"sk-estimator sk-toggleable\"><input class=\"sk-toggleable__control sk-hidden--visually\" id=\"bb1f3afd-964a-43c8-8e47-c47b19292881\" type=\"checkbox\" ><label class=\"sk-toggleable__label\" for=\"bb1f3afd-964a-43c8-8e47-c47b19292881\">LinearRegression</label><div class=\"sk-toggleable__content\"><pre>LinearRegression()</pre></div></div></div></div></div></div></div>"
      ],
      "text/plain": [
       "Pipeline(steps=[('standardscaler', StandardScaler()),\n",
       "                ('linearregression', LinearRegression())])"
      ]
     },
     "execution_count": 94,
     "metadata": {},
     "output_type": "execute_result"
    }
   ],
   "source": [
    "# scikit-learn pipeline example\n",
    "from sklearn.pipeline      import make_pipeline\n",
    "from sklearn.preprocessing import StandardScaler\n",
    "\n",
    "pipe = make_pipeline(StandardScaler(), LinearRegression())\n",
    "pipe.fit(X, y)"
   ]
  },
  {
   "cell_type": "markdown",
   "id": "1eca405f",
   "metadata": {
    "slideshow": {
     "slide_type": "skip"
    }
   },
   "source": [
    "[Source](https://stackoverflow.com/questions/33091376/python-what-is-exactly-sklearn-pipeline-pipeline)"
   ]
  },
  {
   "cell_type": "code",
   "execution_count": 95,
   "id": "c9280cca",
   "metadata": {
    "slideshow": {
     "slide_type": "fragment"
    }
   },
   "outputs": [
    {
     "name": "stdout",
     "output_type": "stream",
     "text": [
      "11,632\n"
     ]
    }
   ],
   "source": [
    "# Predict new, unlabeled data \n",
    "predicted_number_of_likes = pipe.predict(new_account)[0][0]\n",
    "print(f\"{predicted_number_of_likes:,.0f}\")"
   ]
  },
  {
   "cell_type": "markdown",
   "id": "failing-trunk",
   "metadata": {
    "slideshow": {
     "slide_type": "slide"
    }
   },
   "source": [
    "<center><h2>\"Programming is all about managing complexity\"</h2></center>\n",
    "\n",
    "Abstractions help us do that.\n",
    "\n",
    "Pipelines are a great abstraction.\n",
    "\n",
    "Instead of tracking every step, we just create and pass a Pipeline object. An example of encapsulation.\n"
   ]
  },
  {
   "cell_type": "markdown",
   "id": "personal-telescope",
   "metadata": {
    "slideshow": {
     "slide_type": "slide"
    }
   },
   "source": [
    "<center><h2>Pipeline advantages</h2></center>\n",
    "\n",
    "- Encapsulation all steps in a single object. Pipeline can be evaluated and tuned as a single entity.\n"
   ]
  },
  {
   "cell_type": "markdown",
   "id": "8bd39f4f",
   "metadata": {
    "slideshow": {
     "slide_type": "fragment"
    }
   },
   "source": [
    "- Apply the appropriate steps to training and test datasets.\n",
    "\n"
   ]
  },
  {
   "cell_type": "markdown",
   "id": "784d7cdf",
   "metadata": {
    "slideshow": {
     "slide_type": "fragment"
    }
   },
   "source": [
    "- Pipeline will also help prevent data leakage, i.e. disclosing some testing data in your training data.\n"
   ]
  },
  {
   "cell_type": "markdown",
   "id": "0e878c4a",
   "metadata": {
    "slideshow": {
     "slide_type": "fragment"
    }
   },
   "source": [
    "- Plays nicely with cross validation (CV) - feature selection within CV loops."
   ]
  },
  {
   "cell_type": "code",
   "execution_count": 96,
   "id": "e2aa1656",
   "metadata": {
    "slideshow": {
     "slide_type": "skip"
    }
   },
   "outputs": [],
   "source": [
    "from sklearn.datasets        import load_diabetes \n",
    "from sklearn.linear_model    import LinearRegression\n",
    "from sklearn.model_selection import train_test_split\n",
    "from sklearn.pipeline        import Pipeline\n",
    "from sklearn.preprocessing   import StandardScaler"
   ]
  },
  {
   "cell_type": "code",
   "execution_count": 97,
   "id": "e0287e06",
   "metadata": {
    "slideshow": {
     "slide_type": "slide"
    }
   },
   "outputs": [],
   "source": [
    "# More complex example\n",
    "X, y = load_diabetes(return_X_y=True)\n",
    "X_train, X_test, y_train, y_test= train_test_split(X, y)"
   ]
  },
  {
   "cell_type": "code",
   "execution_count": 98,
   "id": "10a482b6",
   "metadata": {
    "slideshow": {
     "slide_type": "fragment"
    }
   },
   "outputs": [
    {
     "data": {
      "text/plain": [
       "array([127.45794407, 200.00052924, 181.08097621, 126.15624501,\n",
       "       180.06583649, 152.82885942,  87.24854341, 147.03459737,\n",
       "        50.76464676, 189.99980731,  97.10458805, 200.17312234,\n",
       "       144.00983657, 247.01588918, 168.5488558 , 189.4830258 ,\n",
       "       253.11197931, 129.51407912, 190.24698676,  97.02849352,\n",
       "       198.72668071, 104.93329416, 145.80610135, 255.36893366,\n",
       "       134.99335461,  84.18428237, 144.33525853, 159.88486233,\n",
       "       206.68293339,  76.28001216, 177.25101338, 142.01375307,\n",
       "       170.46227529, 117.65078897, 218.50928565, 125.87047148,\n",
       "       199.92012462, 250.11674501, 144.03588096,  77.32937469,\n",
       "       198.3421902 ,  95.36871678, 148.0029773 , 152.36383179,\n",
       "        68.78158525, 217.6206231 , 205.36218815, 268.59571017,\n",
       "       103.24781079, 194.06071612,  70.21955291, 179.28652086,\n",
       "       217.50188078, 199.19724839, 147.33720405, 204.8392049 ,\n",
       "       149.42341798, 195.60768228,  68.65462989, 114.17727716,\n",
       "       126.91315169, 113.12510826,  63.4345053 , 203.81165254,\n",
       "       106.191473  , 190.76933779, 174.02658342,  55.42497517,\n",
       "       191.72260854, 179.03129014, 126.12543077,  69.62546926,\n",
       "       128.58041288,  37.21274884, 160.68246048, 118.50721756,\n",
       "       123.6027376 , 197.49758264, 236.53126136, 158.01347949,\n",
       "       248.44926956,  87.99295222, 173.33691102, 215.27848482,\n",
       "       208.1865798 , 293.98400869, 246.61687448,  77.23405655,\n",
       "        87.57801384,  61.05115849, 135.99223512, 121.45373716,\n",
       "        63.38812228, 168.65289931, 169.80842349, 251.65168528,\n",
       "       107.17480219, 242.59533778, 132.17163661, 224.76808498,\n",
       "       133.75071747, 188.23403784, 171.695958  , 156.65529536,\n",
       "        99.29572339, 196.86106063, 198.42306992, 127.90207548,\n",
       "       114.49923449,  45.09332234,  96.13805673])"
      ]
     },
     "execution_count": 98,
     "metadata": {},
     "output_type": "execute_result"
    }
   ],
   "source": [
    "pipe = Pipeline([('scaler', StandardScaler()), \n",
    "                 ('lr',     LinearRegression())])\n",
    "pipe.fit(X_train, y_train)\n",
    "pipe.predict(X_test)"
   ]
  },
  {
   "cell_type": "markdown",
   "id": "23950d35",
   "metadata": {
    "slideshow": {
     "slide_type": "slide"
    }
   },
   "source": [
    "<center><h2>Automate fitting many models with a pipeline</h2></center>\n"
   ]
  },
  {
   "cell_type": "code",
   "execution_count": 99,
   "id": "0575b884",
   "metadata": {
    "slideshow": {
     "slide_type": "skip"
    }
   },
   "outputs": [],
   "source": [
    "from sklearn.decomposition import PCA\n",
    "from sklearn.linear_model  import Lasso, Ridge, ElasticNet, HuberRegressor, BayesianRidge\n",
    "from sklearn.metrics       import mean_squared_error"
   ]
  },
  {
   "cell_type": "code",
   "execution_count": 100,
   "id": "af1999c3",
   "metadata": {
    "slideshow": {
     "slide_type": "fragment"
    }
   },
   "outputs": [
    {
     "name": "stdout",
     "output_type": "stream",
     "text": [
      "Mean squared error for diabetes dataset (regression): \n",
      "    LinearRegression: 2,770.29\n",
      "    Lasso           : 2,753.35\n",
      "    Ridge           : 2,770.18\n",
      "    ElasticNet      : 2,867.98\n",
      "    HuberRegressor  : 2,769.49\n",
      "    BayesianRidge   : 2,769.91\n"
     ]
    }
   ],
   "source": [
    "X_train, X_validation, y_train, y_validation= train_test_split(X, y, random_state=42)\n",
    "\n",
    "# Programmatically fit \n",
    "algorithms = [LinearRegression(), Lasso(), Ridge(), ElasticNet(), HuberRegressor(), BayesianRidge()]\n",
    "results = dict()\n",
    "\n",
    "print(\"Mean squared error for diabetes dataset (regression): \")\n",
    "for algo in algorithms:\n",
    "    pipe = Pipeline([('scaler', StandardScaler()), \n",
    "                     ('pca',    PCA(n_components=5)),\n",
    "                     ('lm',     algo)])\n",
    "\n",
    "    pipe.fit(X_train, y_train)\n",
    "    y_pred = pipe.predict(X_validation)\n",
    "    mse = mean_squared_error(y_validation, y_pred)\n",
    "    print(f\"    {algo.__class__.__name__:<16}: {mse:,.2f}\")"
   ]
  },
  {
   "cell_type": "markdown",
   "id": "8745f5d5",
   "metadata": {
    "slideshow": {
     "slide_type": "skip"
    }
   },
   "source": [
    "Source: https://iaml.it/blog/optimizing-sklearn-pipelines/"
   ]
  },
  {
   "cell_type": "code",
   "execution_count": 101,
   "id": "562e42d0",
   "metadata": {
    "slideshow": {
     "slide_type": "slide"
    }
   },
   "outputs": [
    {
     "data": {
      "text/html": [
       "<style>#sk-41d441f8-0e76-4044-a84a-fb92afe75ea5 {color: black;background-color: white;}#sk-41d441f8-0e76-4044-a84a-fb92afe75ea5 pre{padding: 0;}#sk-41d441f8-0e76-4044-a84a-fb92afe75ea5 div.sk-toggleable {background-color: white;}#sk-41d441f8-0e76-4044-a84a-fb92afe75ea5 label.sk-toggleable__label {cursor: pointer;display: block;width: 100%;margin-bottom: 0;padding: 0.3em;box-sizing: border-box;text-align: center;}#sk-41d441f8-0e76-4044-a84a-fb92afe75ea5 div.sk-toggleable__content {max-height: 0;max-width: 0;overflow: hidden;text-align: left;background-color: #f0f8ff;}#sk-41d441f8-0e76-4044-a84a-fb92afe75ea5 div.sk-toggleable__content pre {margin: 0.2em;color: black;border-radius: 0.25em;background-color: #f0f8ff;}#sk-41d441f8-0e76-4044-a84a-fb92afe75ea5 input.sk-toggleable__control:checked~div.sk-toggleable__content {max-height: 200px;max-width: 100%;overflow: auto;}#sk-41d441f8-0e76-4044-a84a-fb92afe75ea5 div.sk-estimator input.sk-toggleable__control:checked~label.sk-toggleable__label {background-color: #d4ebff;}#sk-41d441f8-0e76-4044-a84a-fb92afe75ea5 div.sk-label input.sk-toggleable__control:checked~label.sk-toggleable__label {background-color: #d4ebff;}#sk-41d441f8-0e76-4044-a84a-fb92afe75ea5 input.sk-hidden--visually {border: 0;clip: rect(1px 1px 1px 1px);clip: rect(1px, 1px, 1px, 1px);height: 1px;margin: -1px;overflow: hidden;padding: 0;position: absolute;width: 1px;}#sk-41d441f8-0e76-4044-a84a-fb92afe75ea5 div.sk-estimator {font-family: monospace;background-color: #f0f8ff;border: 1px dotted black;border-radius: 0.25em;box-sizing: border-box;margin-bottom: 0.5em;}#sk-41d441f8-0e76-4044-a84a-fb92afe75ea5 div.sk-estimator:hover {background-color: #d4ebff;}#sk-41d441f8-0e76-4044-a84a-fb92afe75ea5 div.sk-parallel-item::after {content: \"\";width: 100%;border-bottom: 1px solid gray;flex-grow: 1;}#sk-41d441f8-0e76-4044-a84a-fb92afe75ea5 div.sk-label:hover label.sk-toggleable__label {background-color: #d4ebff;}#sk-41d441f8-0e76-4044-a84a-fb92afe75ea5 div.sk-serial::before {content: \"\";position: absolute;border-left: 1px solid gray;box-sizing: border-box;top: 2em;bottom: 0;left: 50%;}#sk-41d441f8-0e76-4044-a84a-fb92afe75ea5 div.sk-serial {display: flex;flex-direction: column;align-items: center;background-color: white;padding-right: 0.2em;padding-left: 0.2em;}#sk-41d441f8-0e76-4044-a84a-fb92afe75ea5 div.sk-item {z-index: 1;}#sk-41d441f8-0e76-4044-a84a-fb92afe75ea5 div.sk-parallel {display: flex;align-items: stretch;justify-content: center;background-color: white;}#sk-41d441f8-0e76-4044-a84a-fb92afe75ea5 div.sk-parallel::before {content: \"\";position: absolute;border-left: 1px solid gray;box-sizing: border-box;top: 2em;bottom: 0;left: 50%;}#sk-41d441f8-0e76-4044-a84a-fb92afe75ea5 div.sk-parallel-item {display: flex;flex-direction: column;position: relative;background-color: white;}#sk-41d441f8-0e76-4044-a84a-fb92afe75ea5 div.sk-parallel-item:first-child::after {align-self: flex-end;width: 50%;}#sk-41d441f8-0e76-4044-a84a-fb92afe75ea5 div.sk-parallel-item:last-child::after {align-self: flex-start;width: 50%;}#sk-41d441f8-0e76-4044-a84a-fb92afe75ea5 div.sk-parallel-item:only-child::after {width: 0;}#sk-41d441f8-0e76-4044-a84a-fb92afe75ea5 div.sk-dashed-wrapped {border: 1px dashed gray;margin: 0 0.4em 0.5em 0.4em;box-sizing: border-box;padding-bottom: 0.4em;background-color: white;position: relative;}#sk-41d441f8-0e76-4044-a84a-fb92afe75ea5 div.sk-label label {font-family: monospace;font-weight: bold;background-color: white;display: inline-block;line-height: 1.2em;}#sk-41d441f8-0e76-4044-a84a-fb92afe75ea5 div.sk-label-container {position: relative;z-index: 2;text-align: center;}#sk-41d441f8-0e76-4044-a84a-fb92afe75ea5 div.sk-container {display: inline-block;position: relative;}</style><div id=\"sk-41d441f8-0e76-4044-a84a-fb92afe75ea5\" class\"sk-top-container\"><div class=\"sk-container\"><div class=\"sk-item sk-dashed-wrapped\"><div class=\"sk-label-container\"><div class=\"sk-label sk-toggleable\"><input class=\"sk-toggleable__control sk-hidden--visually\" id=\"5b2ddfc6-14c9-4b49-b342-2231b3bf2eb1\" type=\"checkbox\" ><label class=\"sk-toggleable__label\" for=\"5b2ddfc6-14c9-4b49-b342-2231b3bf2eb1\">Pipeline</label><div class=\"sk-toggleable__content\"><pre>Pipeline(steps=[('scaler', StandardScaler()), ('pca', PCA(n_components=5)),\n",
       "                ('lm', BayesianRidge())])</pre></div></div></div><div class=\"sk-serial\"><div class=\"sk-item\"><div class=\"sk-estimator sk-toggleable\"><input class=\"sk-toggleable__control sk-hidden--visually\" id=\"da4ba184-598a-4dc3-806c-61d2fae0478d\" type=\"checkbox\" ><label class=\"sk-toggleable__label\" for=\"da4ba184-598a-4dc3-806c-61d2fae0478d\">StandardScaler</label><div class=\"sk-toggleable__content\"><pre>StandardScaler()</pre></div></div></div><div class=\"sk-item\"><div class=\"sk-estimator sk-toggleable\"><input class=\"sk-toggleable__control sk-hidden--visually\" id=\"a7913d4e-dde9-46f4-bcdb-21ddaf50d603\" type=\"checkbox\" ><label class=\"sk-toggleable__label\" for=\"a7913d4e-dde9-46f4-bcdb-21ddaf50d603\">PCA</label><div class=\"sk-toggleable__content\"><pre>PCA(n_components=5)</pre></div></div></div><div class=\"sk-item\"><div class=\"sk-estimator sk-toggleable\"><input class=\"sk-toggleable__control sk-hidden--visually\" id=\"0d9dc1ad-3c12-4f71-ac5e-3337eedf46a4\" type=\"checkbox\" ><label class=\"sk-toggleable__label\" for=\"0d9dc1ad-3c12-4f71-ac5e-3337eedf46a4\">BayesianRidge</label><div class=\"sk-toggleable__content\"><pre>BayesianRidge()</pre></div></div></div></div></div></div></div>"
      ],
      "text/plain": [
       "Pipeline(steps=[('scaler', StandardScaler()), ('pca', PCA(n_components=5)),\n",
       "                ('lm', BayesianRidge())])"
      ]
     },
     "execution_count": 101,
     "metadata": {},
     "output_type": "execute_result"
    }
   ],
   "source": [
    "# Visualize pipeline\n",
    "\n",
    "from sklearn import set_config\n",
    "\n",
    "set_config(display='diagram')\n",
    "\n",
    "pipe"
   ]
  },
  {
   "cell_type": "markdown",
   "id": "alternate-tender",
   "metadata": {
    "slideshow": {
     "slide_type": "slide"
    }
   },
   "source": [
    "<center><h2>Pipelines automatically apply the correct steps </h2></center>\n",
    "<br>\n",
    "<center><img src=\"images/pipeline-diagram.png\" width=\"65%\"/></center>"
   ]
  },
  {
   "cell_type": "markdown",
   "id": "b7b58c44",
   "metadata": {
    "slideshow": {
     "slide_type": "slide"
    }
   },
   "source": [
    "<center><h2>Transformations based on column type </h2></center>"
   ]
  },
  {
   "cell_type": "code",
   "execution_count": 102,
   "id": "ff642f57",
   "metadata": {
    "slideshow": {
     "slide_type": "skip"
    }
   },
   "outputs": [],
   "source": [
    "import pandas as pd"
   ]
  },
  {
   "cell_type": "code",
   "execution_count": 103,
   "id": "988c99b6",
   "metadata": {
    "slideshow": {
     "slide_type": "slide"
    }
   },
   "outputs": [
    {
     "data": {
      "text/html": [
       "<div>\n",
       "<style scoped>\n",
       "    .dataframe tbody tr th:only-of-type {\n",
       "        vertical-align: middle;\n",
       "    }\n",
       "\n",
       "    .dataframe tbody tr th {\n",
       "        vertical-align: top;\n",
       "    }\n",
       "\n",
       "    .dataframe thead th {\n",
       "        text-align: right;\n",
       "    }\n",
       "</style>\n",
       "<table border=\"1\" class=\"dataframe\">\n",
       "  <thead>\n",
       "    <tr style=\"text-align: right;\">\n",
       "      <th></th>\n",
       "      <th>age</th>\n",
       "      <th>workclass</th>\n",
       "      <th>education</th>\n",
       "      <th>education-num</th>\n",
       "      <th>marital-status</th>\n",
       "      <th>occupation</th>\n",
       "      <th>relationship</th>\n",
       "      <th>race</th>\n",
       "      <th>gender</th>\n",
       "      <th>capital-gain</th>\n",
       "      <th>capital-loss</th>\n",
       "      <th>hours-per-week</th>\n",
       "      <th>native-country</th>\n",
       "      <th>income</th>\n",
       "    </tr>\n",
       "  </thead>\n",
       "  <tbody>\n",
       "    <tr>\n",
       "      <th>32556</th>\n",
       "      <td>27</td>\n",
       "      <td>Private</td>\n",
       "      <td>Assoc-acdm</td>\n",
       "      <td>12</td>\n",
       "      <td>Married-civ-spouse</td>\n",
       "      <td>Tech-support</td>\n",
       "      <td>Wife</td>\n",
       "      <td>White</td>\n",
       "      <td>Female</td>\n",
       "      <td>0</td>\n",
       "      <td>0</td>\n",
       "      <td>38</td>\n",
       "      <td>United-States</td>\n",
       "      <td>&lt;=50K</td>\n",
       "    </tr>\n",
       "    <tr>\n",
       "      <th>32557</th>\n",
       "      <td>40</td>\n",
       "      <td>Private</td>\n",
       "      <td>HS-grad</td>\n",
       "      <td>9</td>\n",
       "      <td>Married-civ-spouse</td>\n",
       "      <td>Machine-op-inspct</td>\n",
       "      <td>Husband</td>\n",
       "      <td>White</td>\n",
       "      <td>Male</td>\n",
       "      <td>0</td>\n",
       "      <td>0</td>\n",
       "      <td>40</td>\n",
       "      <td>United-States</td>\n",
       "      <td>&gt;50K</td>\n",
       "    </tr>\n",
       "    <tr>\n",
       "      <th>32558</th>\n",
       "      <td>58</td>\n",
       "      <td>Private</td>\n",
       "      <td>HS-grad</td>\n",
       "      <td>9</td>\n",
       "      <td>Widowed</td>\n",
       "      <td>Adm-clerical</td>\n",
       "      <td>Unmarried</td>\n",
       "      <td>White</td>\n",
       "      <td>Female</td>\n",
       "      <td>0</td>\n",
       "      <td>0</td>\n",
       "      <td>40</td>\n",
       "      <td>United-States</td>\n",
       "      <td>&lt;=50K</td>\n",
       "    </tr>\n",
       "    <tr>\n",
       "      <th>32559</th>\n",
       "      <td>22</td>\n",
       "      <td>Private</td>\n",
       "      <td>HS-grad</td>\n",
       "      <td>9</td>\n",
       "      <td>Never-married</td>\n",
       "      <td>Adm-clerical</td>\n",
       "      <td>Own-child</td>\n",
       "      <td>White</td>\n",
       "      <td>Male</td>\n",
       "      <td>0</td>\n",
       "      <td>0</td>\n",
       "      <td>20</td>\n",
       "      <td>United-States</td>\n",
       "      <td>&lt;=50K</td>\n",
       "    </tr>\n",
       "    <tr>\n",
       "      <th>32560</th>\n",
       "      <td>52</td>\n",
       "      <td>Self-emp-inc</td>\n",
       "      <td>HS-grad</td>\n",
       "      <td>9</td>\n",
       "      <td>Married-civ-spouse</td>\n",
       "      <td>Exec-managerial</td>\n",
       "      <td>Wife</td>\n",
       "      <td>White</td>\n",
       "      <td>Female</td>\n",
       "      <td>15024</td>\n",
       "      <td>0</td>\n",
       "      <td>40</td>\n",
       "      <td>United-States</td>\n",
       "      <td>&gt;50K</td>\n",
       "    </tr>\n",
       "  </tbody>\n",
       "</table>\n",
       "</div>"
      ],
      "text/plain": [
       "       age      workclass    education  education-num       marital-status  \\\n",
       "32556   27        Private   Assoc-acdm             12   Married-civ-spouse   \n",
       "32557   40        Private      HS-grad              9   Married-civ-spouse   \n",
       "32558   58        Private      HS-grad              9              Widowed   \n",
       "32559   22        Private      HS-grad              9        Never-married   \n",
       "32560   52   Self-emp-inc      HS-grad              9   Married-civ-spouse   \n",
       "\n",
       "               occupation relationship    race   gender  capital-gain  \\\n",
       "32556        Tech-support         Wife   White   Female             0   \n",
       "32557   Machine-op-inspct      Husband   White     Male             0   \n",
       "32558        Adm-clerical    Unmarried   White   Female             0   \n",
       "32559        Adm-clerical    Own-child   White     Male             0   \n",
       "32560     Exec-managerial         Wife   White   Female         15024   \n",
       "\n",
       "       capital-loss  hours-per-week  native-country  income  \n",
       "32556             0              38   United-States   <=50K  \n",
       "32557             0              40   United-States    >50K  \n",
       "32558             0              40   United-States   <=50K  \n",
       "32559             0              20   United-States   <=50K  \n",
       "32560             0              40   United-States    >50K  "
      ]
     },
     "execution_count": 103,
     "metadata": {},
     "output_type": "execute_result"
    }
   ],
   "source": [
    "\n",
    "\n",
    "# Load dataset of income \n",
    "data = pd.read_csv(\"adult.csv\", index_col=0)\n",
    "data.tail() # Data analysis protip - Always look at the last rows. It is sometimes the most recent data. Sometimes the first rows are mock data.\n"
   ]
  },
  {
   "cell_type": "code",
   "execution_count": 104,
   "id": "a751a5cd",
   "metadata": {},
   "outputs": [
    {
     "data": {
      "text/plain": [
       "age               False\n",
       "workclass          True\n",
       "education          True\n",
       "education-num     False\n",
       "marital-status     True\n",
       "occupation         True\n",
       "relationship       True\n",
       "race               True\n",
       "gender             True\n",
       "capital-gain      False\n",
       "capital-loss      False\n",
       "hours-per-week    False\n",
       "native-country     True\n",
       "dtype: bool"
      ]
     },
     "execution_count": 104,
     "metadata": {},
     "output_type": "execute_result"
    }
   ],
   "source": [
    "target   = data.income\n",
    "features = data.drop(\"income\", axis=1)\n",
    "\n",
    "# Find the categorical columns\n",
    "categorical_columns = (features.dtypes == object)\n",
    "categorical_columns"
   ]
  },
  {
   "cell_type": "code",
   "execution_count": 105,
   "id": "32730c3a",
   "metadata": {},
   "outputs": [],
   "source": [
    "from sklearn.model_selection import train_test_split\n",
    "\n",
    "X_train, X_test, y_train, y_test = train_test_split(features, target)"
   ]
  },
  {
   "cell_type": "code",
   "execution_count": 106,
   "id": "57159862",
   "metadata": {},
   "outputs": [
    {
     "data": {
      "text/plain": [
       "array([' <=50K', ' <=50K', ' <=50K', ..., ' <=50K', ' <=50K', ' <=50K'],\n",
       "      dtype=object)"
      ]
     },
     "execution_count": 106,
     "metadata": {},
     "output_type": "execute_result"
    }
   ],
   "source": [
    "from sklearn.pipeline        import Pipeline\n",
    "from sklearn.preprocessing   import StandardScaler, OneHotEncoder\n",
    "from sklearn.impute          import SimpleImputer\n",
    "\n",
    "# Setup two preprocessing pipelines\n",
    "con_pipe = Pipeline([('scaler', StandardScaler()),\n",
    "                      ('imputer', SimpleImputer(strategy='median', add_indicator=True))])\n",
    "\n",
    "cat_pipe = Pipeline([('ohe', OneHotEncoder(handle_unknown='ignore')),\n",
    "                     ('imputer', SimpleImputer(strategy='most_frequent', add_indicator=True))])\n",
    "\n",
    "# Put them to together\n",
    "from sklearn.compose         import ColumnTransformer\n",
    "\n",
    "preprocessing = ColumnTransformer([('categorical', cat_pipe,  categorical_columns),\n",
    "                                   ('continuous',  con_pipe, ~categorical_columns),\n",
    "                                   ])\n",
    "\n",
    "# Add the algorithm \n",
    "from sklearn.linear_model    import LogisticRegression\n",
    "\n",
    "pipe = Pipeline([('preprocessing', preprocessing), \n",
    "                 ('clf', LogisticRegression(solver='liblinear'))])\n",
    "pipe.fit(X_train, y_train)\n",
    "pipe.predict(X_test)"
   ]
  },
  {
   "cell_type": "markdown",
   "id": "dangerous-priority",
   "metadata": {
    "slideshow": {
     "slide_type": "slide"
    }
   },
   "source": [
    "<center><h2>Takeaways</h2></center>\n",
    "\n",
    "- Scikit-learn's Pipelines can encapsulate all modeling steps.\n"
   ]
  },
  {
   "cell_type": "markdown",
   "id": "0c5611af",
   "metadata": {
    "slideshow": {
     "slide_type": "fragment"
    }
   },
   "source": [
    "- Pipelines act like a regular scikit-learn Estimator. Everything you would do with a regular algorithm, you can do with a Pipeline.\n"
   ]
  },
  {
   "cell_type": "markdown",
   "id": "31f69d4b",
   "metadata": {
    "slideshow": {
     "slide_type": "fragment"
    }
   },
   "source": [
    "\n",
    "- Scikit-learn's Pipelines are helpful for writing more readable, robust, and maintainable code.\n"
   ]
  },
  {
   "cell_type": "markdown",
   "id": "ad037aac",
   "metadata": {
    "slideshow": {
     "slide_type": "slide"
    }
   },
   "source": [
    "<br>\n",
    "<center><img src=\"images/thank_you.png\" width=\"75%\"/></center>\n",
    "<center>All these materials are in a GitHub repo:</center>   \n",
    "<center><a href=\"https://bit.ly/pipeline-metis\">bit.ly/pipeline-metis</a></center>   \n",
    "\n"
   ]
  },
  {
   "cell_type": "markdown",
   "id": "aafeac07",
   "metadata": {
    "slideshow": {
     "slide_type": "skip"
    }
   },
   "source": [
    "<center><h2>Bonus Material</h2></center>"
   ]
  },
  {
   "cell_type": "markdown",
   "id": "34145406",
   "metadata": {
    "slideshow": {
     "slide_type": "slide"
    }
   },
   "source": [
    "<center><img src=\"https://imgs.xkcd.com/comics/data_pipeline.png\" width=\"75%\"/></center>\n"
   ]
  },
  {
   "cell_type": "markdown",
   "id": "exciting-bulgaria",
   "metadata": {
    "slideshow": {
     "slide_type": "skip"
    }
   },
   "source": [
    "<center><h2>Sources of Inspiration</h2></center>\n",
    "\n",
    "- [Advanced Machine Learning with Scikit-learn](https://www.youtube.com/watch?v=7l_WQO3JbWE&ab_channel=rakutentech)\n",
    "- https://jakevdp.github.io/PythonDataScienceHandbook/05.02-introducing-scikit-learn.html\n",
    "- [Kevin Goetsch | Deploying Machine Learning using sklearn pipelines](https://www.youtube.com/watch?v=URdnFlZnlaE&ab_channel=PyData)\n",
    "- https://towardsdatascience.com/introduction-to-scikit-learns-pipelines-565cc549754a\n",
    "- https://www.kdnuggets.com/2017/12/managing-machine-learning-workflows-scikit-learn-pipelines-part-1.html"
   ]
  },
  {
   "cell_type": "markdown",
   "id": "f67ccdc1",
   "metadata": {
    "slideshow": {
     "slide_type": "skip"
    }
   },
   "source": [
    "<center><h2>Check for understanding</h2></center> \n",
    "\n",
    "Please order the lettered steps to build a valid pipeline\n",
    "\n",
    "```python\n",
    "from sklearn.datasets        import load_boston \n",
    "from sklearn.linear_model    import LinearRegression\n",
    "from sklearn.model_selection import train_test_split\n",
    "from sklearn.pipeline        import Pipeline\n",
    "from sklearn.preprocessing   import StandardScaler\n",
    "\n",
    "\n",
    "# A \n",
    "pipe.fit(X_train, y_train)\n",
    "\n",
    "# B\n",
    "X_train, X_test, y_train, y_test= train_test_split(X, y)\n",
    "\n",
    "# C\n",
    "X, y = load_boston(return_X_y=True)\n",
    "\n",
    "# D\n",
    "pipe.predict(X_test)\n",
    "\n",
    "# E\n",
    "pipe = Pipeline([('scaler', StandardScaler()), \n",
    "                 ('lr',     LinearRegression())])\n",
    "```"
   ]
  },
  {
   "cell_type": "markdown",
   "id": "881bc47f",
   "metadata": {
    "slideshow": {
     "slide_type": "skip"
    }
   },
   "source": [
    "<br>\n",
    "<br> \n",
    "<br>\n",
    "\n",
    "----"
   ]
  }
 ],
 "metadata": {
  "celltoolbar": "Slideshow",
  "kernelspec": {
   "display_name": "Python 3 (ipykernel)",
   "language": "python",
   "name": "python3"
  },
  "language_info": {
   "codemirror_mode": {
    "name": "ipython",
    "version": 3
   },
   "file_extension": ".py",
   "mimetype": "text/x-python",
   "name": "python",
   "nbconvert_exporter": "python",
   "pygments_lexer": "ipython3",
   "version": "3.9.9"
  },
  "toc": {
   "base_numbering": 1,
   "nav_menu": {},
   "number_sections": false,
   "sideBar": false,
   "skip_h1_title": false,
   "title_cell": "Table of Contents",
   "title_sidebar": "Contents",
   "toc_cell": true,
   "toc_position": {},
   "toc_section_display": true,
   "toc_window_display": false
  }
 },
 "nbformat": 4,
 "nbformat_minor": 5
}
