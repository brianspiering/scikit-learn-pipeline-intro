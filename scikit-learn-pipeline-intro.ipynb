{
 "cells": [
  {
   "cell_type": "markdown",
   "id": "higher-label",
   "metadata": {
    "slideshow": {
     "slide_type": "skip"
    },
    "toc": true
   },
   "source": [
    "<h1>Table of Contents<span class=\"tocSkip\"></span></h1>\n",
    "<div class=\"toc\"><ul class=\"toc-item\"><li><span><a href=\"#Introduction-to-scikit-learn's-pipelines\" data-toc-modified-id=\"Introduction-to-scikit-learn's-pipelines-1\">Introduction to scikit-learn's pipelines</a></span></li><li><span><a href=\"#by-Brian-Spiering\" data-toc-modified-id=\"by-Brian-Spiering-2\">by Brian Spiering</a></span></li><li><span><a href=\"#Who-am-I?\" data-toc-modified-id=\"Who-am-I?-3\">Who am I?</a></span></li><li><span><a href=\"#Motivating-Story\" data-toc-modified-id=\"Motivating-Story-4\">Motivating Story</a></span></li><li><span><a href=\"#Learning-Outcomes\" data-toc-modified-id=\"Learning-Outcomes-5\">Learning Outcomes</a></span></li><li><span><a href=\"#Scikit-learn-Package-Review\" data-toc-modified-id=\"Scikit-learn-Package-Review-6\">Scikit-learn Package Review</a></span></li><li><span><a href=\"#Scikit-learn's-Estimator\" data-toc-modified-id=\"Scikit-learn's-Estimator-7\">Scikit-learn's Estimator</a></span></li><li><span><a href=\"#&quot;Programming-is-all-about-managing-complexity&quot;\" data-toc-modified-id=\"&quot;Programming-is-all-about-managing-complexity&quot;-8\">\"Programming is all about managing complexity\"</a></span></li><li><span><a href=\"#Pipeline-advantages\" data-toc-modified-id=\"Pipeline-advantages-9\">Pipeline advantages</a></span></li><li><span><a href=\"#Automate-fitting-many-models-with-a-pipeline\" data-toc-modified-id=\"Automate-fitting-many-models-with-a-pipeline-10\">Automate fitting many models with a pipeline</a></span></li><li><span><a href=\"#Pipelines-automatically-apply-the-correct-steps-\" data-toc-modified-id=\"Pipelines-automatically-apply-the-correct-steps--11\">Pipelines automatically apply the correct steps </a></span></li><li><span><a href=\"#Transformations-based-on-column-type-\" data-toc-modified-id=\"Transformations-based-on-column-type--12\">Transformations based on column type </a></span></li><li><span><a href=\"#Takeaways\" data-toc-modified-id=\"Takeaways-13\">Takeaways</a></span></li><li><span><a href=\"#Bonus-Material\" data-toc-modified-id=\"Bonus-Material-14\">Bonus Material</a></span></li><li><span><a href=\"#Sources-of-Inspiration\" data-toc-modified-id=\"Sources-of-Inspiration-15\">Sources of Inspiration</a></span></li><li><span><a href=\"#Check-for-understanding\" data-toc-modified-id=\"Check-for-understanding-16\">Check for understanding</a></span></li></ul></div>"
   ]
  },
  {
   "cell_type": "markdown",
   "id": "suitable-black",
   "metadata": {
    "slideshow": {
     "slide_type": "slide"
    }
   },
   "source": [
    "<center><h2>Introduction to scikit-learn's pipelines</h2></center>\n",
    "<center><h2>by Brian Spiering</h2></center>\n",
    "\n",
    "<br>\n",
    "<br>\n",
    "<center><img src=\"images/pipeline_intro.png\" width=\"100%\"/></center>"
   ]
  },
  {
   "cell_type": "markdown",
   "id": "44a06cbb",
   "metadata": {
    "slideshow": {
     "slide_type": "slide"
    }
   },
   "source": [
    "<center><h2>Who am I?</h2></center>\n",
    "<center><img src=\"images/hi.png\" width=\"45%\"/></center>\n",
    "<center>Brian Spiering</center>\n",
    "<center>A Data Science Instructor at Metis</center>"
   ]
  },
  {
   "cell_type": "markdown",
   "id": "c96dcf6f",
   "metadata": {
    "slideshow": {
     "slide_type": "slide"
    }
   },
   "source": [
    "<br>\n",
    "<center><img src=\"images/olympic_rings.jpeg\" width=\"75%\"/></center>"
   ]
  },
  {
   "cell_type": "markdown",
   "id": "a4a2873f",
   "metadata": {
    "slideshow": {
     "slide_type": "skip"
    }
   },
   "source": [
    "[Image Source](https://compote.slate.com/images/005266c4-3c9f-416e-b2a4-f421e23ce879.jpeg?width=780&height=520&rect=1560x1040&offset=0x0)"
   ]
  },
  {
   "cell_type": "markdown",
   "id": "44325466",
   "metadata": {
    "slideshow": {
     "slide_type": "skip"
    }
   },
   "source": [
    "<center><h2>Motivating Story</h2></center>\n",
    "\n",
    "Image you are working as junior Data Scientist at a media company related to the Olympics. You have just built your first model to predict which athletes will be the biggest influencers in the near future. \n",
    "\n",
    "It took a while to find the right data, clean it and organize it, and fit that first algorithm. Now you boss says those dreaded words, \"Does your code scale?\"...\n",
    "\n",
    "Today I'm going to show you how to start on that path towards scale and improving your machine learning programming skills."
   ]
  },
  {
   "cell_type": "markdown",
   "id": "linear-peninsula",
   "metadata": {
    "slideshow": {
     "slide_type": "skip"
    }
   },
   "source": [
    "<center><h2>Learning Outcomes</h2></center>\n",
    "\n",
    "__By the end of this session, you should be able to__:\n",
    "\n",
    "- Describe what is scikit-learn's pipeline.\n",
    "- List the advantages of using scikit-learn's pipeline.\n",
    "- Code scikit-learn pipelines to automate machine learning."
   ]
  },
  {
   "cell_type": "markdown",
   "id": "occasional-politics",
   "metadata": {
    "slideshow": {
     "slide_type": "slide"
    }
   },
   "source": [
    "<center><h2>Scikit-learn Package Review</h2></center>\n",
    "\n",
    "<br>\n",
    "<center><img src=\"images/1200px-Scikit_learn_logo_small.svg.png\" width=\"35%\"/></center>"
   ]
  },
  {
   "cell_type": "markdown",
   "id": "8dff72ce",
   "metadata": {
    "slideshow": {
     "slide_type": "skip"
    }
   },
   "source": [
    "You should already be familiar the fundamentals of scikit-learn.\n",
    "\n",
    "Scikit-learn is a Python library for traditional machine learning.\n",
    "\n",
    "Scikit-learn features:\n",
    "\n",
    "- Open source\n",
    "- Well-established\n",
    "- Comprehensive\n",
    "    - Handles pre-preprocessing, cleaning, feature extraction and selection, and cross-validation\n",
    "    - Most popular algorithms are included\n",
    "- Consistent, easy-to-use interface\n",
    "- Object-oriented programming (OOP) / class based."
   ]
  },
  {
   "cell_type": "code",
   "execution_count": 43,
   "id": "4cc0d1c0",
   "metadata": {
    "slideshow": {
     "slide_type": "slide"
    }
   },
   "outputs": [],
   "source": [
    "# Scikit-learn Example"
   ]
  },
  {
   "cell_type": "code",
   "execution_count": 44,
   "id": "429d87e5",
   "metadata": {
    "slideshow": {
     "slide_type": "skip"
    }
   },
   "outputs": [],
   "source": [
    "reset -fs"
   ]
  },
  {
   "cell_type": "code",
   "execution_count": 61,
   "id": "6f43105d",
   "metadata": {
    "slideshow": {
     "slide_type": "fragment"
    }
   },
   "outputs": [],
   "source": [
    "# Create sample data \n",
    "import numpy as np\n",
    "\n",
    "#             Number of followers, number of posts\n",
    "X = np.array([[121_883, 2_921],    [192_981, 6_9231]]) \n",
    "#             Number of likes\n",
    "y = np.array([[10_342],            [17_841]])         "
   ]
  },
  {
   "cell_type": "code",
   "execution_count": 62,
   "id": "f18341e8",
   "metadata": {
    "slideshow": {
     "slide_type": "slide"
    }
   },
   "outputs": [
    {
     "data": {
      "text/html": [
       "<style>#sk-7d8f240a-3437-482e-8087-325ac5f4f73e {color: black;background-color: white;}#sk-7d8f240a-3437-482e-8087-325ac5f4f73e pre{padding: 0;}#sk-7d8f240a-3437-482e-8087-325ac5f4f73e div.sk-toggleable {background-color: white;}#sk-7d8f240a-3437-482e-8087-325ac5f4f73e label.sk-toggleable__label {cursor: pointer;display: block;width: 100%;margin-bottom: 0;padding: 0.3em;box-sizing: border-box;text-align: center;}#sk-7d8f240a-3437-482e-8087-325ac5f4f73e div.sk-toggleable__content {max-height: 0;max-width: 0;overflow: hidden;text-align: left;background-color: #f0f8ff;}#sk-7d8f240a-3437-482e-8087-325ac5f4f73e div.sk-toggleable__content pre {margin: 0.2em;color: black;border-radius: 0.25em;background-color: #f0f8ff;}#sk-7d8f240a-3437-482e-8087-325ac5f4f73e input.sk-toggleable__control:checked~div.sk-toggleable__content {max-height: 200px;max-width: 100%;overflow: auto;}#sk-7d8f240a-3437-482e-8087-325ac5f4f73e div.sk-estimator input.sk-toggleable__control:checked~label.sk-toggleable__label {background-color: #d4ebff;}#sk-7d8f240a-3437-482e-8087-325ac5f4f73e div.sk-label input.sk-toggleable__control:checked~label.sk-toggleable__label {background-color: #d4ebff;}#sk-7d8f240a-3437-482e-8087-325ac5f4f73e input.sk-hidden--visually {border: 0;clip: rect(1px 1px 1px 1px);clip: rect(1px, 1px, 1px, 1px);height: 1px;margin: -1px;overflow: hidden;padding: 0;position: absolute;width: 1px;}#sk-7d8f240a-3437-482e-8087-325ac5f4f73e div.sk-estimator {font-family: monospace;background-color: #f0f8ff;border: 1px dotted black;border-radius: 0.25em;box-sizing: border-box;margin-bottom: 0.5em;}#sk-7d8f240a-3437-482e-8087-325ac5f4f73e div.sk-estimator:hover {background-color: #d4ebff;}#sk-7d8f240a-3437-482e-8087-325ac5f4f73e div.sk-parallel-item::after {content: \"\";width: 100%;border-bottom: 1px solid gray;flex-grow: 1;}#sk-7d8f240a-3437-482e-8087-325ac5f4f73e div.sk-label:hover label.sk-toggleable__label {background-color: #d4ebff;}#sk-7d8f240a-3437-482e-8087-325ac5f4f73e div.sk-serial::before {content: \"\";position: absolute;border-left: 1px solid gray;box-sizing: border-box;top: 2em;bottom: 0;left: 50%;}#sk-7d8f240a-3437-482e-8087-325ac5f4f73e div.sk-serial {display: flex;flex-direction: column;align-items: center;background-color: white;padding-right: 0.2em;padding-left: 0.2em;}#sk-7d8f240a-3437-482e-8087-325ac5f4f73e div.sk-item {z-index: 1;}#sk-7d8f240a-3437-482e-8087-325ac5f4f73e div.sk-parallel {display: flex;align-items: stretch;justify-content: center;background-color: white;}#sk-7d8f240a-3437-482e-8087-325ac5f4f73e div.sk-parallel::before {content: \"\";position: absolute;border-left: 1px solid gray;box-sizing: border-box;top: 2em;bottom: 0;left: 50%;}#sk-7d8f240a-3437-482e-8087-325ac5f4f73e div.sk-parallel-item {display: flex;flex-direction: column;position: relative;background-color: white;}#sk-7d8f240a-3437-482e-8087-325ac5f4f73e div.sk-parallel-item:first-child::after {align-self: flex-end;width: 50%;}#sk-7d8f240a-3437-482e-8087-325ac5f4f73e div.sk-parallel-item:last-child::after {align-self: flex-start;width: 50%;}#sk-7d8f240a-3437-482e-8087-325ac5f4f73e div.sk-parallel-item:only-child::after {width: 0;}#sk-7d8f240a-3437-482e-8087-325ac5f4f73e div.sk-dashed-wrapped {border: 1px dashed gray;margin: 0 0.4em 0.5em 0.4em;box-sizing: border-box;padding-bottom: 0.4em;background-color: white;position: relative;}#sk-7d8f240a-3437-482e-8087-325ac5f4f73e div.sk-label label {font-family: monospace;font-weight: bold;background-color: white;display: inline-block;line-height: 1.2em;}#sk-7d8f240a-3437-482e-8087-325ac5f4f73e div.sk-label-container {position: relative;z-index: 2;text-align: center;}#sk-7d8f240a-3437-482e-8087-325ac5f4f73e div.sk-container {display: inline-block;position: relative;}</style><div id=\"sk-7d8f240a-3437-482e-8087-325ac5f4f73e\" class\"sk-top-container\"><div class=\"sk-container\"><div class=\"sk-item\"><div class=\"sk-estimator sk-toggleable\"><input class=\"sk-toggleable__control sk-hidden--visually\" id=\"149b0ccd-e38c-4e7a-a5cd-12a376b5fa37\" type=\"checkbox\" checked><label class=\"sk-toggleable__label\" for=\"149b0ccd-e38c-4e7a-a5cd-12a376b5fa37\">LinearRegression</label><div class=\"sk-toggleable__content\"><pre>LinearRegression()</pre></div></div></div></div></div>"
      ],
      "text/plain": [
       "LinearRegression()"
      ]
     },
     "execution_count": 62,
     "metadata": {},
     "output_type": "execute_result"
    }
   ],
   "source": [
    "# Build a scikit-learn model \n",
    "from sklearn.linear_model  import LinearRegression\n",
    "\n",
    "lr = LinearRegression()\n",
    "lr.fit(X, y)"
   ]
  },
  {
   "cell_type": "code",
   "execution_count": 63,
   "id": "4f2f215c",
   "metadata": {
    "slideshow": {
     "slide_type": "fragment"
    }
   },
   "outputs": [
    {
     "name": "stdout",
     "output_type": "stream",
     "text": [
      "11,699\n"
     ]
    }
   ],
   "source": [
    "# For a new account, what is the predicted number of likes?\n",
    "# Number of followers, number of posts\n",
    "new_account = [143_231, 5_823] \n",
    "predicted_number_of_likes = lr.predict(np.array([new_account]))[0][0]\n",
    "print(f\"{predicted_number_of_likes:,.0f}\")"
   ]
  },
  {
   "cell_type": "markdown",
   "id": "alpha-excitement",
   "metadata": {
    "slideshow": {
     "slide_type": "slide"
    }
   },
   "source": [
    "<center><h2>Scikit-learn's Estimator</h2></center>\n",
    "\n",
    "Estimator is a consistent interface for all scikit-learn algorithms. \n",
    "\n",
    "All estimators have a fit method:\n",
    "`estimator.fit(X, [y])` \n",
    "\n"
   ]
  },
  {
   "cell_type": "markdown",
   "id": "42981fef",
   "metadata": {
    "slideshow": {
     "slide_type": "slide"
    }
   },
   "source": [
    "__Estimators have other methods__:\n",
    "\n",
    "- `estimator.predict`\n",
    "    - Classification\n",
    "    - Regression\n",
    "    - Clustering"
   ]
  },
  {
   "cell_type": "markdown",
   "id": "0679661e",
   "metadata": {
    "slideshow": {
     "slide_type": "fragment"
    }
   },
   "source": [
    "- `estimator.transform` (thus, called Transformers)\n",
    "    - Preprocessing\n",
    "    - Dimensionality reduction\n",
    "    - Feature selection"
   ]
  },
  {
   "cell_type": "markdown",
   "id": "c0457bf4",
   "metadata": {
    "slideshow": {
     "slide_type": "skip"
    }
   },
   "source": [
    "X is required.  \n",
    "y is optional."
   ]
  },
  {
   "attachments": {},
   "cell_type": "markdown",
   "id": "covered-interface",
   "metadata": {
    "slideshow": {
     "slide_type": "slide"
    }
   },
   "source": [
    "<center><img src=\"images/pipeline_real_world.jpg\" width=\"55%\"/></center>\n",
    "\n",
    "Pipelines are a very useful idea.\n",
    "\n",
    "Pipelines allow things (oil or data) to move without losing any of the precious resource.\n",
    "\n",
    "Pipelines have modular segments. If section needs to be improved, only that section needs to be replaced."
   ]
  },
  {
   "cell_type": "markdown",
   "id": "failing-trunk",
   "metadata": {
    "slideshow": {
     "slide_type": "slide"
    }
   },
   "source": [
    "<center><h2>\"Programming is all about managing complexity\"</h2></center>\n",
    "\n",
    "Abstractions help us do that.\n",
    "\n",
    "Pipelines are a great abstraction.\n",
    "\n",
    "Instead of tracking every step, we just create and pass a Pipeline object. An example of encapsulation.\n"
   ]
  },
  {
   "cell_type": "markdown",
   "id": "2cab37f1",
   "metadata": {
    "slideshow": {
     "slide_type": "skip"
    }
   },
   "source": [
    "[Source](https://stackoverflow.com/questions/33091376/python-what-is-exactly-sklearn-pipeline-pipeline)"
   ]
  },
  {
   "cell_type": "code",
   "execution_count": 48,
   "id": "another-alarm",
   "metadata": {
    "slideshow": {
     "slide_type": "slide"
    }
   },
   "outputs": [
    {
     "data": {
      "text/html": [
       "<style>#sk-24af8705-2c04-4c58-81e3-33c187f13614 {color: black;background-color: white;}#sk-24af8705-2c04-4c58-81e3-33c187f13614 pre{padding: 0;}#sk-24af8705-2c04-4c58-81e3-33c187f13614 div.sk-toggleable {background-color: white;}#sk-24af8705-2c04-4c58-81e3-33c187f13614 label.sk-toggleable__label {cursor: pointer;display: block;width: 100%;margin-bottom: 0;padding: 0.3em;box-sizing: border-box;text-align: center;}#sk-24af8705-2c04-4c58-81e3-33c187f13614 div.sk-toggleable__content {max-height: 0;max-width: 0;overflow: hidden;text-align: left;background-color: #f0f8ff;}#sk-24af8705-2c04-4c58-81e3-33c187f13614 div.sk-toggleable__content pre {margin: 0.2em;color: black;border-radius: 0.25em;background-color: #f0f8ff;}#sk-24af8705-2c04-4c58-81e3-33c187f13614 input.sk-toggleable__control:checked~div.sk-toggleable__content {max-height: 200px;max-width: 100%;overflow: auto;}#sk-24af8705-2c04-4c58-81e3-33c187f13614 div.sk-estimator input.sk-toggleable__control:checked~label.sk-toggleable__label {background-color: #d4ebff;}#sk-24af8705-2c04-4c58-81e3-33c187f13614 div.sk-label input.sk-toggleable__control:checked~label.sk-toggleable__label {background-color: #d4ebff;}#sk-24af8705-2c04-4c58-81e3-33c187f13614 input.sk-hidden--visually {border: 0;clip: rect(1px 1px 1px 1px);clip: rect(1px, 1px, 1px, 1px);height: 1px;margin: -1px;overflow: hidden;padding: 0;position: absolute;width: 1px;}#sk-24af8705-2c04-4c58-81e3-33c187f13614 div.sk-estimator {font-family: monospace;background-color: #f0f8ff;border: 1px dotted black;border-radius: 0.25em;box-sizing: border-box;margin-bottom: 0.5em;}#sk-24af8705-2c04-4c58-81e3-33c187f13614 div.sk-estimator:hover {background-color: #d4ebff;}#sk-24af8705-2c04-4c58-81e3-33c187f13614 div.sk-parallel-item::after {content: \"\";width: 100%;border-bottom: 1px solid gray;flex-grow: 1;}#sk-24af8705-2c04-4c58-81e3-33c187f13614 div.sk-label:hover label.sk-toggleable__label {background-color: #d4ebff;}#sk-24af8705-2c04-4c58-81e3-33c187f13614 div.sk-serial::before {content: \"\";position: absolute;border-left: 1px solid gray;box-sizing: border-box;top: 2em;bottom: 0;left: 50%;}#sk-24af8705-2c04-4c58-81e3-33c187f13614 div.sk-serial {display: flex;flex-direction: column;align-items: center;background-color: white;padding-right: 0.2em;padding-left: 0.2em;}#sk-24af8705-2c04-4c58-81e3-33c187f13614 div.sk-item {z-index: 1;}#sk-24af8705-2c04-4c58-81e3-33c187f13614 div.sk-parallel {display: flex;align-items: stretch;justify-content: center;background-color: white;}#sk-24af8705-2c04-4c58-81e3-33c187f13614 div.sk-parallel::before {content: \"\";position: absolute;border-left: 1px solid gray;box-sizing: border-box;top: 2em;bottom: 0;left: 50%;}#sk-24af8705-2c04-4c58-81e3-33c187f13614 div.sk-parallel-item {display: flex;flex-direction: column;position: relative;background-color: white;}#sk-24af8705-2c04-4c58-81e3-33c187f13614 div.sk-parallel-item:first-child::after {align-self: flex-end;width: 50%;}#sk-24af8705-2c04-4c58-81e3-33c187f13614 div.sk-parallel-item:last-child::after {align-self: flex-start;width: 50%;}#sk-24af8705-2c04-4c58-81e3-33c187f13614 div.sk-parallel-item:only-child::after {width: 0;}#sk-24af8705-2c04-4c58-81e3-33c187f13614 div.sk-dashed-wrapped {border: 1px dashed gray;margin: 0 0.4em 0.5em 0.4em;box-sizing: border-box;padding-bottom: 0.4em;background-color: white;position: relative;}#sk-24af8705-2c04-4c58-81e3-33c187f13614 div.sk-label label {font-family: monospace;font-weight: bold;background-color: white;display: inline-block;line-height: 1.2em;}#sk-24af8705-2c04-4c58-81e3-33c187f13614 div.sk-label-container {position: relative;z-index: 2;text-align: center;}#sk-24af8705-2c04-4c58-81e3-33c187f13614 div.sk-container {display: inline-block;position: relative;}</style><div id=\"sk-24af8705-2c04-4c58-81e3-33c187f13614\" class\"sk-top-container\"><div class=\"sk-container\"><div class=\"sk-item sk-dashed-wrapped\"><div class=\"sk-label-container\"><div class=\"sk-label sk-toggleable\"><input class=\"sk-toggleable__control sk-hidden--visually\" id=\"2430710a-6e93-4082-aaf4-f1098666b692\" type=\"checkbox\" ><label class=\"sk-toggleable__label\" for=\"2430710a-6e93-4082-aaf4-f1098666b692\">Pipeline</label><div class=\"sk-toggleable__content\"><pre>Pipeline(steps=[('scaler', StandardScaler()), ('lr', LinearRegression())])</pre></div></div></div><div class=\"sk-serial\"><div class=\"sk-item\"><div class=\"sk-estimator sk-toggleable\"><input class=\"sk-toggleable__control sk-hidden--visually\" id=\"dc95e16b-e988-494a-8a28-a2fe174d4b9d\" type=\"checkbox\" ><label class=\"sk-toggleable__label\" for=\"dc95e16b-e988-494a-8a28-a2fe174d4b9d\">StandardScaler</label><div class=\"sk-toggleable__content\"><pre>StandardScaler()</pre></div></div></div><div class=\"sk-item\"><div class=\"sk-estimator sk-toggleable\"><input class=\"sk-toggleable__control sk-hidden--visually\" id=\"ad4f7d71-0f9e-4c58-ab86-84c80c63f892\" type=\"checkbox\" ><label class=\"sk-toggleable__label\" for=\"ad4f7d71-0f9e-4c58-ab86-84c80c63f892\">LinearRegression</label><div class=\"sk-toggleable__content\"><pre>LinearRegression()</pre></div></div></div></div></div></div></div>"
      ],
      "text/plain": [
       "Pipeline(steps=[('scaler', StandardScaler()), ('lr', LinearRegression())])"
      ]
     },
     "execution_count": 48,
     "metadata": {},
     "output_type": "execute_result"
    }
   ],
   "source": [
    "# scikit-learn pipeline example\n",
    "from sklearn.pipeline      import Pipeline\n",
    "from sklearn.preprocessing import StandardScaler\n",
    "\n",
    "\n",
    "pipe = Pipeline([('scaler', StandardScaler()), \n",
    "                 ('lr',     LinearRegression())])\n",
    "\n",
    "pipe.fit(X, y)"
   ]
  },
  {
   "cell_type": "code",
   "execution_count": 49,
   "id": "c9280cca",
   "metadata": {
    "slideshow": {
     "slide_type": "fragment"
    }
   },
   "outputs": [
    {
     "data": {
      "text/plain": [
       "array([[3749.5541554]])"
      ]
     },
     "execution_count": 49,
     "metadata": {},
     "output_type": "execute_result"
    }
   ],
   "source": [
    "# Predict new, unlabeled data \n",
    "pipe.predict([[3.2, 5.4]])"
   ]
  },
  {
   "cell_type": "markdown",
   "id": "personal-telescope",
   "metadata": {
    "slideshow": {
     "slide_type": "slide"
    }
   },
   "source": [
    "<center><h2>Pipeline advantages</h2></center>\n",
    "\n",
    "- Encapsulation all steps in a single object. Pipeline can be evaluated and tuned as a single entity.\n"
   ]
  },
  {
   "cell_type": "markdown",
   "id": "8bd39f4f",
   "metadata": {
    "slideshow": {
     "slide_type": "fragment"
    }
   },
   "source": [
    "- Apply the appropriate steps to training and test datasets.\n",
    "\n"
   ]
  },
  {
   "cell_type": "markdown",
   "id": "784d7cdf",
   "metadata": {
    "slideshow": {
     "slide_type": "fragment"
    }
   },
   "source": [
    "- Pipeline will also help prevent data leakage, i.e. disclosing some testing data in your training data.\n"
   ]
  },
  {
   "cell_type": "markdown",
   "id": "0e878c4a",
   "metadata": {
    "slideshow": {
     "slide_type": "fragment"
    }
   },
   "source": [
    "- Plays nicely with cross validation (CV) - feature selection within CV loops."
   ]
  },
  {
   "cell_type": "code",
   "execution_count": 50,
   "id": "e2aa1656",
   "metadata": {
    "slideshow": {
     "slide_type": "skip"
    }
   },
   "outputs": [],
   "source": [
    "from sklearn.datasets        import load_diabetes \n",
    "from sklearn.linear_model    import LinearRegression\n",
    "from sklearn.model_selection import train_test_split\n",
    "from sklearn.pipeline        import Pipeline\n",
    "from sklearn.preprocessing   import StandardScaler"
   ]
  },
  {
   "cell_type": "code",
   "execution_count": 51,
   "id": "e0287e06",
   "metadata": {
    "slideshow": {
     "slide_type": "slide"
    }
   },
   "outputs": [],
   "source": [
    "# More complex example\n",
    "X, y = load_diabetes(return_X_y=True)\n",
    "X_train, X_test, y_train, y_test= train_test_split(X, y)"
   ]
  },
  {
   "cell_type": "code",
   "execution_count": 52,
   "id": "10a482b6",
   "metadata": {
    "slideshow": {
     "slide_type": "fragment"
    }
   },
   "outputs": [
    {
     "data": {
      "text/plain": [
       "array([170.39632929, 114.89828756, 156.03863721, 198.45249587,\n",
       "       125.45020297, 187.29219425, 140.02437685, 118.59902455,\n",
       "        79.99436638, 225.33252247, 234.21328106,  94.82555599,\n",
       "       178.85075383, 124.67217555, 173.0326446 , 246.26561178,\n",
       "        64.72508774, 255.78337396, 139.84992491, 104.43254807,\n",
       "       207.31275105, 157.59998094, 202.51198325,  73.84082514,\n",
       "       109.51640818, 167.61547555, 212.23531553, 202.90381703,\n",
       "       247.8043902 , 190.38039034, 130.3937077 ,  49.70641363,\n",
       "       130.04620726, 101.93421435, 227.57822317, 237.90253711,\n",
       "        70.03639395, 135.61960831, 203.08328508,  94.19070737,\n",
       "       231.17578772, 102.17084446, 168.1626395 , 171.25359239,\n",
       "       110.27459226,  58.51032962, 229.91614505, 127.34258803,\n",
       "       157.03225246, 215.38643228,  87.95841416, 125.13477022,\n",
       "       146.60717741, 134.89090937, 105.0658829 , 126.87703461,\n",
       "        83.2795432 , 107.53079025, 165.91079297, 157.98174182,\n",
       "        99.97894709, 184.90132015, 175.36485769,  56.69038599,\n",
       "       190.97559652,  99.99421772,  97.20722571,  43.14122789,\n",
       "       159.39485875, 198.6676859 , 235.55801565, 262.69543146,\n",
       "       136.91841529, 130.22714836, 145.16151952, 172.05009644,\n",
       "       269.63787376, 203.29139457,  68.33927213,  75.83301376,\n",
       "        77.85020178, 173.35313032, 107.54435678, 169.4972198 ,\n",
       "       177.17325029, 222.4084983 , 193.93864051, 192.89735932,\n",
       "       210.42233392, 194.80758692, 175.80520131, 123.00248165,\n",
       "       167.36088879, 113.04770546,  92.14637889, 109.73349507,\n",
       "       105.47990886, 141.40786861, 113.77602993,  75.60877534,\n",
       "       150.40668781,  96.59880888, 134.26581068, 119.39221471,\n",
       "       212.03519466, 158.2166814 ,  84.59249748,  70.62585891,\n",
       "       226.30926745,  82.20895258,  62.65427732])"
      ]
     },
     "execution_count": 52,
     "metadata": {},
     "output_type": "execute_result"
    }
   ],
   "source": [
    "pipe = Pipeline([('scaler', StandardScaler()), \n",
    "                 ('lr',     LinearRegression())])\n",
    "pipe.fit(X_train, y_train)\n",
    "pipe.predict(X_test)"
   ]
  },
  {
   "cell_type": "markdown",
   "id": "23950d35",
   "metadata": {
    "slideshow": {
     "slide_type": "slide"
    }
   },
   "source": [
    "<center><h2>Automate fitting many models with a pipeline</h2></center>\n"
   ]
  },
  {
   "cell_type": "code",
   "execution_count": 53,
   "id": "0575b884",
   "metadata": {
    "slideshow": {
     "slide_type": "skip"
    }
   },
   "outputs": [],
   "source": [
    "from sklearn.decomposition import PCA\n",
    "from sklearn.linear_model  import Lasso, Ridge, ElasticNet, HuberRegressor, BayesianRidge\n",
    "from sklearn.metrics       import mean_squared_error"
   ]
  },
  {
   "cell_type": "code",
   "execution_count": 54,
   "id": "af1999c3",
   "metadata": {
    "slideshow": {
     "slide_type": "fragment"
    }
   },
   "outputs": [
    {
     "name": "stdout",
     "output_type": "stream",
     "text": [
      "Mean squared error for diabetes dataset (regression): \n",
      "    LinearRegression: 2,770.29\n",
      "    Lasso           : 2,753.35\n",
      "    Ridge           : 2,770.18\n",
      "    ElasticNet      : 2,867.98\n",
      "    HuberRegressor  : 2,769.49\n",
      "    BayesianRidge   : 2,769.91\n"
     ]
    }
   ],
   "source": [
    "X_train, X_validation, y_train, y_validation= train_test_split(X, y, random_state=42)\n",
    "\n",
    "# Programmatically fit \n",
    "algorithms = [LinearRegression(), Lasso(), Ridge(), ElasticNet(), HuberRegressor(), BayesianRidge()]\n",
    "results = dict()\n",
    "\n",
    "print(\"Mean squared error for diabetes dataset (regression): \")\n",
    "for algo in algorithms:\n",
    "    pipe = Pipeline([('scaler', StandardScaler()), \n",
    "                     ('pca',    PCA(n_components=5)),\n",
    "                     ('lm',     algo)])\n",
    "\n",
    "    pipe.fit(X_train, y_train)\n",
    "    y_pred = pipe.predict(X_validation)\n",
    "    mse = mean_squared_error(y_validation, y_pred)\n",
    "    print(f\"    {algo.__class__.__name__:<16}: {mse:,.2f}\")"
   ]
  },
  {
   "cell_type": "markdown",
   "id": "alternate-tender",
   "metadata": {
    "slideshow": {
     "slide_type": "slide"
    }
   },
   "source": [
    "<center><h2>Pipelines automatically apply the correct steps </h2></center>\n",
    "<br>\n",
    "<center><img src=\"images/pipeline-diagram.png\" width=\"65%\"/></center>"
   ]
  },
  {
   "cell_type": "markdown",
   "id": "8745f5d5",
   "metadata": {
    "slideshow": {
     "slide_type": "skip"
    }
   },
   "source": [
    "Source: https://iaml.it/blog/optimizing-sklearn-pipelines/"
   ]
  },
  {
   "cell_type": "code",
   "execution_count": 55,
   "id": "562e42d0",
   "metadata": {
    "slideshow": {
     "slide_type": "slide"
    }
   },
   "outputs": [
    {
     "data": {
      "text/html": [
       "<style>#sk-16511785-f201-4798-b0d4-089ab59e446b {color: black;background-color: white;}#sk-16511785-f201-4798-b0d4-089ab59e446b pre{padding: 0;}#sk-16511785-f201-4798-b0d4-089ab59e446b div.sk-toggleable {background-color: white;}#sk-16511785-f201-4798-b0d4-089ab59e446b label.sk-toggleable__label {cursor: pointer;display: block;width: 100%;margin-bottom: 0;padding: 0.3em;box-sizing: border-box;text-align: center;}#sk-16511785-f201-4798-b0d4-089ab59e446b div.sk-toggleable__content {max-height: 0;max-width: 0;overflow: hidden;text-align: left;background-color: #f0f8ff;}#sk-16511785-f201-4798-b0d4-089ab59e446b div.sk-toggleable__content pre {margin: 0.2em;color: black;border-radius: 0.25em;background-color: #f0f8ff;}#sk-16511785-f201-4798-b0d4-089ab59e446b input.sk-toggleable__control:checked~div.sk-toggleable__content {max-height: 200px;max-width: 100%;overflow: auto;}#sk-16511785-f201-4798-b0d4-089ab59e446b div.sk-estimator input.sk-toggleable__control:checked~label.sk-toggleable__label {background-color: #d4ebff;}#sk-16511785-f201-4798-b0d4-089ab59e446b div.sk-label input.sk-toggleable__control:checked~label.sk-toggleable__label {background-color: #d4ebff;}#sk-16511785-f201-4798-b0d4-089ab59e446b input.sk-hidden--visually {border: 0;clip: rect(1px 1px 1px 1px);clip: rect(1px, 1px, 1px, 1px);height: 1px;margin: -1px;overflow: hidden;padding: 0;position: absolute;width: 1px;}#sk-16511785-f201-4798-b0d4-089ab59e446b div.sk-estimator {font-family: monospace;background-color: #f0f8ff;border: 1px dotted black;border-radius: 0.25em;box-sizing: border-box;margin-bottom: 0.5em;}#sk-16511785-f201-4798-b0d4-089ab59e446b div.sk-estimator:hover {background-color: #d4ebff;}#sk-16511785-f201-4798-b0d4-089ab59e446b div.sk-parallel-item::after {content: \"\";width: 100%;border-bottom: 1px solid gray;flex-grow: 1;}#sk-16511785-f201-4798-b0d4-089ab59e446b div.sk-label:hover label.sk-toggleable__label {background-color: #d4ebff;}#sk-16511785-f201-4798-b0d4-089ab59e446b div.sk-serial::before {content: \"\";position: absolute;border-left: 1px solid gray;box-sizing: border-box;top: 2em;bottom: 0;left: 50%;}#sk-16511785-f201-4798-b0d4-089ab59e446b div.sk-serial {display: flex;flex-direction: column;align-items: center;background-color: white;padding-right: 0.2em;padding-left: 0.2em;}#sk-16511785-f201-4798-b0d4-089ab59e446b div.sk-item {z-index: 1;}#sk-16511785-f201-4798-b0d4-089ab59e446b div.sk-parallel {display: flex;align-items: stretch;justify-content: center;background-color: white;}#sk-16511785-f201-4798-b0d4-089ab59e446b div.sk-parallel::before {content: \"\";position: absolute;border-left: 1px solid gray;box-sizing: border-box;top: 2em;bottom: 0;left: 50%;}#sk-16511785-f201-4798-b0d4-089ab59e446b div.sk-parallel-item {display: flex;flex-direction: column;position: relative;background-color: white;}#sk-16511785-f201-4798-b0d4-089ab59e446b div.sk-parallel-item:first-child::after {align-self: flex-end;width: 50%;}#sk-16511785-f201-4798-b0d4-089ab59e446b div.sk-parallel-item:last-child::after {align-self: flex-start;width: 50%;}#sk-16511785-f201-4798-b0d4-089ab59e446b div.sk-parallel-item:only-child::after {width: 0;}#sk-16511785-f201-4798-b0d4-089ab59e446b div.sk-dashed-wrapped {border: 1px dashed gray;margin: 0 0.4em 0.5em 0.4em;box-sizing: border-box;padding-bottom: 0.4em;background-color: white;position: relative;}#sk-16511785-f201-4798-b0d4-089ab59e446b div.sk-label label {font-family: monospace;font-weight: bold;background-color: white;display: inline-block;line-height: 1.2em;}#sk-16511785-f201-4798-b0d4-089ab59e446b div.sk-label-container {position: relative;z-index: 2;text-align: center;}#sk-16511785-f201-4798-b0d4-089ab59e446b div.sk-container {display: inline-block;position: relative;}</style><div id=\"sk-16511785-f201-4798-b0d4-089ab59e446b\" class\"sk-top-container\"><div class=\"sk-container\"><div class=\"sk-item sk-dashed-wrapped\"><div class=\"sk-label-container\"><div class=\"sk-label sk-toggleable\"><input class=\"sk-toggleable__control sk-hidden--visually\" id=\"8b9acde0-1e77-43e5-9c99-9880ad7f1041\" type=\"checkbox\" ><label class=\"sk-toggleable__label\" for=\"8b9acde0-1e77-43e5-9c99-9880ad7f1041\">Pipeline</label><div class=\"sk-toggleable__content\"><pre>Pipeline(steps=[('scaler', StandardScaler()), ('pca', PCA(n_components=5)),\n",
       "                ('lm', BayesianRidge())])</pre></div></div></div><div class=\"sk-serial\"><div class=\"sk-item\"><div class=\"sk-estimator sk-toggleable\"><input class=\"sk-toggleable__control sk-hidden--visually\" id=\"e91c1eb0-af38-4424-871f-67b636067160\" type=\"checkbox\" ><label class=\"sk-toggleable__label\" for=\"e91c1eb0-af38-4424-871f-67b636067160\">StandardScaler</label><div class=\"sk-toggleable__content\"><pre>StandardScaler()</pre></div></div></div><div class=\"sk-item\"><div class=\"sk-estimator sk-toggleable\"><input class=\"sk-toggleable__control sk-hidden--visually\" id=\"4f67da1b-fb69-468a-9e47-468b8e93b55c\" type=\"checkbox\" ><label class=\"sk-toggleable__label\" for=\"4f67da1b-fb69-468a-9e47-468b8e93b55c\">PCA</label><div class=\"sk-toggleable__content\"><pre>PCA(n_components=5)</pre></div></div></div><div class=\"sk-item\"><div class=\"sk-estimator sk-toggleable\"><input class=\"sk-toggleable__control sk-hidden--visually\" id=\"b44d69f7-14b3-4fa2-9581-670944f3751d\" type=\"checkbox\" ><label class=\"sk-toggleable__label\" for=\"b44d69f7-14b3-4fa2-9581-670944f3751d\">BayesianRidge</label><div class=\"sk-toggleable__content\"><pre>BayesianRidge()</pre></div></div></div></div></div></div></div>"
      ],
      "text/plain": [
       "Pipeline(steps=[('scaler', StandardScaler()), ('pca', PCA(n_components=5)),\n",
       "                ('lm', BayesianRidge())])"
      ]
     },
     "execution_count": 55,
     "metadata": {},
     "output_type": "execute_result"
    }
   ],
   "source": [
    "# Visualize pipeline\n",
    "\n",
    "from sklearn import set_config\n",
    "\n",
    "set_config(display='diagram')\n",
    "\n",
    "pipe"
   ]
  },
  {
   "cell_type": "markdown",
   "id": "b7b58c44",
   "metadata": {
    "slideshow": {
     "slide_type": "slide"
    }
   },
   "source": [
    "<center><h2>Transformations based on column type </h2></center>"
   ]
  },
  {
   "cell_type": "code",
   "execution_count": 56,
   "id": "ff642f57",
   "metadata": {
    "slideshow": {
     "slide_type": "skip"
    }
   },
   "outputs": [],
   "source": [
    "import pandas as pd"
   ]
  },
  {
   "cell_type": "code",
   "execution_count": 57,
   "id": "988c99b6",
   "metadata": {
    "slideshow": {
     "slide_type": "slide"
    }
   },
   "outputs": [
    {
     "data": {
      "text/html": [
       "<div>\n",
       "<style scoped>\n",
       "    .dataframe tbody tr th:only-of-type {\n",
       "        vertical-align: middle;\n",
       "    }\n",
       "\n",
       "    .dataframe tbody tr th {\n",
       "        vertical-align: top;\n",
       "    }\n",
       "\n",
       "    .dataframe thead th {\n",
       "        text-align: right;\n",
       "    }\n",
       "</style>\n",
       "<table border=\"1\" class=\"dataframe\">\n",
       "  <thead>\n",
       "    <tr style=\"text-align: right;\">\n",
       "      <th></th>\n",
       "      <th>age</th>\n",
       "      <th>workclass</th>\n",
       "      <th>education</th>\n",
       "      <th>education-num</th>\n",
       "      <th>marital-status</th>\n",
       "      <th>occupation</th>\n",
       "      <th>relationship</th>\n",
       "      <th>race</th>\n",
       "      <th>gender</th>\n",
       "      <th>capital-gain</th>\n",
       "      <th>capital-loss</th>\n",
       "      <th>hours-per-week</th>\n",
       "      <th>native-country</th>\n",
       "      <th>income</th>\n",
       "    </tr>\n",
       "  </thead>\n",
       "  <tbody>\n",
       "    <tr>\n",
       "      <th>32556</th>\n",
       "      <td>27</td>\n",
       "      <td>Private</td>\n",
       "      <td>Assoc-acdm</td>\n",
       "      <td>12</td>\n",
       "      <td>Married-civ-spouse</td>\n",
       "      <td>Tech-support</td>\n",
       "      <td>Wife</td>\n",
       "      <td>White</td>\n",
       "      <td>Female</td>\n",
       "      <td>0</td>\n",
       "      <td>0</td>\n",
       "      <td>38</td>\n",
       "      <td>United-States</td>\n",
       "      <td>&lt;=50K</td>\n",
       "    </tr>\n",
       "    <tr>\n",
       "      <th>32557</th>\n",
       "      <td>40</td>\n",
       "      <td>Private</td>\n",
       "      <td>HS-grad</td>\n",
       "      <td>9</td>\n",
       "      <td>Married-civ-spouse</td>\n",
       "      <td>Machine-op-inspct</td>\n",
       "      <td>Husband</td>\n",
       "      <td>White</td>\n",
       "      <td>Male</td>\n",
       "      <td>0</td>\n",
       "      <td>0</td>\n",
       "      <td>40</td>\n",
       "      <td>United-States</td>\n",
       "      <td>&gt;50K</td>\n",
       "    </tr>\n",
       "    <tr>\n",
       "      <th>32558</th>\n",
       "      <td>58</td>\n",
       "      <td>Private</td>\n",
       "      <td>HS-grad</td>\n",
       "      <td>9</td>\n",
       "      <td>Widowed</td>\n",
       "      <td>Adm-clerical</td>\n",
       "      <td>Unmarried</td>\n",
       "      <td>White</td>\n",
       "      <td>Female</td>\n",
       "      <td>0</td>\n",
       "      <td>0</td>\n",
       "      <td>40</td>\n",
       "      <td>United-States</td>\n",
       "      <td>&lt;=50K</td>\n",
       "    </tr>\n",
       "    <tr>\n",
       "      <th>32559</th>\n",
       "      <td>22</td>\n",
       "      <td>Private</td>\n",
       "      <td>HS-grad</td>\n",
       "      <td>9</td>\n",
       "      <td>Never-married</td>\n",
       "      <td>Adm-clerical</td>\n",
       "      <td>Own-child</td>\n",
       "      <td>White</td>\n",
       "      <td>Male</td>\n",
       "      <td>0</td>\n",
       "      <td>0</td>\n",
       "      <td>20</td>\n",
       "      <td>United-States</td>\n",
       "      <td>&lt;=50K</td>\n",
       "    </tr>\n",
       "    <tr>\n",
       "      <th>32560</th>\n",
       "      <td>52</td>\n",
       "      <td>Self-emp-inc</td>\n",
       "      <td>HS-grad</td>\n",
       "      <td>9</td>\n",
       "      <td>Married-civ-spouse</td>\n",
       "      <td>Exec-managerial</td>\n",
       "      <td>Wife</td>\n",
       "      <td>White</td>\n",
       "      <td>Female</td>\n",
       "      <td>15024</td>\n",
       "      <td>0</td>\n",
       "      <td>40</td>\n",
       "      <td>United-States</td>\n",
       "      <td>&gt;50K</td>\n",
       "    </tr>\n",
       "  </tbody>\n",
       "</table>\n",
       "</div>"
      ],
      "text/plain": [
       "       age      workclass    education  education-num       marital-status  \\\n",
       "32556   27        Private   Assoc-acdm             12   Married-civ-spouse   \n",
       "32557   40        Private      HS-grad              9   Married-civ-spouse   \n",
       "32558   58        Private      HS-grad              9              Widowed   \n",
       "32559   22        Private      HS-grad              9        Never-married   \n",
       "32560   52   Self-emp-inc      HS-grad              9   Married-civ-spouse   \n",
       "\n",
       "               occupation relationship    race   gender  capital-gain  \\\n",
       "32556        Tech-support         Wife   White   Female             0   \n",
       "32557   Machine-op-inspct      Husband   White     Male             0   \n",
       "32558        Adm-clerical    Unmarried   White   Female             0   \n",
       "32559        Adm-clerical    Own-child   White     Male             0   \n",
       "32560     Exec-managerial         Wife   White   Female         15024   \n",
       "\n",
       "       capital-loss  hours-per-week  native-country  income  \n",
       "32556             0              38   United-States   <=50K  \n",
       "32557             0              40   United-States    >50K  \n",
       "32558             0              40   United-States   <=50K  \n",
       "32559             0              20   United-States   <=50K  \n",
       "32560             0              40   United-States    >50K  "
      ]
     },
     "execution_count": 57,
     "metadata": {},
     "output_type": "execute_result"
    }
   ],
   "source": [
    "\n",
    "\n",
    "# Load dataset of income \n",
    "data = pd.read_csv(\"adult.csv\", index_col=0)\n",
    "data.tail() # Data analysis protip - Always look at the last rows. It is sometimes the most recent data. Sometimes the first rows are mock data.\n"
   ]
  },
  {
   "cell_type": "code",
   "execution_count": 58,
   "id": "a751a5cd",
   "metadata": {},
   "outputs": [
    {
     "data": {
      "text/plain": [
       "age               False\n",
       "workclass          True\n",
       "education          True\n",
       "education-num     False\n",
       "marital-status     True\n",
       "occupation         True\n",
       "relationship       True\n",
       "race               True\n",
       "gender             True\n",
       "capital-gain      False\n",
       "capital-loss      False\n",
       "hours-per-week    False\n",
       "native-country     True\n",
       "dtype: bool"
      ]
     },
     "execution_count": 58,
     "metadata": {},
     "output_type": "execute_result"
    }
   ],
   "source": [
    "target   = data.income\n",
    "features = data.drop(\"income\", axis=1)\n",
    "\n",
    "# Find the categorical columns\n",
    "categorical_columns = (features.dtypes == object)\n",
    "categorical_columns"
   ]
  },
  {
   "cell_type": "code",
   "execution_count": 59,
   "id": "32730c3a",
   "metadata": {},
   "outputs": [],
   "source": [
    "from sklearn.model_selection import train_test_split\n",
    "\n",
    "X_train, X_test, y_train, y_test = train_test_split(features, target)"
   ]
  },
  {
   "cell_type": "code",
   "execution_count": 60,
   "id": "57159862",
   "metadata": {},
   "outputs": [
    {
     "data": {
      "text/plain": [
       "array([' <=50K', ' <=50K', ' >50K', ..., ' <=50K', ' <=50K', ' <=50K'],\n",
       "      dtype=object)"
      ]
     },
     "execution_count": 60,
     "metadata": {},
     "output_type": "execute_result"
    }
   ],
   "source": [
    "from sklearn.pipeline        import Pipeline\n",
    "from sklearn.preprocessing   import StandardScaler, OneHotEncoder\n",
    "from sklearn.impute          import SimpleImputer\n",
    "\n",
    "# Setup two preprocessing pipelines\n",
    "con_pipe = Pipeline([('scaler', StandardScaler()),\n",
    "                      ('imputer', SimpleImputer(strategy='median', add_indicator=True))])\n",
    "\n",
    "cat_pipe = Pipeline([('ohe', OneHotEncoder(handle_unknown='ignore')),\n",
    "                     ('imputer', SimpleImputer(strategy='most_frequent', add_indicator=True))])\n",
    "\n",
    "# Put them to together\n",
    "from sklearn.compose         import ColumnTransformer\n",
    "\n",
    "preprocessing = ColumnTransformer([('categorical', cat_pipe,  categorical_columns),\n",
    "                                   ('continuous',  con_pipe, ~categorical_columns),\n",
    "                                   ])\n",
    "\n",
    "# Add the algorithm \n",
    "from sklearn.linear_model    import LogisticRegression\n",
    "\n",
    "pipe = Pipeline([('preprocessing', preprocessing), \n",
    "                 ('clf', LogisticRegression(solver='liblinear'))])\n",
    "pipe.fit(X_train, y_train)\n",
    "pipe.predict(X_test)"
   ]
  },
  {
   "cell_type": "markdown",
   "id": "dangerous-priority",
   "metadata": {
    "slideshow": {
     "slide_type": "slide"
    }
   },
   "source": [
    "<center><h2>Takeaways</h2></center>\n",
    "\n",
    "- Scikit-learn's Pipelines can encapsulate all modeling steps.\n"
   ]
  },
  {
   "cell_type": "markdown",
   "id": "0c5611af",
   "metadata": {
    "slideshow": {
     "slide_type": "fragment"
    }
   },
   "source": [
    "- Pipelines act like a regular scikit-learn Estimator. Everything you would do with a regular algorithm, you can do with a Pipeline.\n"
   ]
  },
  {
   "cell_type": "markdown",
   "id": "31f69d4b",
   "metadata": {
    "slideshow": {
     "slide_type": "fragment"
    }
   },
   "source": [
    "\n",
    "- Scikit-learn's Pipelines are helpful for writing more readable, robust, and maintainable code.\n"
   ]
  },
  {
   "cell_type": "markdown",
   "id": "78917062",
   "metadata": {},
   "source": [
    "All materials are in a GitHub repo:\n",
    "https://bit.ly/pipeline-metis"
   ]
  },
  {
   "cell_type": "markdown",
   "id": "aafeac07",
   "metadata": {
    "slideshow": {
     "slide_type": "skip"
    }
   },
   "source": [
    "<center><h2>Bonus Material</h2></center>"
   ]
  },
  {
   "cell_type": "markdown",
   "id": "43a3bad4",
   "metadata": {
    "slideshow": {
     "slide_type": "slide"
    }
   },
   "source": [
    "<center><img src=\"https://imgs.xkcd.com/comics/data_pipeline.png\" width=\"75%\"/></center>\n"
   ]
  },
  {
   "cell_type": "markdown",
   "id": "exciting-bulgaria",
   "metadata": {
    "slideshow": {
     "slide_type": "skip"
    }
   },
   "source": [
    "<center><h2>Sources of Inspiration</h2></center>\n",
    "\n",
    "- [Advanced Machine Learning with Scikit-learn](https://www.youtube.com/watch?v=7l_WQO3JbWE&ab_channel=rakutentech)\n",
    "- https://jakevdp.github.io/PythonDataScienceHandbook/05.02-introducing-scikit-learn.html\n",
    "- [Kevin Goetsch | Deploying Machine Learning using sklearn pipelines](https://www.youtube.com/watch?v=URdnFlZnlaE&ab_channel=PyData)\n",
    "- https://towardsdatascience.com/introduction-to-scikit-learns-pipelines-565cc549754a\n",
    "- https://www.kdnuggets.com/2017/12/managing-machine-learning-workflows-scikit-learn-pipelines-part-1.html"
   ]
  },
  {
   "cell_type": "markdown",
   "id": "f67ccdc1",
   "metadata": {
    "slideshow": {
     "slide_type": "skip"
    }
   },
   "source": [
    "<center><h2>Check for understanding</h2></center> \n",
    "\n",
    "Please order the lettered steps to build a valid pipeline\n",
    "\n",
    "```python\n",
    "from sklearn.datasets        import load_boston \n",
    "from sklearn.linear_model    import LinearRegression\n",
    "from sklearn.model_selection import train_test_split\n",
    "from sklearn.pipeline        import Pipeline\n",
    "from sklearn.preprocessing   import StandardScaler\n",
    "\n",
    "\n",
    "# A \n",
    "pipe.fit(X_train, y_train)\n",
    "\n",
    "# B\n",
    "X_train, X_test, y_train, y_test= train_test_split(X, y)\n",
    "\n",
    "# C\n",
    "X, y = load_boston(return_X_y=True)\n",
    "\n",
    "# D\n",
    "pipe.predict(X_test)\n",
    "\n",
    "# E\n",
    "pipe = Pipeline([('scaler', StandardScaler()), \n",
    "                 ('lr',     LinearRegression())])\n",
    "```"
   ]
  },
  {
   "cell_type": "markdown",
   "id": "881bc47f",
   "metadata": {},
   "source": [
    "<br>\n",
    "<br> \n",
    "<br>\n",
    "\n",
    "----"
   ]
  }
 ],
 "metadata": {
  "celltoolbar": "Slideshow",
  "kernelspec": {
   "display_name": "Python 3 (ipykernel)",
   "language": "python",
   "name": "python3"
  },
  "language_info": {
   "codemirror_mode": {
    "name": "ipython",
    "version": 3
   },
   "file_extension": ".py",
   "mimetype": "text/x-python",
   "name": "python",
   "nbconvert_exporter": "python",
   "pygments_lexer": "ipython3",
   "version": "3.9.9"
  },
  "toc": {
   "base_numbering": 1,
   "nav_menu": {},
   "number_sections": false,
   "sideBar": false,
   "skip_h1_title": false,
   "title_cell": "Table of Contents",
   "title_sidebar": "Contents",
   "toc_cell": true,
   "toc_position": {},
   "toc_section_display": true,
   "toc_window_display": false
  }
 },
 "nbformat": 4,
 "nbformat_minor": 5
}
