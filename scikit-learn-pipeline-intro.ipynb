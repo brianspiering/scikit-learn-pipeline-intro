{
 "cells": [
  {
   "cell_type": "markdown",
   "id": "higher-label",
   "metadata": {
    "slideshow": {
     "slide_type": "skip"
    },
    "toc": true
   },
   "source": [
    "<h1>Table of Contents<span class=\"tocSkip\"></span></h1>\n",
    "<div class=\"toc\"><ul class=\"toc-item\"><li><span><a href=\"#Introduction-to-scikit-learn's-pipelines\" data-toc-modified-id=\"Introduction-to-scikit-learn's-pipelines-1\">Introduction to scikit-learn's pipelines</a></span></li><li><span><a href=\"#Brian-Spiering\" data-toc-modified-id=\"Brian-Spiering-2\">Brian Spiering</a></span></li><li><span><a href=\"#Who-am-I?\" data-toc-modified-id=\"Who-am-I?-3\">Who am I?</a></span></li><li><span><a href=\"#Motivating-Story\" data-toc-modified-id=\"Motivating-Story-4\">Motivating Story</a></span></li><li><span><a href=\"#Learning-Outcomes\" data-toc-modified-id=\"Learning-Outcomes-5\">Learning Outcomes</a></span></li><li><span><a href=\"#Scikit-learn-for-Machine-Learning\" data-toc-modified-id=\"Scikit-learn-for-Machine-Learning-6\">Scikit-learn for Machine Learning</a></span></li><li><span><a href=\"#Scikit-learn's-Estimator\" data-toc-modified-id=\"Scikit-learn's-Estimator-7\">Scikit-learn's Estimator</a></span></li><li><span><a href=\"#What-if…\" data-toc-modified-id=\"What-if…-8\">What if…</a></span></li><li><span><a href=\"#Pipelines\" data-toc-modified-id=\"Pipelines-9\">Pipelines</a></span></li><li><span><a href=\"#&quot;Programming-is-all-about-managing-complexity&quot;\" data-toc-modified-id=\"&quot;Programming-is-all-about-managing-complexity&quot;-10\">\"Programming is all about managing complexity\"</a></span></li><li><span><a href=\"#Fit-many-models-automatically\" data-toc-modified-id=\"Fit-many-models-automatically-11\">Fit many models automatically</a></span></li><li><span><a href=\"#Transformations-based-on-column-type-\" data-toc-modified-id=\"Transformations-based-on-column-type--12\">Transformations based on column type </a></span></li><li><span><a href=\"#Takeaways\" data-toc-modified-id=\"Takeaways-13\">Takeaways</a></span></li><li><span><a href=\"#Bonus-Material\" data-toc-modified-id=\"Bonus-Material-14\">Bonus Material</a></span></li><li><span><a href=\"#Pipelines-for-cross-validation-\" data-toc-modified-id=\"Pipelines-for-cross-validation--15\">Pipelines for cross validation </a></span></li><li><span><a href=\"#Pipeline-advantages\" data-toc-modified-id=\"Pipeline-advantages-16\">Pipeline advantages</a></span></li><li><span><a href=\"#Sources-of-Inspiration\" data-toc-modified-id=\"Sources-of-Inspiration-17\">Sources of Inspiration</a></span></li><li><span><a href=\"#Check-for-understanding\" data-toc-modified-id=\"Check-for-understanding-18\">Check for understanding</a></span></li></ul></div>"
   ]
  },
  {
   "cell_type": "markdown",
   "id": "suitable-black",
   "metadata": {
    "slideshow": {
     "slide_type": "slide"
    }
   },
   "source": [
    "<center><img src=\"images/pipeline_intro.png\" width=\"100%\"/></center>\n",
    "<br>\n",
    "<center><h2>Introduction to scikit-learn's pipelines</h2></center>\n",
    "<center><h2>Brian Spiering</h2></center>"
   ]
  },
  {
   "cell_type": "markdown",
   "id": "aad18afb",
   "metadata": {
    "slideshow": {
     "slide_type": "slide"
    }
   },
   "source": [
    "<center><h2>Who am I?</h2></center>\n",
    "<center><img src=\"images/hi.png\" width=\"40%\"/></center>\n",
    "<center>Brian Spiering</center>\n",
    "<center>A Data Science Instructor at Metis</center>"
   ]
  },
  {
   "cell_type": "markdown",
   "id": "39f4e918",
   "metadata": {
    "slideshow": {
     "slide_type": "slide"
    }
   },
   "source": [
    "<center><img src=\"images/olympic_rings.jpeg\" width=\"95%\"/></center>"
   ]
  },
  {
   "cell_type": "markdown",
   "id": "6ca102f8",
   "metadata": {
    "slideshow": {
     "slide_type": "skip"
    }
   },
   "source": [
    "[Image Source](https://compote.slate.com/images/005266c4-3c9f-416e-b2a4-f421e23ce879.jpeg?width=780&height=520&rect=1560x1040&offset=0x0)"
   ]
  },
  {
   "cell_type": "markdown",
   "id": "44325466",
   "metadata": {
    "slideshow": {
     "slide_type": "skip"
    }
   },
   "source": [
    "<center><h2>Motivating Story</h2></center>\n",
    "\n",
    "Image you are working as junior Data Scientist at a media company related to the Olympics. You have just built your first model to predict which athletes will be the biggest influencers in the near future. \n",
    "\n",
    "It took a while to find the right data, clean it and organize it, and fit that first algorithm. Now you boss says those dreaded words, \"Does your code scale?\"...\n",
    "\n",
    "Today I'm going to show you how to start on that path towards scale and improving your machine learning programming skills."
   ]
  },
  {
   "cell_type": "markdown",
   "id": "linear-peninsula",
   "metadata": {
    "slideshow": {
     "slide_type": "skip"
    }
   },
   "source": [
    "<center><h2>Learning Outcomes</h2></center>\n",
    "\n",
    "__By the end of this session, you should be able to__:\n",
    "\n",
    "- Describe what is scikit-learn's pipeline.\n",
    "- List the advantages of using scikit-learn's pipeline.\n",
    "- Code scikit-learn pipelines to automate machine learning."
   ]
  },
  {
   "cell_type": "markdown",
   "id": "occasional-politics",
   "metadata": {
    "slideshow": {
     "slide_type": "slide"
    }
   },
   "source": [
    "<br>\n",
    "<center><img src=\"images/1200px-Scikit_learn_logo_small.svg.png\" width=\"70%\"/></center>\n",
    "\n",
    "<center><h2>Scikit-learn for Machine Learning</h2></center>"
   ]
  },
  {
   "cell_type": "markdown",
   "id": "5edc540a",
   "metadata": {
    "slideshow": {
     "slide_type": "skip"
    }
   },
   "source": [
    "You should already be familiar the fundamentals of scikit-learn.\n",
    "\n",
    "Scikit-learn is a Python library for traditional machine learning.\n",
    "\n",
    "Scikit-learn features:\n",
    "\n",
    "- Open source\n",
    "- Well-established\n",
    "- Comprehensive\n",
    "    - Handles pre-preprocessing, cleaning, feature extraction and selection, and cross-validation\n",
    "    - Most popular algorithms are included\n",
    "- Consistent, easy-to-use interface\n",
    "- Object-oriented programming (OOP) / class based."
   ]
  },
  {
   "cell_type": "code",
   "execution_count": 82,
   "id": "4cc0d1c0",
   "metadata": {
    "slideshow": {
     "slide_type": "slide"
    }
   },
   "outputs": [],
   "source": [
    "# Scikit-learn Example - Build a machine learning model"
   ]
  },
  {
   "cell_type": "code",
   "execution_count": 83,
   "id": "429d87e5",
   "metadata": {
    "slideshow": {
     "slide_type": "skip"
    }
   },
   "outputs": [],
   "source": [
    "reset -fs"
   ]
  },
  {
   "cell_type": "code",
   "execution_count": 84,
   "id": "6f43105d",
   "metadata": {
    "slideshow": {
     "slide_type": "fragment"
    }
   },
   "outputs": [],
   "source": [
    "# Create sample data \n",
    "import numpy as np\n",
    "\n",
    "#             Number of followers, number of posts\n",
    "X = np.array([[121_883, 2_921],    [192_981, 6_9231]])      "
   ]
  },
  {
   "cell_type": "code",
   "execution_count": 85,
   "id": "ec297533",
   "metadata": {
    "slideshow": {
     "slide_type": "fragment"
    }
   },
   "outputs": [],
   "source": [
    "#             Number of likes\n",
    "y = np.array([[10_342],            [17_841]])    "
   ]
  },
  {
   "cell_type": "code",
   "execution_count": 86,
   "id": "6a24ac3e",
   "metadata": {
    "slideshow": {
     "slide_type": "slide"
    }
   },
   "outputs": [],
   "source": [
    "# Build a scikit-learn model \n",
    "from sklearn.linear_model  import LinearRegression\n",
    "\n",
    "lr = LinearRegression()\n",
    "lr.fit(X, y);"
   ]
  },
  {
   "cell_type": "code",
   "execution_count": 87,
   "id": "816c8f7c",
   "metadata": {
    "slideshow": {
     "slide_type": "fragment"
    }
   },
   "outputs": [
    {
     "name": "stdout",
     "output_type": "stream",
     "text": [
      "11,699\n"
     ]
    }
   ],
   "source": [
    "# For a new account, what is the predicted number of likes?\n",
    "# Number of followers, number of posts\n",
    "new_account = np.array([[143_231, 5_823]])\n",
    "predicted_number_of_likes = lr.predict(new_account)[0][0]\n",
    "print(f\"{predicted_number_of_likes:,.0f}\")"
   ]
  },
  {
   "cell_type": "markdown",
   "id": "alpha-excitement",
   "metadata": {
    "slideshow": {
     "slide_type": "slide"
    }
   },
   "source": [
    "<center><h2>Scikit-learn's Estimator</h2></center>\n",
    "\n",
    "Estimator is a consistent interface for all scikit-learn algorithms. \n",
    "\n",
    "All estimators have a fit method:   \n",
    "`estimator.fit(X, [y])` \n",
    "\n"
   ]
  },
  {
   "cell_type": "markdown",
   "id": "42981fef",
   "metadata": {
    "slideshow": {
     "slide_type": "slide"
    }
   },
   "source": [
    "__Estimators can have other methods__:\n",
    "\n",
    "- `estimator.predict()`\n",
    "    - Classification\n",
    "    - Regression\n",
    "    - Clustering"
   ]
  },
  {
   "cell_type": "markdown",
   "id": "33e1ec12",
   "metadata": {
    "slideshow": {
     "slide_type": "slide"
    }
   },
   "source": [
    "- `estimator.transform()` \n",
    "    - Preprocessing\n",
    "    - Dimensionality reduction\n",
    "    - Feature selection "
   ]
  },
  {
   "cell_type": "markdown",
   "id": "c0457bf4",
   "metadata": {
    "slideshow": {
     "slide_type": "skip"
    }
   },
   "source": [
    "X is required.  \n",
    "y is optional."
   ]
  },
  {
   "cell_type": "markdown",
   "id": "156b9d60",
   "metadata": {
    "slideshow": {
     "slide_type": "slide"
    }
   },
   "source": [
    "<center><h2>What if…</h2></center>\n",
    "<br>\n",
    "You have built a baseline model. Now you wonder about possible improvements:\n"
   ]
  },
  {
   "cell_type": "markdown",
   "id": "a0879541",
   "metadata": {
    "slideshow": {
     "slide_type": "fragment"
    }
   },
   "source": [
    "- What if I change the algorithm?\n",
    "\n",
    "\n"
   ]
  },
  {
   "cell_type": "markdown",
   "id": "79ac5bcb",
   "metadata": {
    "slideshow": {
     "slide_type": "fragment"
    }
   },
   "source": [
    "- What if I change a hyperparamter?"
   ]
  },
  {
   "cell_type": "markdown",
   "id": "e234b81f",
   "metadata": {
    "slideshow": {
     "slide_type": "fragment"
    }
   },
   "source": [
    "- What if I do different feature engineering?"
   ]
  },
  {
   "cell_type": "markdown",
   "id": "5ac995c4",
   "metadata": {
    "slideshow": {
     "slide_type": "slide"
    }
   },
   "source": [
    "With scikit-learn's Pipelines, it is easier:\n",
    "- To explore different hyperparameter options.\n",
    "- To reorder or add/remove steps.\n",
    "- To write and __read__ more complex code."
   ]
  },
  {
   "cell_type": "markdown",
   "id": "covered-interface",
   "metadata": {
    "slideshow": {
     "slide_type": "slide"
    }
   },
   "source": [
    "<center><h2>Pipelines</h2></center>\n",
    "<center><img src=\"images/pipeline_real_world.jpg\" width=\"100%\"/></center>"
   ]
  },
  {
   "cell_type": "markdown",
   "id": "8404c327",
   "metadata": {
    "slideshow": {
     "slide_type": "skip"
    }
   },
   "source": [
    "Pipelines are a very useful idea.\n",
    "\n",
    "Pipelines allow things (oil or data) to move without losing any of the precious resource.\n",
    "\n",
    "Pipelines have modular segments. If section needs to be improved, only that section needs to be replaced."
   ]
  },
  {
   "cell_type": "code",
   "execution_count": 88,
   "id": "another-alarm",
   "metadata": {
    "slideshow": {
     "slide_type": "slide"
    }
   },
   "outputs": [],
   "source": [
    "# scikit-learn pipeline example\n",
    "from sklearn.pipeline      import make_pipeline\n",
    "from sklearn.preprocessing import StandardScaler\n",
    "\n",
    "pipe_simple = make_pipeline(StandardScaler(), LinearRegression())\n",
    "pipe_simple.fit(X, y);"
   ]
  },
  {
   "cell_type": "markdown",
   "id": "1eca405f",
   "metadata": {
    "slideshow": {
     "slide_type": "skip"
    }
   },
   "source": [
    "[Source](https://stackoverflow.com/questions/33091376/python-what-is-exactly-sklearn-pipeline-pipeline)"
   ]
  },
  {
   "cell_type": "code",
   "execution_count": 89,
   "id": "c9280cca",
   "metadata": {
    "slideshow": {
     "slide_type": "fragment"
    }
   },
   "outputs": [
    {
     "name": "stdout",
     "output_type": "stream",
     "text": [
      "11,632\n"
     ]
    }
   ],
   "source": [
    "# Predict new, unlabeled data \n",
    "predicted_number_of_likes = pipe_simple.predict(new_account)[0][0]\n",
    "print(f\"{predicted_number_of_likes:,.0f}\")"
   ]
  },
  {
   "cell_type": "markdown",
   "id": "306ba555",
   "metadata": {
    "slideshow": {
     "slide_type": "slide"
    }
   },
   "source": [
    "<center><img src=\"images/pipeline-diagram-1.png\" width=\"65%\"/></center>\n",
    "<center>Pipelines automatically applies the appropriate methods at the appropriate time</center>"
   ]
  },
  {
   "cell_type": "markdown",
   "id": "failing-trunk",
   "metadata": {
    "slideshow": {
     "slide_type": "slide"
    }
   },
   "source": [
    "<center><h2>\"Programming is all about managing complexity\"</h2></center>\n",
    "\n",
    "Abstractions help us do that. Pipelines are a great abstraction.\n",
    "\n",
    "Instead of managing every step manually, we can create and use a single Pipeline object."
   ]
  },
  {
   "cell_type": "code",
   "execution_count": 90,
   "id": "e2aa1656",
   "metadata": {
    "slideshow": {
     "slide_type": "skip"
    }
   },
   "outputs": [],
   "source": [
    "from sklearn.datasets        import load_diabetes \n",
    "from sklearn.linear_model    import LinearRegression\n",
    "from sklearn.model_selection import train_test_split\n",
    "from sklearn.preprocessing   import StandardScaler"
   ]
  },
  {
   "cell_type": "code",
   "execution_count": 91,
   "id": "e0287e06",
   "metadata": {
    "slideshow": {
     "slide_type": "slide"
    }
   },
   "outputs": [],
   "source": [
    "# Use Pipelines for diabetes dataset\n",
    "X_d, y_d = load_diabetes(return_X_y=True)\n",
    "X_d_train, X_d_test, y_d_train, y_d_test= train_test_split(X_d, y_d)"
   ]
  },
  {
   "cell_type": "code",
   "execution_count": 92,
   "id": "2d4c3739",
   "metadata": {
    "slideshow": {
     "slide_type": "slide"
    }
   },
   "outputs": [],
   "source": [
    "# Create and use a pipeline class\n",
    "from sklearn.pipeline import Pipeline\n",
    "\n",
    "pipe_simple = Pipeline([('scaler', StandardScaler()), \n",
    "                        ('lr',     LinearRegression())])"
   ]
  },
  {
   "cell_type": "code",
   "execution_count": 93,
   "id": "10a482b6",
   "metadata": {
    "slideshow": {
     "slide_type": "fragment"
    }
   },
   "outputs": [],
   "source": [
    "pipe_simple.fit(X_d_train, y_d_train)\n",
    "pipe_simple.predict(X_d_test);"
   ]
  },
  {
   "cell_type": "markdown",
   "id": "23950d35",
   "metadata": {
    "slideshow": {
     "slide_type": "slide"
    }
   },
   "source": [
    "<center><h2>Fit many models automatically</h2></center>\n"
   ]
  },
  {
   "cell_type": "code",
   "execution_count": 94,
   "id": "0575b884",
   "metadata": {
    "slideshow": {
     "slide_type": "skip"
    }
   },
   "outputs": [],
   "source": [
    "from sklearn.decomposition import PCA\n",
    "from sklearn.linear_model  import Lasso, Ridge, ElasticNet, HuberRegressor, BayesianRidge\n",
    "from sklearn.metrics       import mean_squared_error"
   ]
  },
  {
   "cell_type": "code",
   "execution_count": 95,
   "id": "7f18e7af",
   "metadata": {
    "slideshow": {
     "slide_type": "skip"
    }
   },
   "outputs": [],
   "source": [
    "X_d_train, X_d_validation, y_d_train, y_d_validation= train_test_split(X_d, y_d, random_state=42)"
   ]
  },
  {
   "cell_type": "code",
   "execution_count": 96,
   "id": "6c445f8e",
   "metadata": {
    "slideshow": {
     "slide_type": "slide"
    }
   },
   "outputs": [],
   "source": [
    "# Create a list of many algorithms\n",
    "algorithms = [LinearRegression(), \n",
    "              Lasso(), \n",
    "              Ridge(), \n",
    "              ElasticNet(), \n",
    "              HuberRegressor(), \n",
    "              BayesianRidge()]"
   ]
  },
  {
   "cell_type": "code",
   "execution_count": 97,
   "id": "928eab52",
   "metadata": {
    "slideshow": {
     "slide_type": "skip"
    }
   },
   "outputs": [],
   "source": [
    "results = dict()"
   ]
  },
  {
   "cell_type": "code",
   "execution_count": 98,
   "id": "af1999c3",
   "metadata": {
    "slideshow": {
     "slide_type": "slide"
    }
   },
   "outputs": [
    {
     "name": "stdout",
     "output_type": "stream",
     "text": [
      "Mean squared error for diabetes dataset (regression):\n",
      "    LinearRegression: 3,645.07\n",
      "    Lasso           : 3,611.88\n",
      "    Ridge           : 3,643.50\n",
      "    ElasticNet      : 3,520.04\n",
      "    HuberRegressor  : 3,727.38\n",
      "    BayesianRidge   : 3,625.54\n"
     ]
    }
   ],
   "source": [
    "print(\"Mean squared error for diabetes dataset (regression):\")\n",
    "for algo in algorithms:\n",
    "    pipe_three_step = Pipeline([('scaler', StandardScaler()), \n",
    "                                ('pca',    PCA(n_components=3)),\n",
    "                                ('lm',     algo)])\n",
    " \n",
    "    pipe_three_step.fit(X_d_train, y_d_train)\n",
    "    y_pred = pipe_three_step.predict(X_d_validation)\n",
    "    mse = mean_squared_error(y_d_validation, y_pred)\n",
    "    print(f\"    {algo.__class__.__name__:<16}: {mse:,.02f}\")"
   ]
  },
  {
   "cell_type": "markdown",
   "id": "8745f5d5",
   "metadata": {
    "slideshow": {
     "slide_type": "skip"
    }
   },
   "source": [
    "Source: https://iaml.it/blog/optimizing-sklearn-pipelines/"
   ]
  },
  {
   "cell_type": "code",
   "execution_count": 99,
   "id": "562e42d0",
   "metadata": {
    "slideshow": {
     "slide_type": "slide"
    }
   },
   "outputs": [
    {
     "data": {
      "text/html": [
       "<style>#sk-487d0073-e95a-4167-8e2d-d11a7dda1e2f {color: black;background-color: white;}#sk-487d0073-e95a-4167-8e2d-d11a7dda1e2f pre{padding: 0;}#sk-487d0073-e95a-4167-8e2d-d11a7dda1e2f div.sk-toggleable {background-color: white;}#sk-487d0073-e95a-4167-8e2d-d11a7dda1e2f label.sk-toggleable__label {cursor: pointer;display: block;width: 100%;margin-bottom: 0;padding: 0.3em;box-sizing: border-box;text-align: center;}#sk-487d0073-e95a-4167-8e2d-d11a7dda1e2f div.sk-toggleable__content {max-height: 0;max-width: 0;overflow: hidden;text-align: left;background-color: #f0f8ff;}#sk-487d0073-e95a-4167-8e2d-d11a7dda1e2f div.sk-toggleable__content pre {margin: 0.2em;color: black;border-radius: 0.25em;background-color: #f0f8ff;}#sk-487d0073-e95a-4167-8e2d-d11a7dda1e2f input.sk-toggleable__control:checked~div.sk-toggleable__content {max-height: 200px;max-width: 100%;overflow: auto;}#sk-487d0073-e95a-4167-8e2d-d11a7dda1e2f div.sk-estimator input.sk-toggleable__control:checked~label.sk-toggleable__label {background-color: #d4ebff;}#sk-487d0073-e95a-4167-8e2d-d11a7dda1e2f div.sk-label input.sk-toggleable__control:checked~label.sk-toggleable__label {background-color: #d4ebff;}#sk-487d0073-e95a-4167-8e2d-d11a7dda1e2f input.sk-hidden--visually {border: 0;clip: rect(1px 1px 1px 1px);clip: rect(1px, 1px, 1px, 1px);height: 1px;margin: -1px;overflow: hidden;padding: 0;position: absolute;width: 1px;}#sk-487d0073-e95a-4167-8e2d-d11a7dda1e2f div.sk-estimator {font-family: monospace;background-color: #f0f8ff;border: 1px dotted black;border-radius: 0.25em;box-sizing: border-box;margin-bottom: 0.5em;}#sk-487d0073-e95a-4167-8e2d-d11a7dda1e2f div.sk-estimator:hover {background-color: #d4ebff;}#sk-487d0073-e95a-4167-8e2d-d11a7dda1e2f div.sk-parallel-item::after {content: \"\";width: 100%;border-bottom: 1px solid gray;flex-grow: 1;}#sk-487d0073-e95a-4167-8e2d-d11a7dda1e2f div.sk-label:hover label.sk-toggleable__label {background-color: #d4ebff;}#sk-487d0073-e95a-4167-8e2d-d11a7dda1e2f div.sk-serial::before {content: \"\";position: absolute;border-left: 1px solid gray;box-sizing: border-box;top: 2em;bottom: 0;left: 50%;}#sk-487d0073-e95a-4167-8e2d-d11a7dda1e2f div.sk-serial {display: flex;flex-direction: column;align-items: center;background-color: white;padding-right: 0.2em;padding-left: 0.2em;}#sk-487d0073-e95a-4167-8e2d-d11a7dda1e2f div.sk-item {z-index: 1;}#sk-487d0073-e95a-4167-8e2d-d11a7dda1e2f div.sk-parallel {display: flex;align-items: stretch;justify-content: center;background-color: white;}#sk-487d0073-e95a-4167-8e2d-d11a7dda1e2f div.sk-parallel::before {content: \"\";position: absolute;border-left: 1px solid gray;box-sizing: border-box;top: 2em;bottom: 0;left: 50%;}#sk-487d0073-e95a-4167-8e2d-d11a7dda1e2f div.sk-parallel-item {display: flex;flex-direction: column;position: relative;background-color: white;}#sk-487d0073-e95a-4167-8e2d-d11a7dda1e2f div.sk-parallel-item:first-child::after {align-self: flex-end;width: 50%;}#sk-487d0073-e95a-4167-8e2d-d11a7dda1e2f div.sk-parallel-item:last-child::after {align-self: flex-start;width: 50%;}#sk-487d0073-e95a-4167-8e2d-d11a7dda1e2f div.sk-parallel-item:only-child::after {width: 0;}#sk-487d0073-e95a-4167-8e2d-d11a7dda1e2f div.sk-dashed-wrapped {border: 1px dashed gray;margin: 0 0.4em 0.5em 0.4em;box-sizing: border-box;padding-bottom: 0.4em;background-color: white;position: relative;}#sk-487d0073-e95a-4167-8e2d-d11a7dda1e2f div.sk-label label {font-family: monospace;font-weight: bold;background-color: white;display: inline-block;line-height: 1.2em;}#sk-487d0073-e95a-4167-8e2d-d11a7dda1e2f div.sk-label-container {position: relative;z-index: 2;text-align: center;}#sk-487d0073-e95a-4167-8e2d-d11a7dda1e2f div.sk-container {display: inline-block;position: relative;}</style><div id=\"sk-487d0073-e95a-4167-8e2d-d11a7dda1e2f\" class\"sk-top-container\"><div class=\"sk-container\"><div class=\"sk-item sk-dashed-wrapped\"><div class=\"sk-label-container\"><div class=\"sk-label sk-toggleable\"><input class=\"sk-toggleable__control sk-hidden--visually\" id=\"a562416c-01ca-4f56-9bef-cbb5d553fdd6\" type=\"checkbox\" ><label class=\"sk-toggleable__label\" for=\"a562416c-01ca-4f56-9bef-cbb5d553fdd6\">Pipeline</label><div class=\"sk-toggleable__content\"><pre>Pipeline(steps=[('scaler', StandardScaler()), ('pca', PCA(n_components=3)),\n",
       "                ('lm', BayesianRidge())])</pre></div></div></div><div class=\"sk-serial\"><div class=\"sk-item\"><div class=\"sk-estimator sk-toggleable\"><input class=\"sk-toggleable__control sk-hidden--visually\" id=\"c4080e1a-c9e3-4fa6-8695-751741626468\" type=\"checkbox\" ><label class=\"sk-toggleable__label\" for=\"c4080e1a-c9e3-4fa6-8695-751741626468\">StandardScaler</label><div class=\"sk-toggleable__content\"><pre>StandardScaler()</pre></div></div></div><div class=\"sk-item\"><div class=\"sk-estimator sk-toggleable\"><input class=\"sk-toggleable__control sk-hidden--visually\" id=\"8f016014-e882-4d0e-8464-f61e3cac6008\" type=\"checkbox\" ><label class=\"sk-toggleable__label\" for=\"8f016014-e882-4d0e-8464-f61e3cac6008\">PCA</label><div class=\"sk-toggleable__content\"><pre>PCA(n_components=3)</pre></div></div></div><div class=\"sk-item\"><div class=\"sk-estimator sk-toggleable\"><input class=\"sk-toggleable__control sk-hidden--visually\" id=\"e25641e6-d654-46d4-adf6-d7de059a237a\" type=\"checkbox\" ><label class=\"sk-toggleable__label\" for=\"e25641e6-d654-46d4-adf6-d7de059a237a\">BayesianRidge</label><div class=\"sk-toggleable__content\"><pre>BayesianRidge()</pre></div></div></div></div></div></div></div>"
      ],
      "text/plain": [
       "Pipeline(steps=[('scaler', StandardScaler()), ('pca', PCA(n_components=3)),\n",
       "                ('lm', BayesianRidge())])"
      ]
     },
     "execution_count": 99,
     "metadata": {},
     "output_type": "execute_result"
    }
   ],
   "source": [
    "# Visualize pipeline\n",
    "from sklearn import set_config\n",
    "\n",
    "set_config(display='diagram')\n",
    "pipe_three_step"
   ]
  },
  {
   "cell_type": "markdown",
   "id": "alternate-tender",
   "metadata": {
    "slideshow": {
     "slide_type": "slide"
    }
   },
   "source": [
    "<center><img src=\"images/pipeline-diagram-1.png\" width=\"75%\"/></center>\n",
    "<center>Pipelines automatically apply the correct steps</center>"
   ]
  },
  {
   "cell_type": "markdown",
   "id": "b7b58c44",
   "metadata": {
    "slideshow": {
     "slide_type": "slide"
    }
   },
   "source": [
    "<center><h2>Transformations based on column type </h2></center>"
   ]
  },
  {
   "cell_type": "code",
   "execution_count": 100,
   "id": "ff642f57",
   "metadata": {
    "slideshow": {
     "slide_type": "skip"
    }
   },
   "outputs": [],
   "source": [
    "import pandas as pd"
   ]
  },
  {
   "cell_type": "code",
   "execution_count": 101,
   "id": "988c99b6",
   "metadata": {
    "slideshow": {
     "slide_type": "slide"
    }
   },
   "outputs": [
    {
     "data": {
      "text/html": [
       "<div>\n",
       "<style scoped>\n",
       "    .dataframe tbody tr th:only-of-type {\n",
       "        vertical-align: middle;\n",
       "    }\n",
       "\n",
       "    .dataframe tbody tr th {\n",
       "        vertical-align: top;\n",
       "    }\n",
       "\n",
       "    .dataframe thead th {\n",
       "        text-align: right;\n",
       "    }\n",
       "</style>\n",
       "<table border=\"1\" class=\"dataframe\">\n",
       "  <thead>\n",
       "    <tr style=\"text-align: right;\">\n",
       "      <th></th>\n",
       "      <th>age</th>\n",
       "      <th>workclass</th>\n",
       "      <th>education</th>\n",
       "      <th>education-num</th>\n",
       "      <th>marital-status</th>\n",
       "      <th>occupation</th>\n",
       "      <th>relationship</th>\n",
       "      <th>race</th>\n",
       "      <th>gender</th>\n",
       "      <th>capital-gain</th>\n",
       "      <th>capital-loss</th>\n",
       "      <th>hours-per-week</th>\n",
       "      <th>native-country</th>\n",
       "      <th>income</th>\n",
       "    </tr>\n",
       "  </thead>\n",
       "  <tbody>\n",
       "    <tr>\n",
       "      <th>0</th>\n",
       "      <td>39</td>\n",
       "      <td>State-gov</td>\n",
       "      <td>Bachelors</td>\n",
       "      <td>13</td>\n",
       "      <td>Never-married</td>\n",
       "      <td>Adm-clerical</td>\n",
       "      <td>Not-in-family</td>\n",
       "      <td>White</td>\n",
       "      <td>Male</td>\n",
       "      <td>2174</td>\n",
       "      <td>0</td>\n",
       "      <td>40</td>\n",
       "      <td>United-States</td>\n",
       "      <td>&lt;=50K</td>\n",
       "    </tr>\n",
       "    <tr>\n",
       "      <th>1</th>\n",
       "      <td>50</td>\n",
       "      <td>Self-emp-not-inc</td>\n",
       "      <td>Bachelors</td>\n",
       "      <td>13</td>\n",
       "      <td>Married-civ-spouse</td>\n",
       "      <td>Exec-managerial</td>\n",
       "      <td>Husband</td>\n",
       "      <td>White</td>\n",
       "      <td>Male</td>\n",
       "      <td>0</td>\n",
       "      <td>0</td>\n",
       "      <td>13</td>\n",
       "      <td>United-States</td>\n",
       "      <td>&lt;=50K</td>\n",
       "    </tr>\n",
       "    <tr>\n",
       "      <th>2</th>\n",
       "      <td>38</td>\n",
       "      <td>Private</td>\n",
       "      <td>HS-grad</td>\n",
       "      <td>9</td>\n",
       "      <td>Divorced</td>\n",
       "      <td>Handlers-cleaners</td>\n",
       "      <td>Not-in-family</td>\n",
       "      <td>White</td>\n",
       "      <td>Male</td>\n",
       "      <td>0</td>\n",
       "      <td>0</td>\n",
       "      <td>40</td>\n",
       "      <td>United-States</td>\n",
       "      <td>&lt;=50K</td>\n",
       "    </tr>\n",
       "    <tr>\n",
       "      <th>3</th>\n",
       "      <td>53</td>\n",
       "      <td>Private</td>\n",
       "      <td>11th</td>\n",
       "      <td>7</td>\n",
       "      <td>Married-civ-spouse</td>\n",
       "      <td>Handlers-cleaners</td>\n",
       "      <td>Husband</td>\n",
       "      <td>Black</td>\n",
       "      <td>Male</td>\n",
       "      <td>0</td>\n",
       "      <td>0</td>\n",
       "      <td>40</td>\n",
       "      <td>United-States</td>\n",
       "      <td>&lt;=50K</td>\n",
       "    </tr>\n",
       "    <tr>\n",
       "      <th>4</th>\n",
       "      <td>28</td>\n",
       "      <td>Private</td>\n",
       "      <td>Bachelors</td>\n",
       "      <td>13</td>\n",
       "      <td>Married-civ-spouse</td>\n",
       "      <td>Prof-specialty</td>\n",
       "      <td>Wife</td>\n",
       "      <td>Black</td>\n",
       "      <td>Female</td>\n",
       "      <td>0</td>\n",
       "      <td>0</td>\n",
       "      <td>40</td>\n",
       "      <td>Cuba</td>\n",
       "      <td>&lt;=50K</td>\n",
       "    </tr>\n",
       "  </tbody>\n",
       "</table>\n",
       "</div>"
      ],
      "text/plain": [
       "   age          workclass   education  education-num       marital-status  \\\n",
       "0   39          State-gov   Bachelors             13        Never-married   \n",
       "1   50   Self-emp-not-inc   Bachelors             13   Married-civ-spouse   \n",
       "2   38            Private     HS-grad              9             Divorced   \n",
       "3   53            Private        11th              7   Married-civ-spouse   \n",
       "4   28            Private   Bachelors             13   Married-civ-spouse   \n",
       "\n",
       "           occupation    relationship    race   gender  capital-gain  \\\n",
       "0        Adm-clerical   Not-in-family   White     Male          2174   \n",
       "1     Exec-managerial         Husband   White     Male             0   \n",
       "2   Handlers-cleaners   Not-in-family   White     Male             0   \n",
       "3   Handlers-cleaners         Husband   Black     Male             0   \n",
       "4      Prof-specialty            Wife   Black   Female             0   \n",
       "\n",
       "   capital-loss  hours-per-week  native-country  income  \n",
       "0             0              40   United-States   <=50K  \n",
       "1             0              13   United-States   <=50K  \n",
       "2             0              40   United-States   <=50K  \n",
       "3             0              40   United-States   <=50K  \n",
       "4             0              40            Cuba   <=50K  "
      ]
     },
     "execution_count": 101,
     "metadata": {},
     "output_type": "execute_result"
    }
   ],
   "source": [
    "# Load income dataset  \n",
    "data = pd.read_csv(\"income.csv\", index_col=0)\n",
    "data.head() "
   ]
  },
  {
   "cell_type": "code",
   "execution_count": 102,
   "id": "ce5e791b",
   "metadata": {
    "slideshow": {
     "slide_type": "slide"
    }
   },
   "outputs": [],
   "source": [
    "# Define target and features\n",
    "target   = data.income\n",
    "features = data.drop(\"income\", axis=1)"
   ]
  },
  {
   "cell_type": "code",
   "execution_count": 103,
   "id": "a751a5cd",
   "metadata": {
    "slideshow": {
     "slide_type": "slide"
    }
   },
   "outputs": [
    {
     "data": {
      "text/plain": [
       "age               False\n",
       "workclass          True\n",
       "education          True\n",
       "education-num     False\n",
       "marital-status     True\n",
       "occupation         True\n",
       "relationship       True\n",
       "race               True\n",
       "gender             True\n",
       "capital-gain      False\n",
       "capital-loss      False\n",
       "hours-per-week    False\n",
       "native-country     True\n",
       "dtype: bool"
      ]
     },
     "execution_count": 103,
     "metadata": {},
     "output_type": "execute_result"
    }
   ],
   "source": [
    "# Find the categorical columns\n",
    "categorical_columns = (features.dtypes==object)\n",
    "categorical_columns"
   ]
  },
  {
   "cell_type": "code",
   "execution_count": 104,
   "id": "32730c3a",
   "metadata": {
    "slideshow": {
     "slide_type": "skip"
    }
   },
   "outputs": [],
   "source": [
    "from sklearn.model_selection import train_test_split\n",
    "\n",
    "X_i_train, X_i_test, y_i_train, y_i_test = train_test_split(features, target)"
   ]
  },
  {
   "cell_type": "code",
   "execution_count": 105,
   "id": "63b01795",
   "metadata": {
    "slideshow": {
     "slide_type": "skip"
    }
   },
   "outputs": [],
   "source": [
    "from sklearn.pipeline        import Pipeline\n",
    "from sklearn.preprocessing   import StandardScaler, OneHotEncoder\n",
    "from sklearn.impute          import SimpleImputer"
   ]
  },
  {
   "cell_type": "code",
   "execution_count": 106,
   "id": "845cf594",
   "metadata": {
    "slideshow": {
     "slide_type": "slide"
    }
   },
   "outputs": [],
   "source": [
    "# Define a pipeline for continuous features\n",
    "pipe_con = Pipeline([('scaler',   StandardScaler()),\n",
    "                     ('imputer', SimpleImputer(strategy='median', add_indicator=True))])"
   ]
  },
  {
   "cell_type": "code",
   "execution_count": 107,
   "id": "26a8d903",
   "metadata": {
    "slideshow": {
     "slide_type": "slide"
    }
   },
   "outputs": [],
   "source": [
    "# Define a pipeline for categorical features\n",
    "pipe_cat = Pipeline([('ohe',     OneHotEncoder(handle_unknown='ignore')),\n",
    "                     ('imputer', SimpleImputer(strategy='most_frequent', add_indicator=True))])"
   ]
  },
  {
   "cell_type": "code",
   "execution_count": 108,
   "id": "9404658a",
   "metadata": {
    "slideshow": {
     "slide_type": "slide"
    }
   },
   "outputs": [],
   "source": [
    "# Put the two different pipelines together\n",
    "from sklearn.compose import ColumnTransformer\n",
    "\n",
    "preprocessing = ColumnTransformer([('categorical', pipe_cat,  categorical_columns),\n",
    "                                   ('continuous',  pipe_con, ~categorical_columns),])"
   ]
  },
  {
   "cell_type": "code",
   "execution_count": 120,
   "id": "57159862",
   "metadata": {
    "slideshow": {
     "slide_type": "slide"
    }
   },
   "outputs": [
    {
     "data": {
      "text/plain": [
       "array([' <=50K', ' <=50K', ' <=50K', ' >50K'], dtype=object)"
      ]
     },
     "execution_count": 120,
     "metadata": {},
     "output_type": "execute_result"
    }
   ],
   "source": [
    "# Choose the algorithm\n",
    "from sklearn.linear_model    import LogisticRegression\n",
    "\n",
    "# Defin the pipeline\n",
    "pipe_complex = Pipeline([('preprocessing', preprocessing), \n",
    "                         ('clf',           LogisticRegression(solver='liblinear'))])\n",
    "pipe_complex.fit(X_i_train, y_i_train)\n",
    "pipe_complex.predict(X_i_test)[-4:]"
   ]
  },
  {
   "cell_type": "code",
   "execution_count": 110,
   "id": "f1d24bfb",
   "metadata": {
    "slideshow": {
     "slide_type": "slide"
    }
   },
   "outputs": [
    {
     "data": {
      "text/html": [
       "<style>#sk-c9f5a268-f212-4ce6-833c-ca60cef557c3 {color: black;background-color: white;}#sk-c9f5a268-f212-4ce6-833c-ca60cef557c3 pre{padding: 0;}#sk-c9f5a268-f212-4ce6-833c-ca60cef557c3 div.sk-toggleable {background-color: white;}#sk-c9f5a268-f212-4ce6-833c-ca60cef557c3 label.sk-toggleable__label {cursor: pointer;display: block;width: 100%;margin-bottom: 0;padding: 0.3em;box-sizing: border-box;text-align: center;}#sk-c9f5a268-f212-4ce6-833c-ca60cef557c3 div.sk-toggleable__content {max-height: 0;max-width: 0;overflow: hidden;text-align: left;background-color: #f0f8ff;}#sk-c9f5a268-f212-4ce6-833c-ca60cef557c3 div.sk-toggleable__content pre {margin: 0.2em;color: black;border-radius: 0.25em;background-color: #f0f8ff;}#sk-c9f5a268-f212-4ce6-833c-ca60cef557c3 input.sk-toggleable__control:checked~div.sk-toggleable__content {max-height: 200px;max-width: 100%;overflow: auto;}#sk-c9f5a268-f212-4ce6-833c-ca60cef557c3 div.sk-estimator input.sk-toggleable__control:checked~label.sk-toggleable__label {background-color: #d4ebff;}#sk-c9f5a268-f212-4ce6-833c-ca60cef557c3 div.sk-label input.sk-toggleable__control:checked~label.sk-toggleable__label {background-color: #d4ebff;}#sk-c9f5a268-f212-4ce6-833c-ca60cef557c3 input.sk-hidden--visually {border: 0;clip: rect(1px 1px 1px 1px);clip: rect(1px, 1px, 1px, 1px);height: 1px;margin: -1px;overflow: hidden;padding: 0;position: absolute;width: 1px;}#sk-c9f5a268-f212-4ce6-833c-ca60cef557c3 div.sk-estimator {font-family: monospace;background-color: #f0f8ff;border: 1px dotted black;border-radius: 0.25em;box-sizing: border-box;margin-bottom: 0.5em;}#sk-c9f5a268-f212-4ce6-833c-ca60cef557c3 div.sk-estimator:hover {background-color: #d4ebff;}#sk-c9f5a268-f212-4ce6-833c-ca60cef557c3 div.sk-parallel-item::after {content: \"\";width: 100%;border-bottom: 1px solid gray;flex-grow: 1;}#sk-c9f5a268-f212-4ce6-833c-ca60cef557c3 div.sk-label:hover label.sk-toggleable__label {background-color: #d4ebff;}#sk-c9f5a268-f212-4ce6-833c-ca60cef557c3 div.sk-serial::before {content: \"\";position: absolute;border-left: 1px solid gray;box-sizing: border-box;top: 2em;bottom: 0;left: 50%;}#sk-c9f5a268-f212-4ce6-833c-ca60cef557c3 div.sk-serial {display: flex;flex-direction: column;align-items: center;background-color: white;padding-right: 0.2em;padding-left: 0.2em;}#sk-c9f5a268-f212-4ce6-833c-ca60cef557c3 div.sk-item {z-index: 1;}#sk-c9f5a268-f212-4ce6-833c-ca60cef557c3 div.sk-parallel {display: flex;align-items: stretch;justify-content: center;background-color: white;}#sk-c9f5a268-f212-4ce6-833c-ca60cef557c3 div.sk-parallel::before {content: \"\";position: absolute;border-left: 1px solid gray;box-sizing: border-box;top: 2em;bottom: 0;left: 50%;}#sk-c9f5a268-f212-4ce6-833c-ca60cef557c3 div.sk-parallel-item {display: flex;flex-direction: column;position: relative;background-color: white;}#sk-c9f5a268-f212-4ce6-833c-ca60cef557c3 div.sk-parallel-item:first-child::after {align-self: flex-end;width: 50%;}#sk-c9f5a268-f212-4ce6-833c-ca60cef557c3 div.sk-parallel-item:last-child::after {align-self: flex-start;width: 50%;}#sk-c9f5a268-f212-4ce6-833c-ca60cef557c3 div.sk-parallel-item:only-child::after {width: 0;}#sk-c9f5a268-f212-4ce6-833c-ca60cef557c3 div.sk-dashed-wrapped {border: 1px dashed gray;margin: 0 0.4em 0.5em 0.4em;box-sizing: border-box;padding-bottom: 0.4em;background-color: white;position: relative;}#sk-c9f5a268-f212-4ce6-833c-ca60cef557c3 div.sk-label label {font-family: monospace;font-weight: bold;background-color: white;display: inline-block;line-height: 1.2em;}#sk-c9f5a268-f212-4ce6-833c-ca60cef557c3 div.sk-label-container {position: relative;z-index: 2;text-align: center;}#sk-c9f5a268-f212-4ce6-833c-ca60cef557c3 div.sk-container {display: inline-block;position: relative;}</style><div id=\"sk-c9f5a268-f212-4ce6-833c-ca60cef557c3\" class\"sk-top-container\"><div class=\"sk-container\"><div class=\"sk-item sk-dashed-wrapped\"><div class=\"sk-label-container\"><div class=\"sk-label sk-toggleable\"><input class=\"sk-toggleable__control sk-hidden--visually\" id=\"fdee3b47-68aa-4b0b-94d6-73a7d4ecc782\" type=\"checkbox\" ><label class=\"sk-toggleable__label\" for=\"fdee3b47-68aa-4b0b-94d6-73a7d4ecc782\">Pipeline</label><div class=\"sk-toggleable__content\"><pre>Pipeline(steps=[('preprocessing',\n",
       "                 ColumnTransformer(transformers=[('categorical',\n",
       "                                                  Pipeline(steps=[('ohe',\n",
       "                                                                   OneHotEncoder(handle_unknown='ignore')),\n",
       "                                                                  ('imputer',\n",
       "                                                                   SimpleImputer(add_indicator=True,\n",
       "                                                                                 strategy='most_frequent'))]),\n",
       "                                                  age               False\n",
       "workclass          True\n",
       "education          True\n",
       "education-num     False\n",
       "marital-status     True\n",
       "occupation         True\n",
       "relationship       True\n",
       "race               True\n",
       "gender             True\n",
       "capital-gain      Fals...\n",
       "                                                  Pipeline(steps=[('scaler',\n",
       "                                                                   StandardScaler()),\n",
       "                                                                  ('imputer',\n",
       "                                                                   SimpleImputer(add_indicator=True,\n",
       "                                                                                 strategy='median'))]),\n",
       "                                                  age                True\n",
       "workclass         False\n",
       "education         False\n",
       "education-num      True\n",
       "marital-status    False\n",
       "occupation        False\n",
       "relationship      False\n",
       "race              False\n",
       "gender            False\n",
       "capital-gain       True\n",
       "capital-loss       True\n",
       "hours-per-week     True\n",
       "native-country    False\n",
       "dtype: bool)])),\n",
       "                ('clf', LogisticRegression(solver='liblinear'))])</pre></div></div></div><div class=\"sk-serial\"><div class=\"sk-item sk-dashed-wrapped\"><div class=\"sk-label-container\"><div class=\"sk-label sk-toggleable\"><input class=\"sk-toggleable__control sk-hidden--visually\" id=\"45436316-42cb-49fc-922a-b78778f3e58b\" type=\"checkbox\" ><label class=\"sk-toggleable__label\" for=\"45436316-42cb-49fc-922a-b78778f3e58b\">preprocessing: ColumnTransformer</label><div class=\"sk-toggleable__content\"><pre>ColumnTransformer(transformers=[('categorical',\n",
       "                                 Pipeline(steps=[('ohe',\n",
       "                                                  OneHotEncoder(handle_unknown='ignore')),\n",
       "                                                 ('imputer',\n",
       "                                                  SimpleImputer(add_indicator=True,\n",
       "                                                                strategy='most_frequent'))]),\n",
       "                                 age               False\n",
       "workclass          True\n",
       "education          True\n",
       "education-num     False\n",
       "marital-status     True\n",
       "occupation         True\n",
       "relationship       True\n",
       "race               True\n",
       "gender             True\n",
       "capital-gain      False\n",
       "capital-loss      False\n",
       "hours-per-week    F...\n",
       "native-country     True\n",
       "dtype: bool),\n",
       "                                ('continuous',\n",
       "                                 Pipeline(steps=[('scaler', StandardScaler()),\n",
       "                                                 ('imputer',\n",
       "                                                  SimpleImputer(add_indicator=True,\n",
       "                                                                strategy='median'))]),\n",
       "                                 age                True\n",
       "workclass         False\n",
       "education         False\n",
       "education-num      True\n",
       "marital-status    False\n",
       "occupation        False\n",
       "relationship      False\n",
       "race              False\n",
       "gender            False\n",
       "capital-gain       True\n",
       "capital-loss       True\n",
       "hours-per-week     True\n",
       "native-country    False\n",
       "dtype: bool)])</pre></div></div></div><div class=\"sk-parallel\"><div class=\"sk-parallel-item\"><div class=\"sk-item\"><div class=\"sk-label-container\"><div class=\"sk-label sk-toggleable\"><input class=\"sk-toggleable__control sk-hidden--visually\" id=\"ee7c2779-a573-4455-9965-2b597e505707\" type=\"checkbox\" ><label class=\"sk-toggleable__label\" for=\"ee7c2779-a573-4455-9965-2b597e505707\">categorical</label><div class=\"sk-toggleable__content\"><pre>age               False\n",
       "workclass          True\n",
       "education          True\n",
       "education-num     False\n",
       "marital-status     True\n",
       "occupation         True\n",
       "relationship       True\n",
       "race               True\n",
       "gender             True\n",
       "capital-gain      False\n",
       "capital-loss      False\n",
       "hours-per-week    False\n",
       "native-country     True\n",
       "dtype: bool</pre></div></div></div><div class=\"sk-serial\"><div class=\"sk-item\"><div class=\"sk-serial\"><div class=\"sk-item\"><div class=\"sk-estimator sk-toggleable\"><input class=\"sk-toggleable__control sk-hidden--visually\" id=\"0fb05fda-1cb7-4ac0-b155-3c1b5bed35be\" type=\"checkbox\" ><label class=\"sk-toggleable__label\" for=\"0fb05fda-1cb7-4ac0-b155-3c1b5bed35be\">OneHotEncoder</label><div class=\"sk-toggleable__content\"><pre>OneHotEncoder(handle_unknown='ignore')</pre></div></div></div><div class=\"sk-item\"><div class=\"sk-estimator sk-toggleable\"><input class=\"sk-toggleable__control sk-hidden--visually\" id=\"b3b0bdf7-d117-4eca-ab54-3f25b473cee2\" type=\"checkbox\" ><label class=\"sk-toggleable__label\" for=\"b3b0bdf7-d117-4eca-ab54-3f25b473cee2\">SimpleImputer</label><div class=\"sk-toggleable__content\"><pre>SimpleImputer(add_indicator=True, strategy='most_frequent')</pre></div></div></div></div></div></div></div></div><div class=\"sk-parallel-item\"><div class=\"sk-item\"><div class=\"sk-label-container\"><div class=\"sk-label sk-toggleable\"><input class=\"sk-toggleable__control sk-hidden--visually\" id=\"f217316d-bc8d-4c24-8cee-fe5e5a89942e\" type=\"checkbox\" ><label class=\"sk-toggleable__label\" for=\"f217316d-bc8d-4c24-8cee-fe5e5a89942e\">continuous</label><div class=\"sk-toggleable__content\"><pre>age                True\n",
       "workclass         False\n",
       "education         False\n",
       "education-num      True\n",
       "marital-status    False\n",
       "occupation        False\n",
       "relationship      False\n",
       "race              False\n",
       "gender            False\n",
       "capital-gain       True\n",
       "capital-loss       True\n",
       "hours-per-week     True\n",
       "native-country    False\n",
       "dtype: bool</pre></div></div></div><div class=\"sk-serial\"><div class=\"sk-item\"><div class=\"sk-serial\"><div class=\"sk-item\"><div class=\"sk-estimator sk-toggleable\"><input class=\"sk-toggleable__control sk-hidden--visually\" id=\"0fdb4d76-7c47-4971-abf6-ee7acf8be99f\" type=\"checkbox\" ><label class=\"sk-toggleable__label\" for=\"0fdb4d76-7c47-4971-abf6-ee7acf8be99f\">StandardScaler</label><div class=\"sk-toggleable__content\"><pre>StandardScaler()</pre></div></div></div><div class=\"sk-item\"><div class=\"sk-estimator sk-toggleable\"><input class=\"sk-toggleable__control sk-hidden--visually\" id=\"d26605d6-425a-457a-a6e4-8060b9fa02c9\" type=\"checkbox\" ><label class=\"sk-toggleable__label\" for=\"d26605d6-425a-457a-a6e4-8060b9fa02c9\">SimpleImputer</label><div class=\"sk-toggleable__content\"><pre>SimpleImputer(add_indicator=True, strategy='median')</pre></div></div></div></div></div></div></div></div></div></div><div class=\"sk-item\"><div class=\"sk-estimator sk-toggleable\"><input class=\"sk-toggleable__control sk-hidden--visually\" id=\"13c64e11-6e57-4d45-8fea-20a9e5a9684d\" type=\"checkbox\" ><label class=\"sk-toggleable__label\" for=\"13c64e11-6e57-4d45-8fea-20a9e5a9684d\">LogisticRegression</label><div class=\"sk-toggleable__content\"><pre>LogisticRegression(solver='liblinear')</pre></div></div></div></div></div></div></div>"
      ],
      "text/plain": [
       "Pipeline(steps=[('preprocessing',\n",
       "                 ColumnTransformer(transformers=[('categorical',\n",
       "                                                  Pipeline(steps=[('ohe',\n",
       "                                                                   OneHotEncoder(handle_unknown='ignore')),\n",
       "                                                                  ('imputer',\n",
       "                                                                   SimpleImputer(add_indicator=True,\n",
       "                                                                                 strategy='most_frequent'))]),\n",
       "                                                  age               False\n",
       "workclass          True\n",
       "education          True\n",
       "education-num     False\n",
       "marital-status     True\n",
       "occupation         True\n",
       "relationship       True\n",
       "race               True\n",
       "gender             True\n",
       "capital-gain      Fals...\n",
       "                                                  Pipeline(steps=[('scaler',\n",
       "                                                                   StandardScaler()),\n",
       "                                                                  ('imputer',\n",
       "                                                                   SimpleImputer(add_indicator=True,\n",
       "                                                                                 strategy='median'))]),\n",
       "                                                  age                True\n",
       "workclass         False\n",
       "education         False\n",
       "education-num      True\n",
       "marital-status    False\n",
       "occupation        False\n",
       "relationship      False\n",
       "race              False\n",
       "gender            False\n",
       "capital-gain       True\n",
       "capital-loss       True\n",
       "hours-per-week     True\n",
       "native-country    False\n",
       "dtype: bool)])),\n",
       "                ('clf', LogisticRegression(solver='liblinear'))])"
      ]
     },
     "execution_count": 110,
     "metadata": {},
     "output_type": "execute_result"
    }
   ],
   "source": [
    "# Visualize complex pipeline\n",
    "pipe_complex"
   ]
  },
  {
   "cell_type": "markdown",
   "id": "dangerous-priority",
   "metadata": {
    "slideshow": {
     "slide_type": "slide"
    }
   },
   "source": [
    "<center><h2>Takeaways</h2></center>\n",
    "\n",
    "- Scikit-learn's Pipeline encloses all modeling steps.\n"
   ]
  },
  {
   "cell_type": "markdown",
   "id": "0c5611af",
   "metadata": {
    "slideshow": {
     "slide_type": "fragment"
    }
   },
   "source": [
    "- A Pipeline behaves like all other scikit-learn Estimators. Everything you would do with a regular algorithm, you can do with a Pipeline.\n"
   ]
  },
  {
   "cell_type": "markdown",
   "id": "31f69d4b",
   "metadata": {
    "slideshow": {
     "slide_type": "fragment"
    }
   },
   "source": [
    "\n",
    "- Scikit-learn's Pipelines are helpful for writing more readable and extensible code.\n"
   ]
  },
  {
   "cell_type": "markdown",
   "id": "ad037aac",
   "metadata": {
    "slideshow": {
     "slide_type": "slide"
    }
   },
   "source": [
    "<center><img src=\"images/thank_you.png\" width=\"50%\"/></center>\n",
    "<center>All these materials are in a GitHub repo:</center>   \n",
    "<center><a href=\"https://bit.ly/pipeline-metis\">bit.ly/pipeline-metis</a></center>   \n",
    "\n"
   ]
  },
  {
   "cell_type": "markdown",
   "id": "aafeac07",
   "metadata": {
    "slideshow": {
     "slide_type": "skip"
    }
   },
   "source": [
    "<center><h2>Bonus Material</h2></center>"
   ]
  },
  {
   "cell_type": "markdown",
   "id": "82cc3e4d",
   "metadata": {
    "slideshow": {
     "slide_type": "slide"
    }
   },
   "source": [
    "<center><h2>Pipelines for cross validation </h2></center>"
   ]
  },
  {
   "cell_type": "code",
   "execution_count": 111,
   "id": "206880cb",
   "metadata": {
    "slideshow": {
     "slide_type": "slide"
    }
   },
   "outputs": [],
   "source": [
    "# Load and split the data\n",
    "from sklearn.datasets        import load_iris\n",
    "from sklearn.model_selection import train_test_split\n",
    "\n",
    "iris = load_iris()\n",
    "X_train, X_test, y_train, y_test = train_test_split(iris.data, \n",
    "                                                    iris.target, \n",
    "                                                    test_size=0.2)"
   ]
  },
  {
   "cell_type": "code",
   "execution_count": 112,
   "id": "7833f0f5",
   "metadata": {
    "slideshow": {
     "slide_type": "skip"
    }
   },
   "outputs": [],
   "source": [
    "from sklearn.decomposition import PCA\n",
    "from sklearn.preprocessing import StandardScaler\n",
    "from sklearn.pipeline      import Pipeline\n",
    "from sklearn.tree          import DecisionTreeClassifier"
   ]
  },
  {
   "cell_type": "code",
   "execution_count": 113,
   "id": "fb0a6a3b",
   "metadata": {
    "slideshow": {
     "slide_type": "slide"
    }
   },
   "outputs": [],
   "source": [
    "pipe_dt = Pipeline([('scl', StandardScaler()),          \n",
    "                    ('pca', PCA(n_components=2)),       \n",
    "                    ('clf', DecisionTreeClassifier())]) "
   ]
  },
  {
   "cell_type": "code",
   "execution_count": 114,
   "id": "ad63c775",
   "metadata": {
    "slideshow": {
     "slide_type": "slide"
    }
   },
   "outputs": [
    {
     "name": "stdout",
     "output_type": "stream",
     "text": [
      "0.9083\n"
     ]
    }
   ],
   "source": [
    "from sklearn.model_selection import cross_val_score, KFold\n",
    "\n",
    "kfold = KFold(n_splits=10)\n",
    "results = cross_val_score(pipe_dt, # Put your pipeline where an Estimator would go\n",
    "                          X_train, \n",
    "                          y_train, \n",
    "                          cv=kfold)\n",
    "print(f\"{results.mean():.4f}\")"
   ]
  },
  {
   "cell_type": "markdown",
   "id": "34145406",
   "metadata": {
    "slideshow": {
     "slide_type": "slide"
    }
   },
   "source": [
    "<center><img src=\"https://imgs.xkcd.com/comics/data_pipeline.png\" width=\"100%\"/></center>\n"
   ]
  },
  {
   "cell_type": "markdown",
   "id": "personal-telescope",
   "metadata": {
    "slideshow": {
     "slide_type": "slide"
    }
   },
   "source": [
    "<center><h2>Pipeline advantages</h2></center>\n",
    "\n",
    "- All steps in a single object (aka, encapsulation)."
   ]
  },
  {
   "cell_type": "markdown",
   "id": "8bd39f4f",
   "metadata": {
    "slideshow": {
     "slide_type": "fragment"
    }
   },
   "source": [
    "- Apply the appropriate steps to separately to training and test datasets.\n",
    "\n"
   ]
  },
  {
   "cell_type": "markdown",
   "id": "784d7cdf",
   "metadata": {
    "slideshow": {
     "slide_type": "fragment"
    }
   },
   "source": [
    "- Pipeline will also help prevent data leakage, i.e. disclosing some testing data in your training data.\n"
   ]
  },
  {
   "cell_type": "markdown",
   "id": "0e878c4a",
   "metadata": {
    "slideshow": {
     "slide_type": "fragment"
    }
   },
   "source": [
    "- Plays nicely with cross validation (CV) - feature selection within CV loops."
   ]
  },
  {
   "cell_type": "markdown",
   "id": "exciting-bulgaria",
   "metadata": {
    "slideshow": {
     "slide_type": "skip"
    }
   },
   "source": [
    "<center><h2>Sources of Inspiration</h2></center>\n",
    "\n",
    "- [Advanced Machine Learning with Scikit-learn](https://www.youtube.com/watch?v=7l_WQO3JbWE&ab_channel=rakutentech)\n",
    "- https://jakevdp.github.io/PythonDataScienceHandbook/05.02-introducing-scikit-learn.html\n",
    "- [Kevin Goetsch | Deploying Machine Learning using sklearn pipelines](https://www.youtube.com/watch?v=URdnFlZnlaE&ab_channel=PyData)\n",
    "- https://towardsdatascience.com/introduction-to-scikit-learns-pipelines-565cc549754a\n",
    "- https://www.kdnuggets.com/2017/12/managing-machine-learning-workflows-scikit-learn-pipelines-part-1.html"
   ]
  },
  {
   "cell_type": "markdown",
   "id": "f67ccdc1",
   "metadata": {
    "slideshow": {
     "slide_type": "skip"
    }
   },
   "source": [
    "<center><h2>Check for understanding</h2></center> \n",
    "\n",
    "Please order the lettered steps to build a valid pipeline\n",
    "\n",
    "```python\n",
    "from sklearn.datasets        import load_boston \n",
    "from sklearn.linear_model    import LinearRegression\n",
    "from sklearn.model_selection import train_test_split\n",
    "from sklearn.pipeline        import Pipeline\n",
    "from sklearn.preprocessing   import StandardScaler\n",
    "\n",
    "\n",
    "# A \n",
    "pipe.fit(X_train, y_train)\n",
    "\n",
    "# B\n",
    "X_train, X_test, y_train, y_test= train_test_split(X, y)\n",
    "\n",
    "# C\n",
    "X, y = load_boston(return_X_y=True)\n",
    "\n",
    "# D\n",
    "pipe.predict(X_test)\n",
    "\n",
    "# E\n",
    "pipe = Pipeline([('scaler', StandardScaler()), \n",
    "                 ('lr',     LinearRegression())])\n",
    "```"
   ]
  },
  {
   "cell_type": "markdown",
   "id": "881bc47f",
   "metadata": {
    "slideshow": {
     "slide_type": "skip"
    }
   },
   "source": [
    "<br>\n",
    "<br> \n",
    "<br>\n",
    "\n",
    "----"
   ]
  }
 ],
 "metadata": {
  "celltoolbar": "Slideshow",
  "kernelspec": {
   "display_name": "Python 3 (ipykernel)",
   "language": "python",
   "name": "python3"
  },
  "language_info": {
   "codemirror_mode": {
    "name": "ipython",
    "version": 3
   },
   "file_extension": ".py",
   "mimetype": "text/x-python",
   "name": "python",
   "nbconvert_exporter": "python",
   "pygments_lexer": "ipython3",
   "version": "3.9.9"
  },
  "toc": {
   "base_numbering": 1,
   "nav_menu": {},
   "number_sections": false,
   "sideBar": false,
   "skip_h1_title": false,
   "title_cell": "Table of Contents",
   "title_sidebar": "Contents",
   "toc_cell": true,
   "toc_position": {},
   "toc_section_display": true,
   "toc_window_display": false
  }
 },
 "nbformat": 4,
 "nbformat_minor": 5
}
