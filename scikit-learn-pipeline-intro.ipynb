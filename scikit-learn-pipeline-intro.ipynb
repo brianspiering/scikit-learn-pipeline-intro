{
 "cells": [
  {
   "cell_type": "markdown",
   "id": "higher-label",
   "metadata": {
    "slideshow": {
     "slide_type": "skip"
    },
    "toc": true
   },
   "source": [
    "<h1>Table of Contents<span class=\"tocSkip\"></span></h1>\n",
    "<div class=\"toc\"><ul class=\"toc-item\"><li><span><a href=\"#Introduction-to-scikit-learn's-pipelines\" data-toc-modified-id=\"Introduction-to-scikit-learn's-pipelines-1\">Introduction to scikit-learn's pipelines</a></span></li><li><span><a href=\"#by-Brian-Spiering\" data-toc-modified-id=\"by-Brian-Spiering-2\">by Brian Spiering</a></span></li><li><span><a href=\"#Who-am-I?\" data-toc-modified-id=\"Who-am-I?-3\">Who am I?</a></span></li><li><span><a href=\"#Motivating-Story\" data-toc-modified-id=\"Motivating-Story-4\">Motivating Story</a></span></li><li><span><a href=\"#Learning-Outcomes\" data-toc-modified-id=\"Learning-Outcomes-5\">Learning Outcomes</a></span></li><li><span><a href=\"#Scikit-learn-Package-Review\" data-toc-modified-id=\"Scikit-learn-Package-Review-6\">Scikit-learn Package Review</a></span></li><li><span><a href=\"#Scikit-learn's-Estimator\" data-toc-modified-id=\"Scikit-learn's-Estimator-7\">Scikit-learn's Estimator</a></span></li><li><span><a href=\"#What-if…\" data-toc-modified-id=\"What-if…-8\">What if…</a></span></li><li><span><a href=\"#Advantages-of-scikit-learn's-Pipelines\" data-toc-modified-id=\"Advantages-of-scikit-learn's-Pipelines-9\">Advantages of scikit-learn's Pipelines</a></span></li><li><span><a href=\"#Pipelines\" data-toc-modified-id=\"Pipelines-10\">Pipelines</a></span></li><li><span><a href=\"#Pipelines-automatically-apply-the-correct-steps-\" data-toc-modified-id=\"Pipelines-automatically-apply-the-correct-steps--11\">Pipelines automatically apply the correct steps </a></span></li><li><span><a href=\"#&quot;Programming-is-all-about-managing-complexity&quot;\" data-toc-modified-id=\"&quot;Programming-is-all-about-managing-complexity&quot;-12\">\"Programming is all about managing complexity\"</a></span></li><li><span><a href=\"#Pipeline-advantages\" data-toc-modified-id=\"Pipeline-advantages-13\">Pipeline advantages</a></span></li><li><span><a href=\"#Automate-fitting-many-models-with-a-pipeline\" data-toc-modified-id=\"Automate-fitting-many-models-with-a-pipeline-14\">Automate fitting many models with a pipeline</a></span></li><li><span><a href=\"#Pipelines-automatically-apply-the-correct-steps-\" data-toc-modified-id=\"Pipelines-automatically-apply-the-correct-steps--15\">Pipelines automatically apply the correct steps </a></span></li><li><span><a href=\"#Transformations-based-on-column-type-\" data-toc-modified-id=\"Transformations-based-on-column-type--16\">Transformations based on column type </a></span></li><li><span><a href=\"#Takeaways\" data-toc-modified-id=\"Takeaways-17\">Takeaways</a></span></li><li><span><a href=\"#Bonus-Material\" data-toc-modified-id=\"Bonus-Material-18\">Bonus Material</a></span></li><li><span><a href=\"#Sources-of-Inspiration\" data-toc-modified-id=\"Sources-of-Inspiration-19\">Sources of Inspiration</a></span></li><li><span><a href=\"#Check-for-understanding\" data-toc-modified-id=\"Check-for-understanding-20\">Check for understanding</a></span></li></ul></div>"
   ]
  },
  {
   "cell_type": "markdown",
   "id": "suitable-black",
   "metadata": {
    "slideshow": {
     "slide_type": "slide"
    }
   },
   "source": [
    "<center><h2>Introduction to scikit-learn's pipelines</h2></center>\n",
    "<center><h2>by Brian Spiering</h2></center>\n",
    "\n",
    "<br>\n",
    "<br>\n",
    "<center><img src=\"images/pipeline_intro.png\" width=\"100%\"/></center>"
   ]
  },
  {
   "cell_type": "markdown",
   "id": "aad18afb",
   "metadata": {
    "slideshow": {
     "slide_type": "slide"
    }
   },
   "source": [
    "<center><h2>Who am I?</h2></center>\n",
    "<center><img src=\"images/hi.png\" width=\"45%\"/></center>\n",
    "<center>Brian Spiering</center>\n",
    "<center>A Data Science Instructor at Metis</center>"
   ]
  },
  {
   "cell_type": "markdown",
   "id": "39f4e918",
   "metadata": {
    "slideshow": {
     "slide_type": "slide"
    }
   },
   "source": [
    "<br>\n",
    "<center><img src=\"images/olympic_rings.jpeg\" width=\"75%\"/></center>"
   ]
  },
  {
   "cell_type": "markdown",
   "id": "6ca102f8",
   "metadata": {
    "slideshow": {
     "slide_type": "skip"
    }
   },
   "source": [
    "[Image Source](https://compote.slate.com/images/005266c4-3c9f-416e-b2a4-f421e23ce879.jpeg?width=780&height=520&rect=1560x1040&offset=0x0)"
   ]
  },
  {
   "cell_type": "markdown",
   "id": "44325466",
   "metadata": {
    "slideshow": {
     "slide_type": "skip"
    }
   },
   "source": [
    "<center><h2>Motivating Story</h2></center>\n",
    "\n",
    "Image you are working as junior Data Scientist at a media company related to the Olympics. You have just built your first model to predict which athletes will be the biggest influencers in the near future. \n",
    "\n",
    "It took a while to find the right data, clean it and organize it, and fit that first algorithm. Now you boss says those dreaded words, \"Does your code scale?\"...\n",
    "\n",
    "Today I'm going to show you how to start on that path towards scale and improving your machine learning programming skills."
   ]
  },
  {
   "cell_type": "markdown",
   "id": "linear-peninsula",
   "metadata": {
    "slideshow": {
     "slide_type": "skip"
    }
   },
   "source": [
    "<center><h2>Learning Outcomes</h2></center>\n",
    "\n",
    "__By the end of this session, you should be able to__:\n",
    "\n",
    "- Describe what is scikit-learn's pipeline.\n",
    "- List the advantages of using scikit-learn's pipeline.\n",
    "- Code scikit-learn pipelines to automate machine learning."
   ]
  },
  {
   "cell_type": "markdown",
   "id": "occasional-politics",
   "metadata": {
    "slideshow": {
     "slide_type": "slide"
    }
   },
   "source": [
    "<center><h2>Scikit-learn Package Review</h2></center>\n",
    "\n",
    "<br>\n",
    "<center><img src=\"images/1200px-Scikit_learn_logo_small.svg.png\" width=\"35%\"/></center>"
   ]
  },
  {
   "cell_type": "markdown",
   "id": "5edc540a",
   "metadata": {
    "slideshow": {
     "slide_type": "skip"
    }
   },
   "source": [
    "You should already be familiar the fundamentals of scikit-learn.\n",
    "\n",
    "Scikit-learn is a Python library for traditional machine learning.\n",
    "\n",
    "Scikit-learn features:\n",
    "\n",
    "- Open source\n",
    "- Well-established\n",
    "- Comprehensive\n",
    "    - Handles pre-preprocessing, cleaning, feature extraction and selection, and cross-validation\n",
    "    - Most popular algorithms are included\n",
    "- Consistent, easy-to-use interface\n",
    "- Object-oriented programming (OOP) / class based."
   ]
  },
  {
   "cell_type": "code",
   "execution_count": 23,
   "id": "4cc0d1c0",
   "metadata": {
    "slideshow": {
     "slide_type": "slide"
    }
   },
   "outputs": [],
   "source": [
    "# Scikit-learn Example"
   ]
  },
  {
   "cell_type": "code",
   "execution_count": 24,
   "id": "429d87e5",
   "metadata": {
    "slideshow": {
     "slide_type": "skip"
    }
   },
   "outputs": [],
   "source": [
    "reset -fs"
   ]
  },
  {
   "cell_type": "code",
   "execution_count": 25,
   "id": "6f43105d",
   "metadata": {
    "slideshow": {
     "slide_type": "fragment"
    }
   },
   "outputs": [],
   "source": [
    "# Create sample data \n",
    "import numpy as np\n",
    "\n",
    "#             Number of followers, number of posts\n",
    "X = np.array([[121_883, 2_921],    [192_981, 6_9231]]) \n",
    "#             Number of likes\n",
    "y = np.array([[10_342],            [17_841]])         "
   ]
  },
  {
   "cell_type": "code",
   "execution_count": 26,
   "id": "6a24ac3e",
   "metadata": {
    "slideshow": {
     "slide_type": "slide"
    }
   },
   "outputs": [
    {
     "data": {
      "text/html": [
       "<style>#sk-640bb47b-bd50-4e03-a4ea-fc48c355af3d {color: black;background-color: white;}#sk-640bb47b-bd50-4e03-a4ea-fc48c355af3d pre{padding: 0;}#sk-640bb47b-bd50-4e03-a4ea-fc48c355af3d div.sk-toggleable {background-color: white;}#sk-640bb47b-bd50-4e03-a4ea-fc48c355af3d label.sk-toggleable__label {cursor: pointer;display: block;width: 100%;margin-bottom: 0;padding: 0.3em;box-sizing: border-box;text-align: center;}#sk-640bb47b-bd50-4e03-a4ea-fc48c355af3d div.sk-toggleable__content {max-height: 0;max-width: 0;overflow: hidden;text-align: left;background-color: #f0f8ff;}#sk-640bb47b-bd50-4e03-a4ea-fc48c355af3d div.sk-toggleable__content pre {margin: 0.2em;color: black;border-radius: 0.25em;background-color: #f0f8ff;}#sk-640bb47b-bd50-4e03-a4ea-fc48c355af3d input.sk-toggleable__control:checked~div.sk-toggleable__content {max-height: 200px;max-width: 100%;overflow: auto;}#sk-640bb47b-bd50-4e03-a4ea-fc48c355af3d div.sk-estimator input.sk-toggleable__control:checked~label.sk-toggleable__label {background-color: #d4ebff;}#sk-640bb47b-bd50-4e03-a4ea-fc48c355af3d div.sk-label input.sk-toggleable__control:checked~label.sk-toggleable__label {background-color: #d4ebff;}#sk-640bb47b-bd50-4e03-a4ea-fc48c355af3d input.sk-hidden--visually {border: 0;clip: rect(1px 1px 1px 1px);clip: rect(1px, 1px, 1px, 1px);height: 1px;margin: -1px;overflow: hidden;padding: 0;position: absolute;width: 1px;}#sk-640bb47b-bd50-4e03-a4ea-fc48c355af3d div.sk-estimator {font-family: monospace;background-color: #f0f8ff;border: 1px dotted black;border-radius: 0.25em;box-sizing: border-box;margin-bottom: 0.5em;}#sk-640bb47b-bd50-4e03-a4ea-fc48c355af3d div.sk-estimator:hover {background-color: #d4ebff;}#sk-640bb47b-bd50-4e03-a4ea-fc48c355af3d div.sk-parallel-item::after {content: \"\";width: 100%;border-bottom: 1px solid gray;flex-grow: 1;}#sk-640bb47b-bd50-4e03-a4ea-fc48c355af3d div.sk-label:hover label.sk-toggleable__label {background-color: #d4ebff;}#sk-640bb47b-bd50-4e03-a4ea-fc48c355af3d div.sk-serial::before {content: \"\";position: absolute;border-left: 1px solid gray;box-sizing: border-box;top: 2em;bottom: 0;left: 50%;}#sk-640bb47b-bd50-4e03-a4ea-fc48c355af3d div.sk-serial {display: flex;flex-direction: column;align-items: center;background-color: white;padding-right: 0.2em;padding-left: 0.2em;}#sk-640bb47b-bd50-4e03-a4ea-fc48c355af3d div.sk-item {z-index: 1;}#sk-640bb47b-bd50-4e03-a4ea-fc48c355af3d div.sk-parallel {display: flex;align-items: stretch;justify-content: center;background-color: white;}#sk-640bb47b-bd50-4e03-a4ea-fc48c355af3d div.sk-parallel::before {content: \"\";position: absolute;border-left: 1px solid gray;box-sizing: border-box;top: 2em;bottom: 0;left: 50%;}#sk-640bb47b-bd50-4e03-a4ea-fc48c355af3d div.sk-parallel-item {display: flex;flex-direction: column;position: relative;background-color: white;}#sk-640bb47b-bd50-4e03-a4ea-fc48c355af3d div.sk-parallel-item:first-child::after {align-self: flex-end;width: 50%;}#sk-640bb47b-bd50-4e03-a4ea-fc48c355af3d div.sk-parallel-item:last-child::after {align-self: flex-start;width: 50%;}#sk-640bb47b-bd50-4e03-a4ea-fc48c355af3d div.sk-parallel-item:only-child::after {width: 0;}#sk-640bb47b-bd50-4e03-a4ea-fc48c355af3d div.sk-dashed-wrapped {border: 1px dashed gray;margin: 0 0.4em 0.5em 0.4em;box-sizing: border-box;padding-bottom: 0.4em;background-color: white;position: relative;}#sk-640bb47b-bd50-4e03-a4ea-fc48c355af3d div.sk-label label {font-family: monospace;font-weight: bold;background-color: white;display: inline-block;line-height: 1.2em;}#sk-640bb47b-bd50-4e03-a4ea-fc48c355af3d div.sk-label-container {position: relative;z-index: 2;text-align: center;}#sk-640bb47b-bd50-4e03-a4ea-fc48c355af3d div.sk-container {display: inline-block;position: relative;}</style><div id=\"sk-640bb47b-bd50-4e03-a4ea-fc48c355af3d\" class\"sk-top-container\"><div class=\"sk-container\"><div class=\"sk-item\"><div class=\"sk-estimator sk-toggleable\"><input class=\"sk-toggleable__control sk-hidden--visually\" id=\"d6143c87-5d73-4d4b-8c46-86a7c18f1eb3\" type=\"checkbox\" checked><label class=\"sk-toggleable__label\" for=\"d6143c87-5d73-4d4b-8c46-86a7c18f1eb3\">LinearRegression</label><div class=\"sk-toggleable__content\"><pre>LinearRegression()</pre></div></div></div></div></div>"
      ],
      "text/plain": [
       "LinearRegression()"
      ]
     },
     "execution_count": 26,
     "metadata": {},
     "output_type": "execute_result"
    }
   ],
   "source": [
    "# Build a scikit-learn model \n",
    "from sklearn.linear_model  import LinearRegression\n",
    "\n",
    "lr = LinearRegression()\n",
    "lr.fit(X, y)"
   ]
  },
  {
   "cell_type": "code",
   "execution_count": 27,
   "id": "816c8f7c",
   "metadata": {
    "slideshow": {
     "slide_type": "fragment"
    }
   },
   "outputs": [
    {
     "name": "stdout",
     "output_type": "stream",
     "text": [
      "11,699\n"
     ]
    }
   ],
   "source": [
    "# For a new account, what is the predicted number of likes?\n",
    "# Number of followers, number of posts\n",
    "new_account = np.array([[143_231, 5_823]])\n",
    "predicted_number_of_likes = lr.predict(new_account)[0][0]\n",
    "print(f\"{predicted_number_of_likes:,.0f}\")"
   ]
  },
  {
   "cell_type": "markdown",
   "id": "alpha-excitement",
   "metadata": {
    "slideshow": {
     "slide_type": "slide"
    }
   },
   "source": [
    "<center><h2>Scikit-learn's Estimator</h2></center>\n",
    "\n",
    "Estimator is a consistent interface for all scikit-learn algorithms. \n",
    "\n",
    "All estimators have a fit method:\n",
    "`estimator.fit(X, [y])` \n",
    "\n"
   ]
  },
  {
   "cell_type": "markdown",
   "id": "42981fef",
   "metadata": {
    "slideshow": {
     "slide_type": "slide"
    }
   },
   "source": [
    "__Estimators have other methods__:\n",
    "\n",
    "- `estimator.predict`\n",
    "    - Classification\n",
    "    - Regression\n",
    "    - Clustering"
   ]
  },
  {
   "cell_type": "markdown",
   "id": "33e1ec12",
   "metadata": {
    "slideshow": {
     "slide_type": "fragment"
    }
   },
   "source": [
    "- `estimator.transform` (thus, called Transformers)\n",
    "    - Preprocessing\n",
    "    - Dimensionality reduction\n",
    "    - Feature selection"
   ]
  },
  {
   "cell_type": "markdown",
   "id": "c0457bf4",
   "metadata": {
    "slideshow": {
     "slide_type": "skip"
    }
   },
   "source": [
    "X is required.  \n",
    "y is optional."
   ]
  },
  {
   "cell_type": "markdown",
   "id": "156b9d60",
   "metadata": {
    "slideshow": {
     "slide_type": "slide"
    }
   },
   "source": [
    "<center><h2>What if…</h2></center>\n",
    "You have built a basline model. Now you wonder about possible improvements:\n"
   ]
  },
  {
   "cell_type": "markdown",
   "id": "a0879541",
   "metadata": {
    "slideshow": {
     "slide_type": "fragment"
    }
   },
   "source": [
    "- What if I change the algorithm?\n",
    "\n",
    "\n"
   ]
  },
  {
   "cell_type": "markdown",
   "id": "79ac5bcb",
   "metadata": {
    "slideshow": {
     "slide_type": "fragment"
    }
   },
   "source": [
    "- What if I change a hyperparamter?"
   ]
  },
  {
   "cell_type": "markdown",
   "id": "e234b81f",
   "metadata": {
    "slideshow": {
     "slide_type": "fragment"
    }
   },
   "source": [
    "- What if I do more feature engineering?"
   ]
  },
  {
   "cell_type": "markdown",
   "id": "5ac995c4",
   "metadata": {},
   "source": [
    "<center><h2>Advantages of scikit-learn's Pipelines</h2></center>\n",
    "\n",
    "- Pipelines make it easier to explore different options.\n",
    "- Pipelines makes it easier to reorder or add/remove steps.\n",
    "- Pipelines makes complex code more readable."
   ]
  },
  {
   "cell_type": "markdown",
   "id": "covered-interface",
   "metadata": {
    "slideshow": {
     "slide_type": "slide"
    }
   },
   "source": [
    "<center><h2>Pipelines</h2></center>\n",
    "<center><img src=\"images/pipeline_real_world.jpg\" width=\"100%\"/></center>"
   ]
  },
  {
   "cell_type": "markdown",
   "id": "8404c327",
   "metadata": {
    "slideshow": {
     "slide_type": "skip"
    }
   },
   "source": [
    "Pipelines are a very useful idea.\n",
    "\n",
    "Pipelines allow things (oil or data) to move without losing any of the precious resource.\n",
    "\n",
    "Pipelines have modular segments. If section needs to be improved, only that section needs to be replaced."
   ]
  },
  {
   "cell_type": "code",
   "execution_count": 28,
   "id": "another-alarm",
   "metadata": {
    "slideshow": {
     "slide_type": "slide"
    }
   },
   "outputs": [
    {
     "data": {
      "text/html": [
       "<style>#sk-72dfac22-0b65-4250-8ea4-3f3171907c11 {color: black;background-color: white;}#sk-72dfac22-0b65-4250-8ea4-3f3171907c11 pre{padding: 0;}#sk-72dfac22-0b65-4250-8ea4-3f3171907c11 div.sk-toggleable {background-color: white;}#sk-72dfac22-0b65-4250-8ea4-3f3171907c11 label.sk-toggleable__label {cursor: pointer;display: block;width: 100%;margin-bottom: 0;padding: 0.3em;box-sizing: border-box;text-align: center;}#sk-72dfac22-0b65-4250-8ea4-3f3171907c11 div.sk-toggleable__content {max-height: 0;max-width: 0;overflow: hidden;text-align: left;background-color: #f0f8ff;}#sk-72dfac22-0b65-4250-8ea4-3f3171907c11 div.sk-toggleable__content pre {margin: 0.2em;color: black;border-radius: 0.25em;background-color: #f0f8ff;}#sk-72dfac22-0b65-4250-8ea4-3f3171907c11 input.sk-toggleable__control:checked~div.sk-toggleable__content {max-height: 200px;max-width: 100%;overflow: auto;}#sk-72dfac22-0b65-4250-8ea4-3f3171907c11 div.sk-estimator input.sk-toggleable__control:checked~label.sk-toggleable__label {background-color: #d4ebff;}#sk-72dfac22-0b65-4250-8ea4-3f3171907c11 div.sk-label input.sk-toggleable__control:checked~label.sk-toggleable__label {background-color: #d4ebff;}#sk-72dfac22-0b65-4250-8ea4-3f3171907c11 input.sk-hidden--visually {border: 0;clip: rect(1px 1px 1px 1px);clip: rect(1px, 1px, 1px, 1px);height: 1px;margin: -1px;overflow: hidden;padding: 0;position: absolute;width: 1px;}#sk-72dfac22-0b65-4250-8ea4-3f3171907c11 div.sk-estimator {font-family: monospace;background-color: #f0f8ff;border: 1px dotted black;border-radius: 0.25em;box-sizing: border-box;margin-bottom: 0.5em;}#sk-72dfac22-0b65-4250-8ea4-3f3171907c11 div.sk-estimator:hover {background-color: #d4ebff;}#sk-72dfac22-0b65-4250-8ea4-3f3171907c11 div.sk-parallel-item::after {content: \"\";width: 100%;border-bottom: 1px solid gray;flex-grow: 1;}#sk-72dfac22-0b65-4250-8ea4-3f3171907c11 div.sk-label:hover label.sk-toggleable__label {background-color: #d4ebff;}#sk-72dfac22-0b65-4250-8ea4-3f3171907c11 div.sk-serial::before {content: \"\";position: absolute;border-left: 1px solid gray;box-sizing: border-box;top: 2em;bottom: 0;left: 50%;}#sk-72dfac22-0b65-4250-8ea4-3f3171907c11 div.sk-serial {display: flex;flex-direction: column;align-items: center;background-color: white;padding-right: 0.2em;padding-left: 0.2em;}#sk-72dfac22-0b65-4250-8ea4-3f3171907c11 div.sk-item {z-index: 1;}#sk-72dfac22-0b65-4250-8ea4-3f3171907c11 div.sk-parallel {display: flex;align-items: stretch;justify-content: center;background-color: white;}#sk-72dfac22-0b65-4250-8ea4-3f3171907c11 div.sk-parallel::before {content: \"\";position: absolute;border-left: 1px solid gray;box-sizing: border-box;top: 2em;bottom: 0;left: 50%;}#sk-72dfac22-0b65-4250-8ea4-3f3171907c11 div.sk-parallel-item {display: flex;flex-direction: column;position: relative;background-color: white;}#sk-72dfac22-0b65-4250-8ea4-3f3171907c11 div.sk-parallel-item:first-child::after {align-self: flex-end;width: 50%;}#sk-72dfac22-0b65-4250-8ea4-3f3171907c11 div.sk-parallel-item:last-child::after {align-self: flex-start;width: 50%;}#sk-72dfac22-0b65-4250-8ea4-3f3171907c11 div.sk-parallel-item:only-child::after {width: 0;}#sk-72dfac22-0b65-4250-8ea4-3f3171907c11 div.sk-dashed-wrapped {border: 1px dashed gray;margin: 0 0.4em 0.5em 0.4em;box-sizing: border-box;padding-bottom: 0.4em;background-color: white;position: relative;}#sk-72dfac22-0b65-4250-8ea4-3f3171907c11 div.sk-label label {font-family: monospace;font-weight: bold;background-color: white;display: inline-block;line-height: 1.2em;}#sk-72dfac22-0b65-4250-8ea4-3f3171907c11 div.sk-label-container {position: relative;z-index: 2;text-align: center;}#sk-72dfac22-0b65-4250-8ea4-3f3171907c11 div.sk-container {display: inline-block;position: relative;}</style><div id=\"sk-72dfac22-0b65-4250-8ea4-3f3171907c11\" class\"sk-top-container\"><div class=\"sk-container\"><div class=\"sk-item sk-dashed-wrapped\"><div class=\"sk-label-container\"><div class=\"sk-label sk-toggleable\"><input class=\"sk-toggleable__control sk-hidden--visually\" id=\"fb769950-f995-4c06-bbb2-9cc7c450c974\" type=\"checkbox\" ><label class=\"sk-toggleable__label\" for=\"fb769950-f995-4c06-bbb2-9cc7c450c974\">Pipeline</label><div class=\"sk-toggleable__content\"><pre>Pipeline(steps=[('standardscaler', StandardScaler()),\n",
       "                ('linearregression', LinearRegression())])</pre></div></div></div><div class=\"sk-serial\"><div class=\"sk-item\"><div class=\"sk-estimator sk-toggleable\"><input class=\"sk-toggleable__control sk-hidden--visually\" id=\"953b8f7b-c955-486e-bcad-eee9581dcf97\" type=\"checkbox\" ><label class=\"sk-toggleable__label\" for=\"953b8f7b-c955-486e-bcad-eee9581dcf97\">StandardScaler</label><div class=\"sk-toggleable__content\"><pre>StandardScaler()</pre></div></div></div><div class=\"sk-item\"><div class=\"sk-estimator sk-toggleable\"><input class=\"sk-toggleable__control sk-hidden--visually\" id=\"2d318859-0912-49f3-a5b4-65e30bb1b859\" type=\"checkbox\" ><label class=\"sk-toggleable__label\" for=\"2d318859-0912-49f3-a5b4-65e30bb1b859\">LinearRegression</label><div class=\"sk-toggleable__content\"><pre>LinearRegression()</pre></div></div></div></div></div></div></div>"
      ],
      "text/plain": [
       "Pipeline(steps=[('standardscaler', StandardScaler()),\n",
       "                ('linearregression', LinearRegression())])"
      ]
     },
     "execution_count": 28,
     "metadata": {},
     "output_type": "execute_result"
    }
   ],
   "source": [
    "# scikit-learn pipeline example\n",
    "from sklearn.pipeline      import make_pipeline\n",
    "from sklearn.preprocessing import StandardScaler\n",
    "\n",
    "pipe = make_pipeline(StandardScaler(), LinearRegression())\n",
    "pipe.fit(X, y)"
   ]
  },
  {
   "cell_type": "markdown",
   "id": "1eca405f",
   "metadata": {
    "slideshow": {
     "slide_type": "skip"
    }
   },
   "source": [
    "[Source](https://stackoverflow.com/questions/33091376/python-what-is-exactly-sklearn-pipeline-pipeline)"
   ]
  },
  {
   "cell_type": "code",
   "execution_count": null,
   "id": "d1aa6395",
   "metadata": {},
   "outputs": [],
   "source": []
  },
  {
   "cell_type": "code",
   "execution_count": 29,
   "id": "c9280cca",
   "metadata": {
    "slideshow": {
     "slide_type": "fragment"
    }
   },
   "outputs": [
    {
     "name": "stdout",
     "output_type": "stream",
     "text": [
      "11,632\n"
     ]
    }
   ],
   "source": [
    "# Predict new, unlabeled data \n",
    "predicted_number_of_likes = pipe.predict(new_account)[0][0]\n",
    "print(f\"{predicted_number_of_likes:,.0f}\")"
   ]
  },
  {
   "cell_type": "markdown",
   "id": "306ba555",
   "metadata": {
    "slideshow": {
     "slide_type": "slide"
    }
   },
   "source": [
    "<center><h2>Pipelines automatically apply the correct steps </h2></center>\n",
    "<br>\n",
    "<center><img src=\"images/pipeline-diagram-1.png\" width=\"65%\"/></center>"
   ]
  },
  {
   "cell_type": "markdown",
   "id": "failing-trunk",
   "metadata": {
    "slideshow": {
     "slide_type": "slide"
    }
   },
   "source": [
    "<center><h2>\"Programming is all about managing complexity\"</h2></center>\n",
    "\n",
    "Abstractions help us do that. Pipelines are a great abstraction.\n",
    "\n",
    "Instead of managing every step manually, we can create and use a Pipeline object."
   ]
  },
  {
   "cell_type": "markdown",
   "id": "personal-telescope",
   "metadata": {
    "slideshow": {
     "slide_type": "slide"
    }
   },
   "source": [
    "<center><h2>Pipeline advantages</h2></center>\n",
    "\n",
    "- Encapsulation all steps in a single object. Pipeline can be evaluated and tuned as a single entity.\n"
   ]
  },
  {
   "cell_type": "markdown",
   "id": "8bd39f4f",
   "metadata": {
    "slideshow": {
     "slide_type": "fragment"
    }
   },
   "source": [
    "- Apply the appropriate steps to training and test datasets.\n",
    "\n"
   ]
  },
  {
   "cell_type": "markdown",
   "id": "784d7cdf",
   "metadata": {
    "slideshow": {
     "slide_type": "fragment"
    }
   },
   "source": [
    "- Pipeline will also help prevent data leakage, i.e. disclosing some testing data in your training data.\n"
   ]
  },
  {
   "cell_type": "markdown",
   "id": "0e878c4a",
   "metadata": {
    "slideshow": {
     "slide_type": "fragment"
    }
   },
   "source": [
    "- Plays nicely with cross validation (CV) - feature selection within CV loops."
   ]
  },
  {
   "cell_type": "code",
   "execution_count": 30,
   "id": "e2aa1656",
   "metadata": {
    "slideshow": {
     "slide_type": "skip"
    }
   },
   "outputs": [],
   "source": [
    "from sklearn.datasets        import load_diabetes \n",
    "from sklearn.linear_model    import LinearRegression\n",
    "from sklearn.model_selection import train_test_split\n",
    "\n",
    "from sklearn.preprocessing   import StandardScaler"
   ]
  },
  {
   "cell_type": "code",
   "execution_count": 31,
   "id": "e0287e06",
   "metadata": {
    "slideshow": {
     "slide_type": "slide"
    }
   },
   "outputs": [],
   "source": [
    "# More complex example\n",
    "X, y = load_diabetes(return_X_y=True)\n",
    "X_train, X_test, y_train, y_test= train_test_split(X, y)"
   ]
  },
  {
   "cell_type": "code",
   "execution_count": null,
   "id": "2d4c3739",
   "metadata": {
    "slideshow": {
     "slide_type": "slide"
    }
   },
   "outputs": [],
   "source": [
    "# Pipeline class\n",
    "from sklearn.pipeline        import Pipeline\n",
    "\n",
    "pipe = Pipeline([('scaler', StandardScaler()), \n",
    "                 ('lr',     LinearRegression())])"
   ]
  },
  {
   "cell_type": "code",
   "execution_count": 32,
   "id": "10a482b6",
   "metadata": {
    "slideshow": {
     "slide_type": "fragment"
    }
   },
   "outputs": [
    {
     "data": {
      "text/plain": [
       "array([114.2591476 ,  84.21425206, 114.49307025, 219.21506143,\n",
       "       141.43813393, 215.49466315, 158.50536807,  83.90414987,\n",
       "       124.87531711, 225.17826319, 236.70563226, 168.17154934,\n",
       "       206.86526565, 158.23596027,  91.08995484, 117.96969489,\n",
       "       189.99497929, 175.53608689, 213.83842927, 220.24296323,\n",
       "       100.5347465 ,  84.51966758, 138.64459603, 264.20411227,\n",
       "        75.81770748,  91.45986204, 159.83745484, 148.65338749,\n",
       "       120.25092667, 258.43853191, 114.88298938, 146.30402704,\n",
       "       156.4057846 , 180.67341383, 151.8347843 , 235.49350161,\n",
       "       188.54537488, 166.66676274, 268.48435346, 262.62683181,\n",
       "       113.13739223, 202.05261387, 102.50778589, 123.57736353,\n",
       "       220.97232433, 109.80974213, 159.58044258, 214.25352145,\n",
       "       181.81018121, 231.50526086, 180.90916352,  93.48796049,\n",
       "       120.24719829, 181.17512901, 206.11364388, 229.33515873,\n",
       "        79.38826918, 278.02325606, 114.7271172 ,  48.70830422,\n",
       "       160.19303224, 119.58339476, 250.61256282, 198.22342271,\n",
       "       171.63271919, 220.35418673, 226.27221414, 175.75255331,\n",
       "       161.93589655, 131.85877263, 146.62978291, 169.79135082,\n",
       "       189.37325688, 166.98747234, 165.21968901, 200.43598741,\n",
       "       118.07107056, 223.28481883, 139.42273156, 237.93411834,\n",
       "       198.20185162, 228.50480017, 143.9560217 ,  97.3240289 ,\n",
       "       103.4307331 , 164.3696051 , 208.39127037, 152.96105856,\n",
       "        64.34287421,  68.83251446, 218.14716375,  77.26858156,\n",
       "       259.52566499, 176.85605079, 167.26802847,  85.96340895,\n",
       "       102.62899418, 168.73659145,  75.82385413, 242.77131958,\n",
       "       126.28409816, 252.80437108, 119.58024998, 126.77953383,\n",
       "       230.36157845, 162.28948825, 156.57734792, 206.32865228,\n",
       "       124.30395945,  63.6081145 ,  72.29654176])"
      ]
     },
     "execution_count": 32,
     "metadata": {},
     "output_type": "execute_result"
    }
   ],
   "source": [
    "pipe.fit(X_train, y_train)\n",
    "pipe.predict(X_test)"
   ]
  },
  {
   "cell_type": "markdown",
   "id": "23950d35",
   "metadata": {
    "slideshow": {
     "slide_type": "slide"
    }
   },
   "source": [
    "<center><h2>Automate fitting many models with a pipeline</h2></center>\n"
   ]
  },
  {
   "cell_type": "code",
   "execution_count": 33,
   "id": "0575b884",
   "metadata": {
    "slideshow": {
     "slide_type": "skip"
    }
   },
   "outputs": [],
   "source": [
    "from sklearn.decomposition import PCA\n",
    "from sklearn.linear_model  import Lasso, Ridge, ElasticNet, HuberRegressor, BayesianRidge\n",
    "from sklearn.metrics       import mean_squared_error"
   ]
  },
  {
   "cell_type": "code",
   "execution_count": null,
   "id": "7f18e7af",
   "metadata": {
    "slideshow": {
     "slide_type": "skip"
    }
   },
   "outputs": [],
   "source": [
    "X_train, X_validation, y_train, y_validation= train_test_split(X, y, random_state=42)"
   ]
  },
  {
   "cell_type": "code",
   "execution_count": 34,
   "id": "af1999c3",
   "metadata": {
    "slideshow": {
     "slide_type": "fragment"
    }
   },
   "outputs": [
    {
     "name": "stdout",
     "output_type": "stream",
     "text": [
      "Mean squared error for diabetes dataset (regression): \n",
      "    LinearRegression: 2,770.3\n",
      "    Lasso           : 2,753.3\n",
      "    Ridge           : 2,770.2\n",
      "    ElasticNet      : 2,868.0\n",
      "    HuberRegressor  : 2,769.5\n",
      "    BayesianRidge   : 2,769.9\n"
     ]
    }
   ],
   "source": [
    "# Define a collection of algorithms\n",
    "algorithms = [LinearRegression(), Lasso(), Ridge(), ElasticNet(), HuberRegressor(), BayesianRidge()]\n",
    "results = dict()\n",
    "\n",
    "print(\"Mean squared error for diabetes dataset (regression): \")\n",
    "for algo in algorithms:\n",
    "    pipe = Pipeline([('scaler', StandardScaler()), \n",
    "                     ('pca',    PCA(n_components=5)),\n",
    "                     ('lm',     algo)])\n",
    "\n",
    "    pipe.fit(X_train, y_train)\n",
    "    y_pred = pipe.predict(X_validation)\n",
    "    mse = mean_squared_error(y_validation, y_pred)\n",
    "    print(f\"    {algo.__class__.__name__:<16}: {mse:,.01f}\")"
   ]
  },
  {
   "cell_type": "markdown",
   "id": "8745f5d5",
   "metadata": {
    "slideshow": {
     "slide_type": "skip"
    }
   },
   "source": [
    "Source: https://iaml.it/blog/optimizing-sklearn-pipelines/"
   ]
  },
  {
   "cell_type": "code",
   "execution_count": 35,
   "id": "562e42d0",
   "metadata": {
    "slideshow": {
     "slide_type": "slide"
    }
   },
   "outputs": [
    {
     "data": {
      "text/html": [
       "<style>#sk-3f380813-dcf7-46ce-a341-c92de663264a {color: black;background-color: white;}#sk-3f380813-dcf7-46ce-a341-c92de663264a pre{padding: 0;}#sk-3f380813-dcf7-46ce-a341-c92de663264a div.sk-toggleable {background-color: white;}#sk-3f380813-dcf7-46ce-a341-c92de663264a label.sk-toggleable__label {cursor: pointer;display: block;width: 100%;margin-bottom: 0;padding: 0.3em;box-sizing: border-box;text-align: center;}#sk-3f380813-dcf7-46ce-a341-c92de663264a div.sk-toggleable__content {max-height: 0;max-width: 0;overflow: hidden;text-align: left;background-color: #f0f8ff;}#sk-3f380813-dcf7-46ce-a341-c92de663264a div.sk-toggleable__content pre {margin: 0.2em;color: black;border-radius: 0.25em;background-color: #f0f8ff;}#sk-3f380813-dcf7-46ce-a341-c92de663264a input.sk-toggleable__control:checked~div.sk-toggleable__content {max-height: 200px;max-width: 100%;overflow: auto;}#sk-3f380813-dcf7-46ce-a341-c92de663264a div.sk-estimator input.sk-toggleable__control:checked~label.sk-toggleable__label {background-color: #d4ebff;}#sk-3f380813-dcf7-46ce-a341-c92de663264a div.sk-label input.sk-toggleable__control:checked~label.sk-toggleable__label {background-color: #d4ebff;}#sk-3f380813-dcf7-46ce-a341-c92de663264a input.sk-hidden--visually {border: 0;clip: rect(1px 1px 1px 1px);clip: rect(1px, 1px, 1px, 1px);height: 1px;margin: -1px;overflow: hidden;padding: 0;position: absolute;width: 1px;}#sk-3f380813-dcf7-46ce-a341-c92de663264a div.sk-estimator {font-family: monospace;background-color: #f0f8ff;border: 1px dotted black;border-radius: 0.25em;box-sizing: border-box;margin-bottom: 0.5em;}#sk-3f380813-dcf7-46ce-a341-c92de663264a div.sk-estimator:hover {background-color: #d4ebff;}#sk-3f380813-dcf7-46ce-a341-c92de663264a div.sk-parallel-item::after {content: \"\";width: 100%;border-bottom: 1px solid gray;flex-grow: 1;}#sk-3f380813-dcf7-46ce-a341-c92de663264a div.sk-label:hover label.sk-toggleable__label {background-color: #d4ebff;}#sk-3f380813-dcf7-46ce-a341-c92de663264a div.sk-serial::before {content: \"\";position: absolute;border-left: 1px solid gray;box-sizing: border-box;top: 2em;bottom: 0;left: 50%;}#sk-3f380813-dcf7-46ce-a341-c92de663264a div.sk-serial {display: flex;flex-direction: column;align-items: center;background-color: white;padding-right: 0.2em;padding-left: 0.2em;}#sk-3f380813-dcf7-46ce-a341-c92de663264a div.sk-item {z-index: 1;}#sk-3f380813-dcf7-46ce-a341-c92de663264a div.sk-parallel {display: flex;align-items: stretch;justify-content: center;background-color: white;}#sk-3f380813-dcf7-46ce-a341-c92de663264a div.sk-parallel::before {content: \"\";position: absolute;border-left: 1px solid gray;box-sizing: border-box;top: 2em;bottom: 0;left: 50%;}#sk-3f380813-dcf7-46ce-a341-c92de663264a div.sk-parallel-item {display: flex;flex-direction: column;position: relative;background-color: white;}#sk-3f380813-dcf7-46ce-a341-c92de663264a div.sk-parallel-item:first-child::after {align-self: flex-end;width: 50%;}#sk-3f380813-dcf7-46ce-a341-c92de663264a div.sk-parallel-item:last-child::after {align-self: flex-start;width: 50%;}#sk-3f380813-dcf7-46ce-a341-c92de663264a div.sk-parallel-item:only-child::after {width: 0;}#sk-3f380813-dcf7-46ce-a341-c92de663264a div.sk-dashed-wrapped {border: 1px dashed gray;margin: 0 0.4em 0.5em 0.4em;box-sizing: border-box;padding-bottom: 0.4em;background-color: white;position: relative;}#sk-3f380813-dcf7-46ce-a341-c92de663264a div.sk-label label {font-family: monospace;font-weight: bold;background-color: white;display: inline-block;line-height: 1.2em;}#sk-3f380813-dcf7-46ce-a341-c92de663264a div.sk-label-container {position: relative;z-index: 2;text-align: center;}#sk-3f380813-dcf7-46ce-a341-c92de663264a div.sk-container {display: inline-block;position: relative;}</style><div id=\"sk-3f380813-dcf7-46ce-a341-c92de663264a\" class\"sk-top-container\"><div class=\"sk-container\"><div class=\"sk-item sk-dashed-wrapped\"><div class=\"sk-label-container\"><div class=\"sk-label sk-toggleable\"><input class=\"sk-toggleable__control sk-hidden--visually\" id=\"c88fdea1-483c-4e16-9d46-21576f7935a7\" type=\"checkbox\" ><label class=\"sk-toggleable__label\" for=\"c88fdea1-483c-4e16-9d46-21576f7935a7\">Pipeline</label><div class=\"sk-toggleable__content\"><pre>Pipeline(steps=[('scaler', StandardScaler()), ('pca', PCA(n_components=5)),\n",
       "                ('lm', BayesianRidge())])</pre></div></div></div><div class=\"sk-serial\"><div class=\"sk-item\"><div class=\"sk-estimator sk-toggleable\"><input class=\"sk-toggleable__control sk-hidden--visually\" id=\"12b759df-3019-45fc-b692-0c8f7e3c5df3\" type=\"checkbox\" ><label class=\"sk-toggleable__label\" for=\"12b759df-3019-45fc-b692-0c8f7e3c5df3\">StandardScaler</label><div class=\"sk-toggleable__content\"><pre>StandardScaler()</pre></div></div></div><div class=\"sk-item\"><div class=\"sk-estimator sk-toggleable\"><input class=\"sk-toggleable__control sk-hidden--visually\" id=\"c2515302-5f0d-4f15-b308-966f0d643942\" type=\"checkbox\" ><label class=\"sk-toggleable__label\" for=\"c2515302-5f0d-4f15-b308-966f0d643942\">PCA</label><div class=\"sk-toggleable__content\"><pre>PCA(n_components=5)</pre></div></div></div><div class=\"sk-item\"><div class=\"sk-estimator sk-toggleable\"><input class=\"sk-toggleable__control sk-hidden--visually\" id=\"55fae7fa-04ae-49aa-bfb0-2f8c83483f31\" type=\"checkbox\" ><label class=\"sk-toggleable__label\" for=\"55fae7fa-04ae-49aa-bfb0-2f8c83483f31\">BayesianRidge</label><div class=\"sk-toggleable__content\"><pre>BayesianRidge()</pre></div></div></div></div></div></div></div>"
      ],
      "text/plain": [
       "Pipeline(steps=[('scaler', StandardScaler()), ('pca', PCA(n_components=5)),\n",
       "                ('lm', BayesianRidge())])"
      ]
     },
     "execution_count": 35,
     "metadata": {},
     "output_type": "execute_result"
    }
   ],
   "source": [
    "# Visualize pipeline\n",
    "from sklearn import set_config\n",
    "\n",
    "set_config(display='diagram')\n",
    "pipe"
   ]
  },
  {
   "cell_type": "markdown",
   "id": "alternate-tender",
   "metadata": {
    "slideshow": {
     "slide_type": "slide"
    }
   },
   "source": [
    "<center><h2>Pipelines automatically apply the correct steps </h2></center>\n",
    "<br>\n",
    "<center><img src=\"images/pipeline-diagram-1.png\" width=\"65%\"/></center>"
   ]
  },
  {
   "cell_type": "markdown",
   "id": "b7b58c44",
   "metadata": {
    "slideshow": {
     "slide_type": "slide"
    }
   },
   "source": [
    "<center><h2>Transformations based on column type </h2></center>"
   ]
  },
  {
   "cell_type": "code",
   "execution_count": 36,
   "id": "ff642f57",
   "metadata": {
    "slideshow": {
     "slide_type": "skip"
    }
   },
   "outputs": [],
   "source": [
    "import pandas as pd"
   ]
  },
  {
   "cell_type": "code",
   "execution_count": 37,
   "id": "988c99b6",
   "metadata": {
    "slideshow": {
     "slide_type": "slide"
    }
   },
   "outputs": [
    {
     "data": {
      "text/html": [
       "<div>\n",
       "<style scoped>\n",
       "    .dataframe tbody tr th:only-of-type {\n",
       "        vertical-align: middle;\n",
       "    }\n",
       "\n",
       "    .dataframe tbody tr th {\n",
       "        vertical-align: top;\n",
       "    }\n",
       "\n",
       "    .dataframe thead th {\n",
       "        text-align: right;\n",
       "    }\n",
       "</style>\n",
       "<table border=\"1\" class=\"dataframe\">\n",
       "  <thead>\n",
       "    <tr style=\"text-align: right;\">\n",
       "      <th></th>\n",
       "      <th>age</th>\n",
       "      <th>workclass</th>\n",
       "      <th>education</th>\n",
       "      <th>education-num</th>\n",
       "      <th>marital-status</th>\n",
       "      <th>occupation</th>\n",
       "      <th>relationship</th>\n",
       "      <th>race</th>\n",
       "      <th>gender</th>\n",
       "      <th>capital-gain</th>\n",
       "      <th>capital-loss</th>\n",
       "      <th>hours-per-week</th>\n",
       "      <th>native-country</th>\n",
       "      <th>income</th>\n",
       "    </tr>\n",
       "  </thead>\n",
       "  <tbody>\n",
       "    <tr>\n",
       "      <th>0</th>\n",
       "      <td>39</td>\n",
       "      <td>State-gov</td>\n",
       "      <td>Bachelors</td>\n",
       "      <td>13</td>\n",
       "      <td>Never-married</td>\n",
       "      <td>Adm-clerical</td>\n",
       "      <td>Not-in-family</td>\n",
       "      <td>White</td>\n",
       "      <td>Male</td>\n",
       "      <td>2174</td>\n",
       "      <td>0</td>\n",
       "      <td>40</td>\n",
       "      <td>United-States</td>\n",
       "      <td>&lt;=50K</td>\n",
       "    </tr>\n",
       "    <tr>\n",
       "      <th>1</th>\n",
       "      <td>50</td>\n",
       "      <td>Self-emp-not-inc</td>\n",
       "      <td>Bachelors</td>\n",
       "      <td>13</td>\n",
       "      <td>Married-civ-spouse</td>\n",
       "      <td>Exec-managerial</td>\n",
       "      <td>Husband</td>\n",
       "      <td>White</td>\n",
       "      <td>Male</td>\n",
       "      <td>0</td>\n",
       "      <td>0</td>\n",
       "      <td>13</td>\n",
       "      <td>United-States</td>\n",
       "      <td>&lt;=50K</td>\n",
       "    </tr>\n",
       "    <tr>\n",
       "      <th>2</th>\n",
       "      <td>38</td>\n",
       "      <td>Private</td>\n",
       "      <td>HS-grad</td>\n",
       "      <td>9</td>\n",
       "      <td>Divorced</td>\n",
       "      <td>Handlers-cleaners</td>\n",
       "      <td>Not-in-family</td>\n",
       "      <td>White</td>\n",
       "      <td>Male</td>\n",
       "      <td>0</td>\n",
       "      <td>0</td>\n",
       "      <td>40</td>\n",
       "      <td>United-States</td>\n",
       "      <td>&lt;=50K</td>\n",
       "    </tr>\n",
       "    <tr>\n",
       "      <th>3</th>\n",
       "      <td>53</td>\n",
       "      <td>Private</td>\n",
       "      <td>11th</td>\n",
       "      <td>7</td>\n",
       "      <td>Married-civ-spouse</td>\n",
       "      <td>Handlers-cleaners</td>\n",
       "      <td>Husband</td>\n",
       "      <td>Black</td>\n",
       "      <td>Male</td>\n",
       "      <td>0</td>\n",
       "      <td>0</td>\n",
       "      <td>40</td>\n",
       "      <td>United-States</td>\n",
       "      <td>&lt;=50K</td>\n",
       "    </tr>\n",
       "    <tr>\n",
       "      <th>4</th>\n",
       "      <td>28</td>\n",
       "      <td>Private</td>\n",
       "      <td>Bachelors</td>\n",
       "      <td>13</td>\n",
       "      <td>Married-civ-spouse</td>\n",
       "      <td>Prof-specialty</td>\n",
       "      <td>Wife</td>\n",
       "      <td>Black</td>\n",
       "      <td>Female</td>\n",
       "      <td>0</td>\n",
       "      <td>0</td>\n",
       "      <td>40</td>\n",
       "      <td>Cuba</td>\n",
       "      <td>&lt;=50K</td>\n",
       "    </tr>\n",
       "  </tbody>\n",
       "</table>\n",
       "</div>"
      ],
      "text/plain": [
       "   age          workclass   education  education-num       marital-status  \\\n",
       "0   39          State-gov   Bachelors             13        Never-married   \n",
       "1   50   Self-emp-not-inc   Bachelors             13   Married-civ-spouse   \n",
       "2   38            Private     HS-grad              9             Divorced   \n",
       "3   53            Private        11th              7   Married-civ-spouse   \n",
       "4   28            Private   Bachelors             13   Married-civ-spouse   \n",
       "\n",
       "           occupation    relationship    race   gender  capital-gain  \\\n",
       "0        Adm-clerical   Not-in-family   White     Male          2174   \n",
       "1     Exec-managerial         Husband   White     Male             0   \n",
       "2   Handlers-cleaners   Not-in-family   White     Male             0   \n",
       "3   Handlers-cleaners         Husband   Black     Male             0   \n",
       "4      Prof-specialty            Wife   Black   Female             0   \n",
       "\n",
       "   capital-loss  hours-per-week  native-country  income  \n",
       "0             0              40   United-States   <=50K  \n",
       "1             0              13   United-States   <=50K  \n",
       "2             0              40   United-States   <=50K  \n",
       "3             0              40   United-States   <=50K  \n",
       "4             0              40            Cuba   <=50K  "
      ]
     },
     "execution_count": 37,
     "metadata": {},
     "output_type": "execute_result"
    }
   ],
   "source": [
    "# Load income dataset  \n",
    "data = pd.read_csv(\"adult.csv\", index_col=0)\n",
    "data.head() "
   ]
  },
  {
   "cell_type": "code",
   "execution_count": 38,
   "id": "ce5e791b",
   "metadata": {
    "slideshow": {
     "slide_type": "slide"
    }
   },
   "outputs": [],
   "source": [
    "# Define target and features\n",
    "target   = data.income\n",
    "features = data.drop(\"income\", axis=1)"
   ]
  },
  {
   "cell_type": "code",
   "execution_count": 39,
   "id": "a751a5cd",
   "metadata": {
    "slideshow": {
     "slide_type": "slide"
    }
   },
   "outputs": [
    {
     "data": {
      "text/plain": [
       "age               False\n",
       "workclass          True\n",
       "education          True\n",
       "education-num     False\n",
       "marital-status     True\n",
       "occupation         True\n",
       "relationship       True\n",
       "race               True\n",
       "gender             True\n",
       "capital-gain      False\n",
       "capital-loss      False\n",
       "hours-per-week    False\n",
       "native-country     True\n",
       "dtype: bool"
      ]
     },
     "execution_count": 39,
     "metadata": {},
     "output_type": "execute_result"
    }
   ],
   "source": [
    "# Find the categorical columns\n",
    "categorical_columns = (features.dtypes==object)\n",
    "categorical_columns"
   ]
  },
  {
   "cell_type": "code",
   "execution_count": 40,
   "id": "32730c3a",
   "metadata": {
    "slideshow": {
     "slide_type": "slide"
    }
   },
   "outputs": [],
   "source": [
    "from sklearn.model_selection import train_test_split\n",
    "\n",
    "X_train, X_test, y_train, y_test = train_test_split(features, target)"
   ]
  },
  {
   "cell_type": "code",
   "execution_count": 41,
   "id": "63b01795",
   "metadata": {
    "slideshow": {
     "slide_type": "skip"
    }
   },
   "outputs": [],
   "source": [
    "from sklearn.pipeline        import Pipeline\n",
    "from sklearn.preprocessing   import StandardScaler, OneHotEncoder\n",
    "from sklearn.impute          import SimpleImputer"
   ]
  },
  {
   "cell_type": "code",
   "execution_count": 42,
   "id": "845cf594",
   "metadata": {
    "slideshow": {
     "slide_type": "slide"
    }
   },
   "outputs": [],
   "source": [
    "# Define a pipeline for continuous features\n",
    "con_pipe = Pipeline([('scaler',   StandardScaler()),\n",
    "                      ('imputer', SimpleImputer(strategy='median', add_indicator=True))])\n"
   ]
  },
  {
   "cell_type": "code",
   "execution_count": 43,
   "id": "26a8d903",
   "metadata": {
    "slideshow": {
     "slide_type": "slide"
    }
   },
   "outputs": [],
   "source": [
    "# Define a pipeline for categorical features\n",
    "cat_pipe = Pipeline([('ohe',     OneHotEncoder(handle_unknown='ignore')),\n",
    "                     ('imputer', SimpleImputer(strategy='most_frequent', add_indicator=True))])"
   ]
  },
  {
   "cell_type": "code",
   "execution_count": 44,
   "id": "9404658a",
   "metadata": {
    "slideshow": {
     "slide_type": "slide"
    }
   },
   "outputs": [],
   "source": [
    "# Put the two different pipelines together\n",
    "from sklearn.compose import ColumnTransformer\n",
    "\n",
    "preprocessing = ColumnTransformer([('categorical', cat_pipe,  categorical_columns),\n",
    "                                   ('continuous',  con_pipe, ~categorical_columns),])"
   ]
  },
  {
   "cell_type": "code",
   "execution_count": 45,
   "id": "57159862",
   "metadata": {
    "slideshow": {
     "slide_type": "slide"
    }
   },
   "outputs": [
    {
     "data": {
      "text/plain": [
       "array([' <=50K', ' <=50K', ' <=50K', ..., ' <=50K', ' <=50K', ' >50K'],\n",
       "      dtype=object)"
      ]
     },
     "execution_count": 45,
     "metadata": {},
     "output_type": "execute_result"
    }
   ],
   "source": [
    "# Choose the algorithm \n",
    "from sklearn.linear_model    import LogisticRegression\n",
    "\n",
    "pipe = Pipeline([('preprocessing', preprocessing), \n",
    "                 ('clf',           LogisticRegression(solver='liblinear'))])\n",
    "pipe.fit(X_train, y_train)\n",
    "pipe.predict(X_test)"
   ]
  },
  {
   "cell_type": "markdown",
   "id": "dangerous-priority",
   "metadata": {
    "slideshow": {
     "slide_type": "slide"
    }
   },
   "source": [
    "<center><h2>Takeaways</h2></center>\n",
    "\n",
    "- Scikit-learn's Pipelines can encapsulate all modeling steps.\n"
   ]
  },
  {
   "cell_type": "markdown",
   "id": "0c5611af",
   "metadata": {
    "slideshow": {
     "slide_type": "fragment"
    }
   },
   "source": [
    "- Pipelines act like a regular scikit-learn Estimator. Everything you would do with a regular algorithm, you can do with a Pipeline.\n"
   ]
  },
  {
   "cell_type": "markdown",
   "id": "31f69d4b",
   "metadata": {
    "slideshow": {
     "slide_type": "fragment"
    }
   },
   "source": [
    "\n",
    "- Scikit-learn's Pipelines are helpful for writing more readable, robust, and maintainable code.\n"
   ]
  },
  {
   "cell_type": "markdown",
   "id": "ad037aac",
   "metadata": {
    "slideshow": {
     "slide_type": "slide"
    }
   },
   "source": [
    "<br>\n",
    "<center><img src=\"images/thank_you.png\" width=\"75%\"/></center>\n",
    "<center>All these materials are in a GitHub repo:</center>   \n",
    "<center><a href=\"https://bit.ly/pipeline-metis\">bit.ly/pipeline-metis</a></center>   \n",
    "\n"
   ]
  },
  {
   "cell_type": "markdown",
   "id": "aafeac07",
   "metadata": {
    "slideshow": {
     "slide_type": "skip"
    }
   },
   "source": [
    "<center><h2>Bonus Material</h2></center>"
   ]
  },
  {
   "cell_type": "markdown",
   "id": "82cc3e4d",
   "metadata": {
    "slideshow": {
     "slide_type": "slide"
    }
   },
   "source": [
    "<center><h2>Pipelines for cross validation </h2></center>"
   ]
  },
  {
   "cell_type": "code",
   "execution_count": 46,
   "id": "206880cb",
   "metadata": {
    "slideshow": {
     "slide_type": "slide"
    }
   },
   "outputs": [],
   "source": [
    "# Load and split the data\n",
    "from sklearn.datasets        import load_iris\n",
    "from sklearn.model_selection import train_test_split\n",
    "\n",
    "iris = load_iris()\n",
    "X_train, X_test, y_train, y_test = train_test_split(iris.data, \n",
    "                                                    iris.target, \n",
    "                                                    test_size=0.2)"
   ]
  },
  {
   "cell_type": "code",
   "execution_count": 48,
   "id": "7833f0f5",
   "metadata": {
    "slideshow": {
     "slide_type": "skip"
    }
   },
   "outputs": [],
   "source": [
    "from sklearn.decomposition import PCA\n",
    "from sklearn.preprocessing import StandardScaler\n",
    "from sklearn.pipeline      import Pipeline\n",
    "from sklearn.tree          import DecisionTreeClassifier"
   ]
  },
  {
   "cell_type": "code",
   "execution_count": 49,
   "id": "fb0a6a3b",
   "metadata": {
    "slideshow": {
     "slide_type": "slide"
    }
   },
   "outputs": [],
   "source": [
    "pipe_dt = Pipeline([('scl', StandardScaler()),          \n",
    "                    ('pca', PCA(n_components=2)),       \n",
    "                    ('clf', DecisionTreeClassifier())]) "
   ]
  },
  {
   "cell_type": "code",
   "execution_count": 51,
   "id": "ad63c775",
   "metadata": {
    "slideshow": {
     "slide_type": "slide"
    }
   },
   "outputs": [
    {
     "name": "stdout",
     "output_type": "stream",
     "text": [
      "0.8750\n"
     ]
    }
   ],
   "source": [
    "from sklearn.model_selection import cross_val_score, KFold\n",
    "\n",
    "kfold = KFold(n_splits=10)\n",
    "results = cross_val_score(pipe_dt, # Put your pipeline where an Estimator would go\n",
    "                          X_train, \n",
    "                          y_train, \n",
    "                          cv=kfold)\n",
    "print(f\"{results.mean():.4f}\")"
   ]
  },
  {
   "cell_type": "markdown",
   "id": "34145406",
   "metadata": {
    "slideshow": {
     "slide_type": "slide"
    }
   },
   "source": [
    "<center><img src=\"https://imgs.xkcd.com/comics/data_pipeline.png\" width=\"75%\"/></center>\n"
   ]
  },
  {
   "cell_type": "markdown",
   "id": "exciting-bulgaria",
   "metadata": {
    "slideshow": {
     "slide_type": "skip"
    }
   },
   "source": [
    "<center><h2>Sources of Inspiration</h2></center>\n",
    "\n",
    "- [Advanced Machine Learning with Scikit-learn](https://www.youtube.com/watch?v=7l_WQO3JbWE&ab_channel=rakutentech)\n",
    "- https://jakevdp.github.io/PythonDataScienceHandbook/05.02-introducing-scikit-learn.html\n",
    "- [Kevin Goetsch | Deploying Machine Learning using sklearn pipelines](https://www.youtube.com/watch?v=URdnFlZnlaE&ab_channel=PyData)\n",
    "- https://towardsdatascience.com/introduction-to-scikit-learns-pipelines-565cc549754a\n",
    "- https://www.kdnuggets.com/2017/12/managing-machine-learning-workflows-scikit-learn-pipelines-part-1.html"
   ]
  },
  {
   "cell_type": "markdown",
   "id": "f67ccdc1",
   "metadata": {
    "slideshow": {
     "slide_type": "skip"
    }
   },
   "source": [
    "<center><h2>Check for understanding</h2></center> \n",
    "\n",
    "Please order the lettered steps to build a valid pipeline\n",
    "\n",
    "```python\n",
    "from sklearn.datasets        import load_boston \n",
    "from sklearn.linear_model    import LinearRegression\n",
    "from sklearn.model_selection import train_test_split\n",
    "from sklearn.pipeline        import Pipeline\n",
    "from sklearn.preprocessing   import StandardScaler\n",
    "\n",
    "\n",
    "# A \n",
    "pipe.fit(X_train, y_train)\n",
    "\n",
    "# B\n",
    "X_train, X_test, y_train, y_test= train_test_split(X, y)\n",
    "\n",
    "# C\n",
    "X, y = load_boston(return_X_y=True)\n",
    "\n",
    "# D\n",
    "pipe.predict(X_test)\n",
    "\n",
    "# E\n",
    "pipe = Pipeline([('scaler', StandardScaler()), \n",
    "                 ('lr',     LinearRegression())])\n",
    "```"
   ]
  },
  {
   "cell_type": "markdown",
   "id": "881bc47f",
   "metadata": {
    "slideshow": {
     "slide_type": "skip"
    }
   },
   "source": [
    "<br>\n",
    "<br> \n",
    "<br>\n",
    "\n",
    "----"
   ]
  }
 ],
 "metadata": {
  "celltoolbar": "Slideshow",
  "kernelspec": {
   "display_name": "Python 3 (ipykernel)",
   "language": "python",
   "name": "python3"
  },
  "language_info": {
   "codemirror_mode": {
    "name": "ipython",
    "version": 3
   },
   "file_extension": ".py",
   "mimetype": "text/x-python",
   "name": "python",
   "nbconvert_exporter": "python",
   "pygments_lexer": "ipython3",
   "version": "3.9.9"
  },
  "toc": {
   "base_numbering": 1,
   "nav_menu": {},
   "number_sections": false,
   "sideBar": false,
   "skip_h1_title": false,
   "title_cell": "Table of Contents",
   "title_sidebar": "Contents",
   "toc_cell": true,
   "toc_position": {},
   "toc_section_display": true,
   "toc_window_display": false
  }
 },
 "nbformat": 4,
 "nbformat_minor": 5
}
