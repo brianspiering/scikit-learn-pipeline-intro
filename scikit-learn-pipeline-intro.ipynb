{
 "cells": [
  {
   "cell_type": "markdown",
   "id": "higher-label",
   "metadata": {
    "toc": true
   },
   "source": [
    "<h1>Table of Contents<span class=\"tocSkip\"></span></h1>\n",
    "<div class=\"toc\"><ul class=\"toc-item\"><li><span><a href=\"#Introduction-to-Scikit-Learn's-Pipelines\" data-toc-modified-id=\"Introduction-to-Scikit-Learn's-Pipelines-1\">Introduction to Scikit-Learn's Pipelines</a></span></li><li><span><a href=\"#Motivating-Story\" data-toc-modified-id=\"Motivating-Story-2\">Motivating Story</a></span></li><li><span><a href=\"#Learning-Outcomes\" data-toc-modified-id=\"Learning-Outcomes-3\">Learning Outcomes</a></span></li><li><span><a href=\"#Review-of-Scikit-learn-Package\" data-toc-modified-id=\"Review-of-Scikit-learn-Package-4\">Review of Scikit-learn Package</a></span></li><li><span><a href=\"#Scikit-learn's-Estimator\" data-toc-modified-id=\"Scikit-learn's-Estimator-5\">Scikit-learn's Estimator</a></span></li><li><span><a href=\"#Scikit-learn's-Pipeline\" data-toc-modified-id=\"Scikit-learn's-Pipeline-6\">Scikit-learn's Pipeline</a></span></li><li><span><a href=\"#&quot;Programming-is-all-about-managing-complexity&quot;\" data-toc-modified-id=\"&quot;Programming-is-all-about-managing-complexity&quot;-7\">\"Programming is all about managing complexity\"</a></span></li><li><span><a href=\"#Pipeline-advantages\" data-toc-modified-id=\"Pipeline-advantages-8\">Pipeline advantages</a></span></li><li><span><a href=\"#Check-for-understanding\" data-toc-modified-id=\"Check-for-understanding-9\">Check for understanding</a></span></li><li><span><a href=\"#Automate-fitting-many-models-with-a-pipeline\" data-toc-modified-id=\"Automate-fitting-many-models-with-a-pipeline-10\">Automate fitting many models with a pipeline</a></span></li><li><span><a href=\"#Pipelines-automatically-apply-the-correct-steps-\" data-toc-modified-id=\"Pipelines-automatically-apply-the-correct-steps--11\">Pipelines automatically apply the correct steps </a></span></li><li><span><a href=\"#Takeaways\" data-toc-modified-id=\"Takeaways-12\">Takeaways</a></span></li><li><span><a href=\"#Bonus-Material\" data-toc-modified-id=\"Bonus-Material-13\">Bonus Material</a></span></li><li><span><a href=\"#Transformations-based-on-column-type-\" data-toc-modified-id=\"Transformations-based-on-column-type--14\">Transformations based on column type </a></span></li><li><span><a href=\"#Sources-of-Inspiration\" data-toc-modified-id=\"Sources-of-Inspiration-15\">Sources of Inspiration</a></span></li></ul></div>"
   ]
  },
  {
   "cell_type": "markdown",
   "id": "suitable-black",
   "metadata": {},
   "source": [
    "<center><h2>Introduction to Scikit-Learn's Pipelines</h2></center>\n",
    "<br>\n",
    "<br>\n",
    "<center><img src=\"https://imgs.xkcd.com/comics/data_pipeline.png\" width=\"75%\"/></center>\n",
    "\n",
    "<center><h2>Motivating Story</h2></center>\n",
    "\n",
    "Image you are working as junior Data Scientist at a media company related to the Olympics. You have just built your first model to predict which athletes will be the biggest influencers in the near future. \n",
    "\n",
    "It took a while to find the right data, clean it and organize it, and fit that first algorithm. Now you boss says those dreaded words, \"Does your code scale?\"...\n",
    "\n",
    "Today I'm going to show you how to start on that path towards scale and improving your machine learning programming skills."
   ]
  },
  {
   "cell_type": "markdown",
   "id": "linear-peninsula",
   "metadata": {},
   "source": [
    "<center><h2>Learning Outcomes</h2></center>\n",
    "\n",
    "__By the end of this session, you should be able to__:\n",
    "\n",
    "- Describe what is scikit-learn's pipeline.\n",
    "- List the advantages of using scikit-learn's pipeline.\n",
    "- Code scikit-learn pipelines to automate machine learning."
   ]
  },
  {
   "cell_type": "markdown",
   "id": "occasional-politics",
   "metadata": {},
   "source": [
    "<center><h2>Review of Scikit-learn Package</h2></center>\n",
    "\n",
    "<br>\n",
    "<center><img src=\"images/1200px-Scikit_learn_logo_small.svg.png\" width=\"35%\"/></center>\n",
    "\n",
    "You should already be familiar the fundamentals of scikit-learn.\n",
    "\n",
    "Scikit-learn is a Python library for traditional machine learning.\n",
    "\n",
    "Scikit-learn features:\n",
    "\n",
    "- Open source\n",
    "- Well-established\n",
    "- Comprehensive\n",
    "    - Handles pre-preprocessing, cleaning, feature extraction and selection, and cross-validation\n",
    "    - Most popular algorithms are included\n",
    "- Consistent, easy-to-use interface\n",
    "- Object-oriented programming (OOP) / class based."
   ]
  },
  {
   "cell_type": "markdown",
   "id": "alpha-excitement",
   "metadata": {},
   "source": [
    "<center><h2>Scikit-learn's Estimator</h2></center>\n",
    "\n",
    "Estimator is a consistent interface for all algorithms. \n",
    "\n",
    "All estimators have a fit method:\n",
    "`estimator.fit(X, [y])`\n",
    "\n",
    "X is required.  \n",
    "y is optional.\n",
    "\n",
    "Estimators either have a predict or transform method.\n",
    "\n",
    "- `estimator.predict`\n",
    "    - Classification\n",
    "    - Regression\n",
    "    - Clustering\n",
    "- `estimator.transform` (Sometimes called Transformers)\n",
    "    - Preprocessing\n",
    "    - Dimensionality reduction\n",
    "    - Feature selection\n",
    "\n"
   ]
  },
  {
   "cell_type": "markdown",
   "id": "covered-interface",
   "metadata": {},
   "source": [
    "<center><h2>Scikit-learn's Pipeline</h2></center>\n",
    "<br>\n",
    "<center><img src=\"images/Automate-Machine-Learning-Workflows-with-Pipelines-in-Python-and-scikit-learn.jpg\" width=\"75%\"/></center>\n",
    "\n",
    "Pipelines are very useful concept.\n",
    "\n",
    "Pipelines allow things (oil or data) to move without losing any of the precious resource.\n",
    "\n",
    "Pipelines have modular segments. If section needs to be improved, only that section needs to be replaced."
   ]
  },
  {
   "cell_type": "markdown",
   "id": "failing-trunk",
   "metadata": {},
   "source": [
    "<center><h2>\"Programming is all about managing complexity\"</h2></center>\n",
    "\n",
    "Abstractions help us do that.\n",
    "\n",
    "Pipelines are a great abstraction.\n",
    "\n",
    "Instead of tracking every step, we just create and pass a Pipeline object. An example of encapsulation.\n",
    "\n",
    "[Source](https://stackoverflow.com/questions/33091376/python-what-is-exactly-sklearn-pipeline-pipeline)"
   ]
  },
  {
   "cell_type": "markdown",
   "id": "personal-telescope",
   "metadata": {},
   "source": [
    "<center><h2>Pipeline advantages</h2></center>\n",
    "\n",
    "- Encapsulation all steps in a single object. Pipeline can be evaluated and tuned as a single entity.\n",
    "- Apply the appropriate steps to training and test datasets.\n",
    "- Pipeline will also help prevent data leakage, i.e. disclosing some testing data in your training data.\n",
    "- Plays nicely with cross validation (CV) - feature selection within CV loops.\n"
   ]
  },
  {
   "cell_type": "code",
   "execution_count": 45,
   "id": "429d87e5",
   "metadata": {},
   "outputs": [],
   "source": [
    "reset -fs"
   ]
  },
  {
   "cell_type": "code",
   "execution_count": 46,
   "id": "6f43105d",
   "metadata": {},
   "outputs": [],
   "source": [
    "# Create sample data \n",
    "import numpy as np\n",
    "\n",
    "X = np.array([[1.0, 2],\n",
    "              [5.6, 3.4]])\n",
    "y = np.array([[.5], \n",
    "              [.4]])"
   ]
  },
  {
   "cell_type": "code",
   "execution_count": 47,
   "id": "another-alarm",
   "metadata": {},
   "outputs": [
    {
     "data": {
      "text/html": [
       "<style>#sk-f2f8a817-5dd8-4e88-8934-5610ecaf7bfe {color: black;background-color: white;}#sk-f2f8a817-5dd8-4e88-8934-5610ecaf7bfe pre{padding: 0;}#sk-f2f8a817-5dd8-4e88-8934-5610ecaf7bfe div.sk-toggleable {background-color: white;}#sk-f2f8a817-5dd8-4e88-8934-5610ecaf7bfe label.sk-toggleable__label {cursor: pointer;display: block;width: 100%;margin-bottom: 0;padding: 0.2em 0.3em;box-sizing: border-box;text-align: center;}#sk-f2f8a817-5dd8-4e88-8934-5610ecaf7bfe div.sk-toggleable__content {max-height: 0;max-width: 0;overflow: hidden;text-align: left;background-color: #f0f8ff;}#sk-f2f8a817-5dd8-4e88-8934-5610ecaf7bfe div.sk-toggleable__content pre {margin: 0.2em;color: black;border-radius: 0.25em;background-color: #f0f8ff;}#sk-f2f8a817-5dd8-4e88-8934-5610ecaf7bfe input.sk-toggleable__control:checked~div.sk-toggleable__content {max-height: 200px;max-width: 100%;overflow: auto;}#sk-f2f8a817-5dd8-4e88-8934-5610ecaf7bfe div.sk-estimator input.sk-toggleable__control:checked~label.sk-toggleable__label {background-color: #d4ebff;}#sk-f2f8a817-5dd8-4e88-8934-5610ecaf7bfe div.sk-label input.sk-toggleable__control:checked~label.sk-toggleable__label {background-color: #d4ebff;}#sk-f2f8a817-5dd8-4e88-8934-5610ecaf7bfe input.sk-hidden--visually {border: 0;clip: rect(1px 1px 1px 1px);clip: rect(1px, 1px, 1px, 1px);height: 1px;margin: -1px;overflow: hidden;padding: 0;position: absolute;width: 1px;}#sk-f2f8a817-5dd8-4e88-8934-5610ecaf7bfe div.sk-estimator {font-family: monospace;background-color: #f0f8ff;margin: 0.25em 0.25em;border: 1px dotted black;border-radius: 0.25em;box-sizing: border-box;}#sk-f2f8a817-5dd8-4e88-8934-5610ecaf7bfe div.sk-estimator:hover {background-color: #d4ebff;}#sk-f2f8a817-5dd8-4e88-8934-5610ecaf7bfe div.sk-parallel-item::after {content: \"\";width: 100%;border-bottom: 1px solid gray;flex-grow: 1;}#sk-f2f8a817-5dd8-4e88-8934-5610ecaf7bfe div.sk-label:hover label.sk-toggleable__label {background-color: #d4ebff;}#sk-f2f8a817-5dd8-4e88-8934-5610ecaf7bfe div.sk-serial::before {content: \"\";position: absolute;border-left: 1px solid gray;box-sizing: border-box;top: 2em;bottom: 0;left: 50%;}#sk-f2f8a817-5dd8-4e88-8934-5610ecaf7bfe div.sk-serial {display: flex;flex-direction: column;align-items: center;background-color: white;}#sk-f2f8a817-5dd8-4e88-8934-5610ecaf7bfe div.sk-item {z-index: 1;}#sk-f2f8a817-5dd8-4e88-8934-5610ecaf7bfe div.sk-parallel {display: flex;align-items: stretch;justify-content: center;background-color: white;}#sk-f2f8a817-5dd8-4e88-8934-5610ecaf7bfe div.sk-parallel-item {display: flex;flex-direction: column;position: relative;background-color: white;}#sk-f2f8a817-5dd8-4e88-8934-5610ecaf7bfe div.sk-parallel-item:first-child::after {align-self: flex-end;width: 50%;}#sk-f2f8a817-5dd8-4e88-8934-5610ecaf7bfe div.sk-parallel-item:last-child::after {align-self: flex-start;width: 50%;}#sk-f2f8a817-5dd8-4e88-8934-5610ecaf7bfe div.sk-parallel-item:only-child::after {width: 0;}#sk-f2f8a817-5dd8-4e88-8934-5610ecaf7bfe div.sk-dashed-wrapped {border: 1px dashed gray;margin: 0.2em;box-sizing: border-box;padding-bottom: 0.1em;background-color: white;position: relative;}#sk-f2f8a817-5dd8-4e88-8934-5610ecaf7bfe div.sk-label label {font-family: monospace;font-weight: bold;background-color: white;display: inline-block;line-height: 1.2em;}#sk-f2f8a817-5dd8-4e88-8934-5610ecaf7bfe div.sk-label-container {position: relative;z-index: 2;text-align: center;}#sk-f2f8a817-5dd8-4e88-8934-5610ecaf7bfe div.sk-container {display: inline-block;position: relative;}</style><div id=\"sk-f2f8a817-5dd8-4e88-8934-5610ecaf7bfe\" class\"sk-top-container\"><div class=\"sk-container\"><div class=\"sk-item sk-dashed-wrapped\"><div class=\"sk-label-container\"><div class=\"sk-label sk-toggleable\"><input class=\"sk-toggleable__control sk-hidden--visually\" id=\"b7247fd9-2186-410b-8933-b9e2ff75b776\" type=\"checkbox\" ><label class=\"sk-toggleable__label\" for=\"b7247fd9-2186-410b-8933-b9e2ff75b776\">Pipeline</label><div class=\"sk-toggleable__content\"><pre>Pipeline(steps=[('scaler', StandardScaler()), ('lr', LinearRegression())])</pre></div></div></div><div class=\"sk-serial\"><div class=\"sk-item\"><div class=\"sk-estimator sk-toggleable\"><input class=\"sk-toggleable__control sk-hidden--visually\" id=\"656b6944-7177-4ab9-90e6-5cce3dc46c7b\" type=\"checkbox\" ><label class=\"sk-toggleable__label\" for=\"656b6944-7177-4ab9-90e6-5cce3dc46c7b\">StandardScaler</label><div class=\"sk-toggleable__content\"><pre>StandardScaler()</pre></div></div></div><div class=\"sk-item\"><div class=\"sk-estimator sk-toggleable\"><input class=\"sk-toggleable__control sk-hidden--visually\" id=\"3b300c1d-7a63-432d-983e-1b5fc4bd2113\" type=\"checkbox\" ><label class=\"sk-toggleable__label\" for=\"3b300c1d-7a63-432d-983e-1b5fc4bd2113\">LinearRegression</label><div class=\"sk-toggleable__content\"><pre>LinearRegression()</pre></div></div></div></div></div></div></div>"
      ],
      "text/plain": [
       "Pipeline(steps=[('scaler', StandardScaler()), ('lr', LinearRegression())])"
      ]
     },
     "execution_count": 47,
     "metadata": {},
     "output_type": "execute_result"
    }
   ],
   "source": [
    "from sklearn.pipeline      import Pipeline\n",
    "from sklearn.preprocessing import StandardScaler\n",
    "from sklearn.linear_model  import LinearRegression\n",
    "\n",
    "pipe = Pipeline([('scaler', StandardScaler()), \n",
    "                 ('lr',     LinearRegression())])\n",
    "\n",
    "pipe.fit(X, y)"
   ]
  },
  {
   "cell_type": "code",
   "execution_count": 48,
   "id": "c9280cca",
   "metadata": {},
   "outputs": [
    {
     "data": {
      "text/plain": [
       "array([[0.35465839]])"
      ]
     },
     "execution_count": 48,
     "metadata": {},
     "output_type": "execute_result"
    }
   ],
   "source": [
    "# Predict new, unlabeled data \n",
    "pipe.predict([[3.2, 5.4]])"
   ]
  },
  {
   "cell_type": "markdown",
   "id": "f67ccdc1",
   "metadata": {},
   "source": [
    "<center><h2>Check for understanding</h2></center> \n",
    "\n",
    "Please order the lettered steps to build a valid pipeline\n",
    "\n",
    "```python\n",
    "from sklearn.datasets        import load_boston \n",
    "from sklearn.linear_model    import LinearRegression\n",
    "from sklearn.model_selection import train_test_split\n",
    "from sklearn.pipeline        import Pipeline\n",
    "from sklearn.preprocessing   import StandardScaler\n",
    "\n",
    "\n",
    "# A \n",
    "pipe.fit(X_train, y_train)\n",
    "\n",
    "# B\n",
    "X_train, X_test, y_train, y_test= train_test_split(X, y)\n",
    "\n",
    "# C\n",
    "X, y = load_boston(return_X_y=True)\n",
    "\n",
    "# D\n",
    "pipe.predict(X_test)\n",
    "\n",
    "# E\n",
    "pipe = Pipeline([('scaler', StandardScaler()), \n",
    "                 ('lr',     LinearRegression())])\n",
    "```"
   ]
  },
  {
   "cell_type": "code",
   "execution_count": 49,
   "id": "e0287e06",
   "metadata": {},
   "outputs": [
    {
     "data": {
      "text/plain": [
       "array([ 69.24755414, 245.95913   ,  44.65336419, 161.5511203 ,\n",
       "       111.54762196, 104.64166865, 269.52158035, 163.13999079,\n",
       "       151.65590642, 100.1180136 , 148.84519682, 122.82295722,\n",
       "       198.08282835,  97.56478248, 107.00683262, 241.67743723,\n",
       "        65.17053337, 185.04632695, 148.2868894 ,  56.31221281,\n",
       "       172.85971386, 124.05689226,  53.22499208, 145.44512585,\n",
       "       156.90729155, 157.20390548, 165.45484087, 106.60980046,\n",
       "       199.14585387, 123.38210953,  87.86562253,  71.62794336,\n",
       "       167.84424532,  69.56329691, 146.01147354, 213.70763172,\n",
       "       119.92080345, 166.20299619, 191.22496344, 189.82231486,\n",
       "       157.41481894,  97.60374732,  42.84949052, 133.61253311,\n",
       "       156.15257676, 216.80962354,  53.75273145, 180.91143248,\n",
       "       180.42989344, 166.4189052 , 150.85549002, 110.97862847,\n",
       "        51.54180291, 109.03043226, 191.76337321, 278.27814946,\n",
       "       104.48549053,  72.45736949, 199.11962228, 201.75291516,\n",
       "       169.12463872,  71.30234905,  76.57457921, 170.63228636,\n",
       "       178.63395461, 249.90680026, 196.25069816,  88.58493008,\n",
       "       217.96960984, 129.08732391, 291.13286221, 113.28260871,\n",
       "       107.57554925, 112.74048565, 138.749872  , 222.97466246,\n",
       "        80.59232806, 151.80920073, 167.59470097, 194.57614653,\n",
       "       138.54730025, 256.0568583 , 166.80199156, 164.86554217,\n",
       "       125.63663536, 182.5403915 ,  59.59320878,  80.71638082,\n",
       "       103.54280117, 230.9282167 , 153.49487426, 255.06775168,\n",
       "       223.8678604 ,  61.31158634,  62.83283888, 211.29163068,\n",
       "        71.21843833, 155.25887455, 110.68169555, 217.33107008,\n",
       "        86.30937922,  46.2427711 , 233.46501151, 189.82702822,\n",
       "        89.19035759, 114.07028269, 281.88876711, 133.366811  ,\n",
       "       258.9509036 , 180.43952414,  61.10955444])"
      ]
     },
     "execution_count": 49,
     "metadata": {},
     "output_type": "execute_result"
    }
   ],
   "source": [
    "from sklearn.datasets        import load_diabetes \n",
    "from sklearn.linear_model    import LinearRegression\n",
    "from sklearn.model_selection import train_test_split\n",
    "from sklearn.pipeline        import Pipeline\n",
    "from sklearn.preprocessing   import StandardScaler\n",
    "\n",
    "X, y = load_diabetes(return_X_y=True)\n",
    "X_train, X_test, y_train, y_test= train_test_split(X, y)\n",
    "pipe = Pipeline([('scaler', StandardScaler()), \n",
    "                 ('lr',     LinearRegression())])\n",
    "pipe.fit(X_train, y_train)\n",
    "pipe.predict(X_test)"
   ]
  },
  {
   "cell_type": "markdown",
   "id": "23950d35",
   "metadata": {},
   "source": [
    "<center><h2>Automate fitting many models with a pipeline</h2></center>\n"
   ]
  },
  {
   "cell_type": "code",
   "execution_count": 50,
   "id": "af1999c3",
   "metadata": {},
   "outputs": [
    {
     "name": "stdout",
     "output_type": "stream",
     "text": [
      "Mean squared error for diabetes dataset (regression): \n",
      "    LinearRegression: 2,770.29\n",
      "    Lasso           : 2,753.35\n",
      "    Ridge           : 2,770.18\n",
      "    ElasticNet      : 2,867.98\n",
      "    HuberRegressor  : 2,769.49\n",
      "    BayesianRidge   : 2,769.91\n"
     ]
    }
   ],
   "source": [
    "from sklearn.decomposition import PCA\n",
    "from sklearn.linear_model  import Lasso, Ridge, ElasticNet, HuberRegressor, BayesianRidge\n",
    "from sklearn.metrics       import mean_squared_error\n",
    "\n",
    "X_train, X_validation, y_train, y_validation= train_test_split(X, y, random_state=42)\n",
    "\n",
    "# Programmatically fit \n",
    "algorithms = [LinearRegression(), Lasso(), Ridge(), ElasticNet(), HuberRegressor(), BayesianRidge()]\n",
    "results = dict()\n",
    "\n",
    "print(\"Mean squared error for diabetes dataset (regression): \")\n",
    "for algo in algorithms:\n",
    "    pipe = Pipeline([('scaler', StandardScaler()), \n",
    "                     ('pca',    PCA(n_components=5)),\n",
    "                     ('lm',     algo)])\n",
    "\n",
    "    pipe.fit(X_train, y_train)\n",
    "    y_pred = pipe.predict(X_validation)\n",
    "    mse = mean_squared_error(y_validation, y_pred)\n",
    "    print(f\"    {algo.__class__.__name__:<16}: {mse:,.2f}\")"
   ]
  },
  {
   "cell_type": "markdown",
   "id": "alternate-tender",
   "metadata": {},
   "source": [
    "<center><h2>Pipelines automatically apply the correct steps </h2></center>\n",
    "<br>\n",
    "<center><img src=\"images/pipeline-diagram.png\" width=\"80%\"/></center>\n",
    "\n",
    "Source: https://iaml.it/blog/optimizing-sklearn-pipelines/"
   ]
  },
  {
   "cell_type": "markdown",
   "id": "dangerous-priority",
   "metadata": {},
   "source": [
    "<center><h2>Takeaways</h2></center>\n",
    "\n",
    "- Scikit-learn Pipelines are helpful for writing production-level code.\n",
    "- Pipelines encapsulate all the modeling steps.\n",
    "- Pipelines act like a regular estimator. Every thing you would do with a regular algorithm, you can do with a Pipeline."
   ]
  },
  {
   "cell_type": "markdown",
   "id": "aafeac07",
   "metadata": {},
   "source": [
    "<center><h2>Bonus Material</h2></center>"
   ]
  },
  {
   "cell_type": "code",
   "execution_count": 51,
   "id": "562e42d0",
   "metadata": {},
   "outputs": [
    {
     "data": {
      "text/html": [
       "<style>#sk-e0aa5d19-c237-4fe7-80d4-17e589df558b {color: black;background-color: white;}#sk-e0aa5d19-c237-4fe7-80d4-17e589df558b pre{padding: 0;}#sk-e0aa5d19-c237-4fe7-80d4-17e589df558b div.sk-toggleable {background-color: white;}#sk-e0aa5d19-c237-4fe7-80d4-17e589df558b label.sk-toggleable__label {cursor: pointer;display: block;width: 100%;margin-bottom: 0;padding: 0.2em 0.3em;box-sizing: border-box;text-align: center;}#sk-e0aa5d19-c237-4fe7-80d4-17e589df558b div.sk-toggleable__content {max-height: 0;max-width: 0;overflow: hidden;text-align: left;background-color: #f0f8ff;}#sk-e0aa5d19-c237-4fe7-80d4-17e589df558b div.sk-toggleable__content pre {margin: 0.2em;color: black;border-radius: 0.25em;background-color: #f0f8ff;}#sk-e0aa5d19-c237-4fe7-80d4-17e589df558b input.sk-toggleable__control:checked~div.sk-toggleable__content {max-height: 200px;max-width: 100%;overflow: auto;}#sk-e0aa5d19-c237-4fe7-80d4-17e589df558b div.sk-estimator input.sk-toggleable__control:checked~label.sk-toggleable__label {background-color: #d4ebff;}#sk-e0aa5d19-c237-4fe7-80d4-17e589df558b div.sk-label input.sk-toggleable__control:checked~label.sk-toggleable__label {background-color: #d4ebff;}#sk-e0aa5d19-c237-4fe7-80d4-17e589df558b input.sk-hidden--visually {border: 0;clip: rect(1px 1px 1px 1px);clip: rect(1px, 1px, 1px, 1px);height: 1px;margin: -1px;overflow: hidden;padding: 0;position: absolute;width: 1px;}#sk-e0aa5d19-c237-4fe7-80d4-17e589df558b div.sk-estimator {font-family: monospace;background-color: #f0f8ff;margin: 0.25em 0.25em;border: 1px dotted black;border-radius: 0.25em;box-sizing: border-box;}#sk-e0aa5d19-c237-4fe7-80d4-17e589df558b div.sk-estimator:hover {background-color: #d4ebff;}#sk-e0aa5d19-c237-4fe7-80d4-17e589df558b div.sk-parallel-item::after {content: \"\";width: 100%;border-bottom: 1px solid gray;flex-grow: 1;}#sk-e0aa5d19-c237-4fe7-80d4-17e589df558b div.sk-label:hover label.sk-toggleable__label {background-color: #d4ebff;}#sk-e0aa5d19-c237-4fe7-80d4-17e589df558b div.sk-serial::before {content: \"\";position: absolute;border-left: 1px solid gray;box-sizing: border-box;top: 2em;bottom: 0;left: 50%;}#sk-e0aa5d19-c237-4fe7-80d4-17e589df558b div.sk-serial {display: flex;flex-direction: column;align-items: center;background-color: white;}#sk-e0aa5d19-c237-4fe7-80d4-17e589df558b div.sk-item {z-index: 1;}#sk-e0aa5d19-c237-4fe7-80d4-17e589df558b div.sk-parallel {display: flex;align-items: stretch;justify-content: center;background-color: white;}#sk-e0aa5d19-c237-4fe7-80d4-17e589df558b div.sk-parallel-item {display: flex;flex-direction: column;position: relative;background-color: white;}#sk-e0aa5d19-c237-4fe7-80d4-17e589df558b div.sk-parallel-item:first-child::after {align-self: flex-end;width: 50%;}#sk-e0aa5d19-c237-4fe7-80d4-17e589df558b div.sk-parallel-item:last-child::after {align-self: flex-start;width: 50%;}#sk-e0aa5d19-c237-4fe7-80d4-17e589df558b div.sk-parallel-item:only-child::after {width: 0;}#sk-e0aa5d19-c237-4fe7-80d4-17e589df558b div.sk-dashed-wrapped {border: 1px dashed gray;margin: 0.2em;box-sizing: border-box;padding-bottom: 0.1em;background-color: white;position: relative;}#sk-e0aa5d19-c237-4fe7-80d4-17e589df558b div.sk-label label {font-family: monospace;font-weight: bold;background-color: white;display: inline-block;line-height: 1.2em;}#sk-e0aa5d19-c237-4fe7-80d4-17e589df558b div.sk-label-container {position: relative;z-index: 2;text-align: center;}#sk-e0aa5d19-c237-4fe7-80d4-17e589df558b div.sk-container {display: inline-block;position: relative;}</style><div id=\"sk-e0aa5d19-c237-4fe7-80d4-17e589df558b\" class\"sk-top-container\"><div class=\"sk-container\"><div class=\"sk-item sk-dashed-wrapped\"><div class=\"sk-label-container\"><div class=\"sk-label sk-toggleable\"><input class=\"sk-toggleable__control sk-hidden--visually\" id=\"24b72428-1351-468d-b3f3-9bc9e7e72261\" type=\"checkbox\" ><label class=\"sk-toggleable__label\" for=\"24b72428-1351-468d-b3f3-9bc9e7e72261\">Pipeline</label><div class=\"sk-toggleable__content\"><pre>Pipeline(steps=[('scaler', StandardScaler()), ('pca', PCA(n_components=5)),\n",
       "                ('lm', BayesianRidge())])</pre></div></div></div><div class=\"sk-serial\"><div class=\"sk-item\"><div class=\"sk-estimator sk-toggleable\"><input class=\"sk-toggleable__control sk-hidden--visually\" id=\"e1840ebf-14f4-4294-8461-19fe42aefc2a\" type=\"checkbox\" ><label class=\"sk-toggleable__label\" for=\"e1840ebf-14f4-4294-8461-19fe42aefc2a\">StandardScaler</label><div class=\"sk-toggleable__content\"><pre>StandardScaler()</pre></div></div></div><div class=\"sk-item\"><div class=\"sk-estimator sk-toggleable\"><input class=\"sk-toggleable__control sk-hidden--visually\" id=\"6f6fb1e6-8244-48db-b1fc-89e048e73738\" type=\"checkbox\" ><label class=\"sk-toggleable__label\" for=\"6f6fb1e6-8244-48db-b1fc-89e048e73738\">PCA</label><div class=\"sk-toggleable__content\"><pre>PCA(n_components=5)</pre></div></div></div><div class=\"sk-item\"><div class=\"sk-estimator sk-toggleable\"><input class=\"sk-toggleable__control sk-hidden--visually\" id=\"b9d178c7-7af1-4768-8e84-42d0be253df1\" type=\"checkbox\" ><label class=\"sk-toggleable__label\" for=\"b9d178c7-7af1-4768-8e84-42d0be253df1\">BayesianRidge</label><div class=\"sk-toggleable__content\"><pre>BayesianRidge()</pre></div></div></div></div></div></div></div>"
      ],
      "text/plain": [
       "Pipeline(steps=[('scaler', StandardScaler()), ('pca', PCA(n_components=5)),\n",
       "                ('lm', BayesianRidge())])"
      ]
     },
     "execution_count": 51,
     "metadata": {},
     "output_type": "execute_result"
    }
   ],
   "source": [
    "# Visualize pipeline\n",
    "\n",
    "from sklearn import set_config\n",
    "\n",
    "set_config(display='diagram')\n",
    "\n",
    "pipe"
   ]
  },
  {
   "cell_type": "markdown",
   "id": "b7b58c44",
   "metadata": {},
   "source": [
    "<center><h2>Transformations based on column type </h2></center>"
   ]
  },
  {
   "cell_type": "code",
   "execution_count": 53,
   "id": "988c99b6",
   "metadata": {},
   "outputs": [
    {
     "data": {
      "text/html": [
       "<div>\n",
       "<style scoped>\n",
       "    .dataframe tbody tr th:only-of-type {\n",
       "        vertical-align: middle;\n",
       "    }\n",
       "\n",
       "    .dataframe tbody tr th {\n",
       "        vertical-align: top;\n",
       "    }\n",
       "\n",
       "    .dataframe thead th {\n",
       "        text-align: right;\n",
       "    }\n",
       "</style>\n",
       "<table border=\"1\" class=\"dataframe\">\n",
       "  <thead>\n",
       "    <tr style=\"text-align: right;\">\n",
       "      <th></th>\n",
       "      <th>age</th>\n",
       "      <th>workclass</th>\n",
       "      <th>education</th>\n",
       "      <th>education-num</th>\n",
       "      <th>marital-status</th>\n",
       "      <th>occupation</th>\n",
       "      <th>relationship</th>\n",
       "      <th>race</th>\n",
       "      <th>gender</th>\n",
       "      <th>capital-gain</th>\n",
       "      <th>capital-loss</th>\n",
       "      <th>hours-per-week</th>\n",
       "      <th>native-country</th>\n",
       "      <th>income</th>\n",
       "    </tr>\n",
       "  </thead>\n",
       "  <tbody>\n",
       "    <tr>\n",
       "      <th>32556</th>\n",
       "      <td>27</td>\n",
       "      <td>Private</td>\n",
       "      <td>Assoc-acdm</td>\n",
       "      <td>12</td>\n",
       "      <td>Married-civ-spouse</td>\n",
       "      <td>Tech-support</td>\n",
       "      <td>Wife</td>\n",
       "      <td>White</td>\n",
       "      <td>Female</td>\n",
       "      <td>0</td>\n",
       "      <td>0</td>\n",
       "      <td>38</td>\n",
       "      <td>United-States</td>\n",
       "      <td>&lt;=50K</td>\n",
       "    </tr>\n",
       "    <tr>\n",
       "      <th>32557</th>\n",
       "      <td>40</td>\n",
       "      <td>Private</td>\n",
       "      <td>HS-grad</td>\n",
       "      <td>9</td>\n",
       "      <td>Married-civ-spouse</td>\n",
       "      <td>Machine-op-inspct</td>\n",
       "      <td>Husband</td>\n",
       "      <td>White</td>\n",
       "      <td>Male</td>\n",
       "      <td>0</td>\n",
       "      <td>0</td>\n",
       "      <td>40</td>\n",
       "      <td>United-States</td>\n",
       "      <td>&gt;50K</td>\n",
       "    </tr>\n",
       "    <tr>\n",
       "      <th>32558</th>\n",
       "      <td>58</td>\n",
       "      <td>Private</td>\n",
       "      <td>HS-grad</td>\n",
       "      <td>9</td>\n",
       "      <td>Widowed</td>\n",
       "      <td>Adm-clerical</td>\n",
       "      <td>Unmarried</td>\n",
       "      <td>White</td>\n",
       "      <td>Female</td>\n",
       "      <td>0</td>\n",
       "      <td>0</td>\n",
       "      <td>40</td>\n",
       "      <td>United-States</td>\n",
       "      <td>&lt;=50K</td>\n",
       "    </tr>\n",
       "    <tr>\n",
       "      <th>32559</th>\n",
       "      <td>22</td>\n",
       "      <td>Private</td>\n",
       "      <td>HS-grad</td>\n",
       "      <td>9</td>\n",
       "      <td>Never-married</td>\n",
       "      <td>Adm-clerical</td>\n",
       "      <td>Own-child</td>\n",
       "      <td>White</td>\n",
       "      <td>Male</td>\n",
       "      <td>0</td>\n",
       "      <td>0</td>\n",
       "      <td>20</td>\n",
       "      <td>United-States</td>\n",
       "      <td>&lt;=50K</td>\n",
       "    </tr>\n",
       "    <tr>\n",
       "      <th>32560</th>\n",
       "      <td>52</td>\n",
       "      <td>Self-emp-inc</td>\n",
       "      <td>HS-grad</td>\n",
       "      <td>9</td>\n",
       "      <td>Married-civ-spouse</td>\n",
       "      <td>Exec-managerial</td>\n",
       "      <td>Wife</td>\n",
       "      <td>White</td>\n",
       "      <td>Female</td>\n",
       "      <td>15024</td>\n",
       "      <td>0</td>\n",
       "      <td>40</td>\n",
       "      <td>United-States</td>\n",
       "      <td>&gt;50K</td>\n",
       "    </tr>\n",
       "  </tbody>\n",
       "</table>\n",
       "</div>"
      ],
      "text/plain": [
       "       age      workclass    education  education-num       marital-status  \\\n",
       "32556   27        Private   Assoc-acdm             12   Married-civ-spouse   \n",
       "32557   40        Private      HS-grad              9   Married-civ-spouse   \n",
       "32558   58        Private      HS-grad              9              Widowed   \n",
       "32559   22        Private      HS-grad              9        Never-married   \n",
       "32560   52   Self-emp-inc      HS-grad              9   Married-civ-spouse   \n",
       "\n",
       "               occupation relationship    race   gender  capital-gain  \\\n",
       "32556        Tech-support         Wife   White   Female             0   \n",
       "32557   Machine-op-inspct      Husband   White     Male             0   \n",
       "32558        Adm-clerical    Unmarried   White   Female             0   \n",
       "32559        Adm-clerical    Own-child   White     Male             0   \n",
       "32560     Exec-managerial         Wife   White   Female         15024   \n",
       "\n",
       "       capital-loss  hours-per-week  native-country  income  \n",
       "32556             0              38   United-States   <=50K  \n",
       "32557             0              40   United-States    >50K  \n",
       "32558             0              40   United-States   <=50K  \n",
       "32559             0              20   United-States   <=50K  \n",
       "32560             0              40   United-States    >50K  "
      ]
     },
     "execution_count": 53,
     "metadata": {},
     "output_type": "execute_result"
    }
   ],
   "source": [
    "import pandas as pd\n",
    "\n",
    "# Load dataset of income \n",
    "data = pd.read_csv(\"adult.csv\", index_col=0)\n",
    "data.tail() # Data analysis protip - Always look at the last rows. It is sometimes the most recent data. Sometimes the first rows are mock data.\n"
   ]
  },
  {
   "cell_type": "code",
   "execution_count": 54,
   "id": "a751a5cd",
   "metadata": {},
   "outputs": [
    {
     "data": {
      "text/plain": [
       "age               False\n",
       "workclass          True\n",
       "education          True\n",
       "education-num     False\n",
       "marital-status     True\n",
       "occupation         True\n",
       "relationship       True\n",
       "race               True\n",
       "gender             True\n",
       "capital-gain      False\n",
       "capital-loss      False\n",
       "hours-per-week    False\n",
       "native-country     True\n",
       "dtype: bool"
      ]
     },
     "execution_count": 54,
     "metadata": {},
     "output_type": "execute_result"
    }
   ],
   "source": [
    "target   = data.income\n",
    "features = data.drop(\"income\", axis=1)\n",
    "\n",
    "# Find the categorical columns\n",
    "categorical_columns = (features.dtypes == object)\n",
    "categorical_columns"
   ]
  },
  {
   "cell_type": "code",
   "execution_count": 59,
   "id": "32730c3a",
   "metadata": {},
   "outputs": [],
   "source": [
    "from sklearn.model_selection import train_test_split\n",
    "\n",
    "X_train, X_test, y_train, y_test = train_test_split(features, target)"
   ]
  },
  {
   "cell_type": "code",
   "execution_count": 61,
   "id": "57159862",
   "metadata": {},
   "outputs": [
    {
     "data": {
      "text/plain": [
       "array([' <=50K', ' <=50K', ' <=50K', ..., ' >50K', ' <=50K', ' <=50K'],\n",
       "      dtype=object)"
      ]
     },
     "execution_count": 61,
     "metadata": {},
     "output_type": "execute_result"
    }
   ],
   "source": [
    "from sklearn.pipeline        import Pipeline\n",
    "from sklearn.preprocessing   import StandardScaler, OneHotEncoder\n",
    "from sklearn.impute          import SimpleImputer\n",
    "\n",
    "# Setup two preprocessing pipelines\n",
    "con_pipe = Pipeline([('scaler', StandardScaler()),\n",
    "                      ('imputer', SimpleImputer(strategy='median', add_indicator=True))])\n",
    "\n",
    "cat_pipe = Pipeline([('ohe', OneHotEncoder(handle_unknown='ignore')),\n",
    "                     ('imputer', SimpleImputer(strategy='most_frequent', add_indicator=True))])\n",
    "\n",
    "# Put them to together\n",
    "from sklearn.compose         import ColumnTransformer\n",
    "\n",
    "preprocessing = ColumnTransformer([('categorical', cat_pipe,  categorical_columns),\n",
    "                                   ('continuous',  con_pipe, ~categorical_columns),\n",
    "                                   ])\n",
    "\n",
    "# Add the algorithm \n",
    "from sklearn.linear_model    import LogisticRegression\n",
    "\n",
    "pipe = Pipeline([('preprocessing', preprocessing), \n",
    "                 ('clf', LogisticRegression(solver='liblinear'))])\n",
    "pipe.fit(X_train, y_train)\n",
    "pipe.predict(X_test)"
   ]
  },
  {
   "cell_type": "markdown",
   "id": "exciting-bulgaria",
   "metadata": {},
   "source": [
    "<center><h2>Sources of Inspiration</h2></center>\n",
    "\n",
    "- [Advanced Machine Learning with Scikit-learn](https://www.youtube.com/watch?v=7l_WQO3JbWE&ab_channel=rakutentech)\n",
    "- https://jakevdp.github.io/PythonDataScienceHandbook/05.02-introducing-scikit-learn.html"
   ]
  }
 ],
 "metadata": {
  "kernelspec": {
   "display_name": "Python 3 (ipykernel)",
   "language": "python",
   "name": "python3"
  },
  "language_info": {
   "codemirror_mode": {
    "name": "ipython",
    "version": 3
   },
   "file_extension": ".py",
   "mimetype": "text/x-python",
   "name": "python",
   "nbconvert_exporter": "python",
   "pygments_lexer": "ipython3",
   "version": "3.8.10"
  },
  "toc": {
   "base_numbering": 1,
   "nav_menu": {},
   "number_sections": false,
   "sideBar": false,
   "skip_h1_title": false,
   "title_cell": "Table of Contents",
   "title_sidebar": "Contents",
   "toc_cell": true,
   "toc_position": {},
   "toc_section_display": true,
   "toc_window_display": false
  }
 },
 "nbformat": 4,
 "nbformat_minor": 5
}
