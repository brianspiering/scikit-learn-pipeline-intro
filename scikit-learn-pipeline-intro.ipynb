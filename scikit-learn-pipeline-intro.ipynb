{
 "cells": [
  {
   "cell_type": "markdown",
   "id": "higher-label",
   "metadata": {
    "slideshow": {
     "slide_type": "skip"
    },
    "toc": true
   },
   "source": [
    "<h1>Table of Contents<span class=\"tocSkip\"></span></h1>\n",
    "<div class=\"toc\"><ul class=\"toc-item\"><li><span><a href=\"#Introduction-to-scikit-learn's-pipelines\" data-toc-modified-id=\"Introduction-to-scikit-learn's-pipelines-1\">Introduction to scikit-learn's pipelines</a></span></li><li><span><a href=\"#Motivating-Story\" data-toc-modified-id=\"Motivating-Story-2\">Motivating Story</a></span></li><li><span><a href=\"#Learning-Outcomes\" data-toc-modified-id=\"Learning-Outcomes-3\">Learning Outcomes</a></span></li><li><span><a href=\"#Review-of-Scikit-learn-Package\" data-toc-modified-id=\"Review-of-Scikit-learn-Package-4\">Review of Scikit-learn Package</a></span></li><li><span><a href=\"#Scikit-learn's-Estimator\" data-toc-modified-id=\"Scikit-learn's-Estimator-5\">Scikit-learn's Estimator</a></span></li><li><span><a href=\"#&quot;Programming-is-all-about-managing-complexity&quot;\" data-toc-modified-id=\"&quot;Programming-is-all-about-managing-complexity&quot;-6\">\"Programming is all about managing complexity\"</a></span></li><li><span><a href=\"#Pipeline-advantages\" data-toc-modified-id=\"Pipeline-advantages-7\">Pipeline advantages</a></span></li><li><span><a href=\"#Automate-fitting-many-models-with-a-pipeline\" data-toc-modified-id=\"Automate-fitting-many-models-with-a-pipeline-8\">Automate fitting many models with a pipeline</a></span></li><li><span><a href=\"#Pipelines-automatically-apply-the-correct-steps-\" data-toc-modified-id=\"Pipelines-automatically-apply-the-correct-steps--9\">Pipelines automatically apply the correct steps </a></span></li><li><span><a href=\"#Transformations-based-on-column-type-\" data-toc-modified-id=\"Transformations-based-on-column-type--10\">Transformations based on column type </a></span></li><li><span><a href=\"#Takeaways\" data-toc-modified-id=\"Takeaways-11\">Takeaways</a></span></li><li><span><a href=\"#Bonus-Material\" data-toc-modified-id=\"Bonus-Material-12\">Bonus Material</a></span></li><li><span><a href=\"#Sources-of-Inspiration\" data-toc-modified-id=\"Sources-of-Inspiration-13\">Sources of Inspiration</a></span></li><li><span><a href=\"#Check-for-understanding\" data-toc-modified-id=\"Check-for-understanding-14\">Check for understanding</a></span></li></ul></div>"
   ]
  },
  {
   "cell_type": "markdown",
   "id": "suitable-black",
   "metadata": {
    "slideshow": {
     "slide_type": "slide"
    }
   },
   "source": [
    "<center><h2>Introduction to scikit-learn's pipelines</h2></center>\n",
    "<br>\n",
    "<br>\n",
    "<center><img src=\"https://imgs.xkcd.com/comics/data_pipeline.png\" width=\"75%\"/></center>\n",
    "\n"
   ]
  },
  {
   "cell_type": "markdown",
   "id": "44325466",
   "metadata": {
    "slideshow": {
     "slide_type": "slide"
    }
   },
   "source": [
    "<center><h2>Motivating Story</h2></center>\n",
    "\n",
    "Image you are working as junior Data Scientist at a media company related to the Olympics. You have just built your first model to predict which athletes will be the biggest influencers in the near future. \n",
    "\n",
    "It took a while to find the right data, clean it and organize it, and fit that first algorithm. Now you boss says those dreaded words, \"Does your code scale?\"...\n",
    "\n",
    "Today I'm going to show you how to start on that path towards scale and improving your machine learning programming skills."
   ]
  },
  {
   "cell_type": "markdown",
   "id": "linear-peninsula",
   "metadata": {
    "slideshow": {
     "slide_type": "skip"
    }
   },
   "source": [
    "<center><h2>Learning Outcomes</h2></center>\n",
    "\n",
    "__By the end of this session, you should be able to__:\n",
    "\n",
    "- Describe what is scikit-learn's pipeline.\n",
    "- List the advantages of using scikit-learn's pipeline.\n",
    "- Code scikit-learn pipelines to automate machine learning."
   ]
  },
  {
   "cell_type": "markdown",
   "id": "occasional-politics",
   "metadata": {
    "slideshow": {
     "slide_type": "slide"
    }
   },
   "source": [
    "<center><h2>Review of Scikit-learn Package</h2></center>\n",
    "\n",
    "<br>\n",
    "<center><img src=\"images/1200px-Scikit_learn_logo_small.svg.png\" width=\"35%\"/></center>\n",
    "\n",
    "You should already be familiar the fundamentals of scikit-learn.\n",
    "\n",
    "Scikit-learn is a Python library for traditional machine learning.\n",
    "\n",
    "Scikit-learn features:\n",
    "\n",
    "- Open source\n",
    "- Well-established\n",
    "- Comprehensive\n",
    "    - Handles pre-preprocessing, cleaning, feature extraction and selection, and cross-validation\n",
    "    - Most popular algorithms are included\n",
    "- Consistent, easy-to-use interface\n",
    "- Object-oriented programming (OOP) / class based."
   ]
  },
  {
   "cell_type": "code",
   "execution_count": null,
   "id": "4cc0d1c0",
   "metadata": {
    "slideshow": {
     "slide_type": "slide"
    }
   },
   "outputs": [],
   "source": [
    "# Scikit-learn Example"
   ]
  },
  {
   "cell_type": "code",
   "execution_count": 1,
   "id": "429d87e5",
   "metadata": {
    "slideshow": {
     "slide_type": "skip"
    }
   },
   "outputs": [],
   "source": [
    "reset -fs"
   ]
  },
  {
   "cell_type": "code",
   "execution_count": 2,
   "id": "6f43105d",
   "metadata": {
    "slideshow": {
     "slide_type": "fragment"
    }
   },
   "outputs": [],
   "source": [
    "# Create sample data \n",
    "import numpy as np\n",
    "\n",
    "X = np.array([[1.0, 2],\n",
    "              [5.6, 3.4]])\n",
    "y = np.array([[.5], \n",
    "              [.4]])"
   ]
  },
  {
   "cell_type": "markdown",
   "id": "alpha-excitement",
   "metadata": {
    "slideshow": {
     "slide_type": "slide"
    }
   },
   "source": [
    "<center><h2>Scikit-learn's Estimator</h2></center>\n",
    "\n",
    "Estimator is a consistent interface for all scikit-learn algorithms. \n",
    "\n",
    "All estimators have a fit method:\n",
    "`estimator.fit(X, [y])` \n",
    "\n"
   ]
  },
  {
   "cell_type": "markdown",
   "id": "42981fef",
   "metadata": {
    "slideshow": {
     "slide_type": "slide"
    }
   },
   "source": [
    "Estimators either have a predict or transform method:\n",
    "\n",
    "- `estimator.predict`\n",
    "    - Classification\n",
    "    - Regression\n",
    "    - Clustering\n",
    "- `estimator.transform` (Sometimes called Transformers)\n",
    "    - Preprocessing\n",
    "    - Dimensionality reduction\n",
    "    - Feature selection"
   ]
  },
  {
   "cell_type": "markdown",
   "id": "c0457bf4",
   "metadata": {
    "slideshow": {
     "slide_type": "skip"
    }
   },
   "source": [
    "X is required.  \n",
    "y is optional."
   ]
  },
  {
   "cell_type": "markdown",
   "id": "covered-interface",
   "metadata": {
    "slideshow": {
     "slide_type": "slide"
    }
   },
   "source": [
    "<center><img src=\"images/Automate-Machine-Learning-Workflows-with-Pipelines-in-Python-and-scikit-learn.jpg\" width=\"35%\"/></center>\n",
    "\n",
    "Pipelines are very useful concept.\n",
    "\n",
    "Pipelines allow things (oil or data) to move without losing any of the precious resource.\n",
    "\n",
    "Pipelines have modular segments. If section needs to be improved, only that section needs to be replaced."
   ]
  },
  {
   "cell_type": "markdown",
   "id": "failing-trunk",
   "metadata": {
    "slideshow": {
     "slide_type": "slide"
    }
   },
   "source": [
    "<center><h2>\"Programming is all about managing complexity\"</h2></center>\n",
    "\n",
    "Abstractions help us do that.\n",
    "\n",
    "Pipelines are a great abstraction.\n",
    "\n",
    "Instead of tracking every step, we just create and pass a Pipeline object. An example of encapsulation.\n",
    "\n",
    "[Source](https://stackoverflow.com/questions/33091376/python-what-is-exactly-sklearn-pipeline-pipeline)"
   ]
  },
  {
   "cell_type": "code",
   "execution_count": 3,
   "id": "another-alarm",
   "metadata": {
    "slideshow": {
     "slide_type": "slide"
    }
   },
   "outputs": [
    {
     "data": {
      "text/plain": [
       "Pipeline(steps=[('scaler', StandardScaler()), ('lr', LinearRegression())])"
      ]
     },
     "execution_count": 3,
     "metadata": {},
     "output_type": "execute_result"
    }
   ],
   "source": [
    "# scikit-learn pipeline example\n",
    "from sklearn.pipeline      import Pipeline\n",
    "from sklearn.preprocessing import StandardScaler\n",
    "from sklearn.linear_model  import LinearRegression\n",
    "\n",
    "pipe = Pipeline([('scaler', StandardScaler()), \n",
    "                 ('lr',     LinearRegression())])\n",
    "\n",
    "pipe.fit(X, y)"
   ]
  },
  {
   "cell_type": "code",
   "execution_count": 4,
   "id": "c9280cca",
   "metadata": {
    "slideshow": {
     "slide_type": "fragment"
    }
   },
   "outputs": [
    {
     "data": {
      "text/plain": [
       "array([[0.35465839]])"
      ]
     },
     "execution_count": 4,
     "metadata": {},
     "output_type": "execute_result"
    }
   ],
   "source": [
    "# Predict new, unlabeled data \n",
    "pipe.predict([[3.2, 5.4]])"
   ]
  },
  {
   "cell_type": "markdown",
   "id": "personal-telescope",
   "metadata": {
    "slideshow": {
     "slide_type": "slide"
    }
   },
   "source": [
    "<center><h2>Pipeline advantages</h2></center>\n",
    "\n",
    "- Encapsulation all steps in a single object. Pipeline can be evaluated and tuned as a single entity.\n"
   ]
  },
  {
   "cell_type": "markdown",
   "id": "8bd39f4f",
   "metadata": {
    "slideshow": {
     "slide_type": "fragment"
    }
   },
   "source": [
    "- Apply the appropriate steps to training and test datasets.\n",
    "\n"
   ]
  },
  {
   "cell_type": "markdown",
   "id": "784d7cdf",
   "metadata": {
    "slideshow": {
     "slide_type": "fragment"
    }
   },
   "source": [
    "- Pipeline will also help prevent data leakage, i.e. disclosing some testing data in your training data.\n"
   ]
  },
  {
   "cell_type": "markdown",
   "id": "0e878c4a",
   "metadata": {
    "slideshow": {
     "slide_type": "fragment"
    }
   },
   "source": [
    "- Plays nicely with cross validation (CV) - feature selection within CV loops."
   ]
  },
  {
   "cell_type": "code",
   "execution_count": null,
   "id": "e2aa1656",
   "metadata": {
    "slideshow": {
     "slide_type": "skip"
    }
   },
   "outputs": [],
   "source": [
    "from sklearn.datasets        import load_diabetes \n",
    "from sklearn.linear_model    import LinearRegression\n",
    "from sklearn.model_selection import train_test_split\n",
    "from sklearn.pipeline        import Pipeline\n",
    "from sklearn.preprocessing   import StandardScaler"
   ]
  },
  {
   "cell_type": "code",
   "execution_count": 5,
   "id": "e0287e06",
   "metadata": {
    "slideshow": {
     "slide_type": "slide"
    }
   },
   "outputs": [
    {
     "data": {
      "text/plain": [
       "array([138.83383134, 189.57089385, 164.61002993, 195.91653155,\n",
       "       205.5464778 , 126.1896005 , 162.84157167, 203.18277873,\n",
       "       201.72218941, 184.5593035 , 103.84117902, 217.32889278,\n",
       "       121.88831128, 163.37890857,  82.98463448, 147.21912229,\n",
       "       131.14667356, 165.99879622, 161.76962237, 204.12739082,\n",
       "       267.78590214, 147.57534958, 189.92766477, 111.15381518,\n",
       "       168.25377913, 202.60693858,  77.26403661,  84.03387465,\n",
       "       149.37491161, 202.68607428,  87.6213557 ,  73.4353354 ,\n",
       "       118.54812969,  77.21807154,  60.21114289,  87.97529966,\n",
       "       168.21654815, 240.72417693, 101.91340849, 202.88267143,\n",
       "        71.03907713, 197.51433388, 229.44699261,  96.78739635,\n",
       "       143.90585661,  83.17351447, 201.68146462, 118.05146395,\n",
       "       120.04063011, 210.57695467, 195.09903064,  90.03229974,\n",
       "       130.08048453, 175.48870431, 241.72795849,  71.76999336,\n",
       "        66.65722991, 236.282588  , 180.03884191, 104.72275799,\n",
       "       145.94005212,  59.04060992, 115.16248012, 232.6902693 ,\n",
       "       223.797587  , 184.42080599, 114.67310972, 170.88653976,\n",
       "       165.57608698, 140.83481621, 103.92884139,  26.91795607,\n",
       "       289.14395889, 191.89103469, 175.06116217,  54.90794788,\n",
       "       258.76466732, 163.2716561 , 169.01754682, 124.26821203,\n",
       "       176.32628314, 122.7453045 , 175.98414408, 186.49914153,\n",
       "       189.07429051, 108.38392343,  38.23121244,  47.86050453,\n",
       "       233.51523923, 174.50118406, 192.25810864, 100.77490951,\n",
       "       155.48857069, 152.11812144, 112.27041851, 185.01529433,\n",
       "       192.72134598, 166.30519913, 119.80966292, 159.05096932,\n",
       "       250.75979519, 152.34674459,  82.92533905, 148.3147157 ,\n",
       "       104.25732864, 181.83318173, 145.08555495, 230.02700946,\n",
       "       127.11984777, 173.99505579, 154.58330375])"
      ]
     },
     "execution_count": 5,
     "metadata": {},
     "output_type": "execute_result"
    }
   ],
   "source": [
    "# More complex example\n",
    "X, y = load_diabetes(return_X_y=True)\n",
    "X_train, X_test, y_train, y_test= train_test_split(X, y)"
   ]
  },
  {
   "cell_type": "code",
   "execution_count": null,
   "id": "10a482b6",
   "metadata": {
    "slideshow": {
     "slide_type": "fragment"
    }
   },
   "outputs": [],
   "source": [
    "pipe = Pipeline([('scaler', StandardScaler()), \n",
    "                 ('lr',     LinearRegression())])\n",
    "pipe.fit(X_train, y_train)\n",
    "pipe.predict(X_test)"
   ]
  },
  {
   "cell_type": "markdown",
   "id": "23950d35",
   "metadata": {
    "slideshow": {
     "slide_type": "slide"
    }
   },
   "source": [
    "<center><h2>Automate fitting many models with a pipeline</h2></center>\n"
   ]
  },
  {
   "cell_type": "code",
   "execution_count": null,
   "id": "0575b884",
   "metadata": {
    "slideshow": {
     "slide_type": "skip"
    }
   },
   "outputs": [],
   "source": [
    "from sklearn.decomposition import PCA\n",
    "from sklearn.linear_model  import Lasso, Ridge, ElasticNet, HuberRegressor, BayesianRidge\n",
    "from sklearn.metrics       import mean_squared_error"
   ]
  },
  {
   "cell_type": "code",
   "execution_count": 6,
   "id": "af1999c3",
   "metadata": {
    "slideshow": {
     "slide_type": "fragment"
    }
   },
   "outputs": [
    {
     "name": "stdout",
     "output_type": "stream",
     "text": [
      "Mean squared error for diabetes dataset (regression): \n",
      "    LinearRegression: 2,770.29\n",
      "    Lasso           : 2,753.35\n",
      "    Ridge           : 2,770.18\n",
      "    ElasticNet      : 2,867.98\n",
      "    HuberRegressor  : 2,769.49\n",
      "    BayesianRidge   : 2,769.91\n"
     ]
    }
   ],
   "source": [
    "X_train, X_validation, y_train, y_validation= train_test_split(X, y, random_state=42)\n",
    "\n",
    "# Programmatically fit \n",
    "algorithms = [LinearRegression(), Lasso(), Ridge(), ElasticNet(), HuberRegressor(), BayesianRidge()]\n",
    "results = dict()\n",
    "\n",
    "print(\"Mean squared error for diabetes dataset (regression): \")\n",
    "for algo in algorithms:\n",
    "    pipe = Pipeline([('scaler', StandardScaler()), \n",
    "                     ('pca',    PCA(n_components=5)),\n",
    "                     ('lm',     algo)])\n",
    "\n",
    "    pipe.fit(X_train, y_train)\n",
    "    y_pred = pipe.predict(X_validation)\n",
    "    mse = mean_squared_error(y_validation, y_pred)\n",
    "    print(f\"    {algo.__class__.__name__:<16}: {mse:,.2f}\")"
   ]
  },
  {
   "cell_type": "markdown",
   "id": "alternate-tender",
   "metadata": {
    "slideshow": {
     "slide_type": "slide"
    }
   },
   "source": [
    "<center><h2>Pipelines automatically apply the correct steps </h2></center>\n",
    "<br>\n",
    "<center><img src=\"images/pipeline-diagram.png\" width=\"65%\"/></center>\n",
    "\n"
   ]
  },
  {
   "cell_type": "markdown",
   "id": "8745f5d5",
   "metadata": {
    "slideshow": {
     "slide_type": "skip"
    }
   },
   "source": [
    "Source: https://iaml.it/blog/optimizing-sklearn-pipelines/"
   ]
  },
  {
   "cell_type": "code",
   "execution_count": 17,
   "id": "562e42d0",
   "metadata": {
    "slideshow": {
     "slide_type": "slide"
    }
   },
   "outputs": [
    {
     "data": {
      "text/html": [
       "<style>#sk-4319599d-b42b-4bd4-929e-74df3fa0a6e7 {color: black;background-color: white;}#sk-4319599d-b42b-4bd4-929e-74df3fa0a6e7 pre{padding: 0;}#sk-4319599d-b42b-4bd4-929e-74df3fa0a6e7 div.sk-toggleable {background-color: white;}#sk-4319599d-b42b-4bd4-929e-74df3fa0a6e7 label.sk-toggleable__label {cursor: pointer;display: block;width: 100%;margin-bottom: 0;padding: 0.3em;box-sizing: border-box;text-align: center;}#sk-4319599d-b42b-4bd4-929e-74df3fa0a6e7 div.sk-toggleable__content {max-height: 0;max-width: 0;overflow: hidden;text-align: left;background-color: #f0f8ff;}#sk-4319599d-b42b-4bd4-929e-74df3fa0a6e7 div.sk-toggleable__content pre {margin: 0.2em;color: black;border-radius: 0.25em;background-color: #f0f8ff;}#sk-4319599d-b42b-4bd4-929e-74df3fa0a6e7 input.sk-toggleable__control:checked~div.sk-toggleable__content {max-height: 200px;max-width: 100%;overflow: auto;}#sk-4319599d-b42b-4bd4-929e-74df3fa0a6e7 div.sk-estimator input.sk-toggleable__control:checked~label.sk-toggleable__label {background-color: #d4ebff;}#sk-4319599d-b42b-4bd4-929e-74df3fa0a6e7 div.sk-label input.sk-toggleable__control:checked~label.sk-toggleable__label {background-color: #d4ebff;}#sk-4319599d-b42b-4bd4-929e-74df3fa0a6e7 input.sk-hidden--visually {border: 0;clip: rect(1px 1px 1px 1px);clip: rect(1px, 1px, 1px, 1px);height: 1px;margin: -1px;overflow: hidden;padding: 0;position: absolute;width: 1px;}#sk-4319599d-b42b-4bd4-929e-74df3fa0a6e7 div.sk-estimator {font-family: monospace;background-color: #f0f8ff;border: 1px dotted black;border-radius: 0.25em;box-sizing: border-box;margin-bottom: 0.5em;}#sk-4319599d-b42b-4bd4-929e-74df3fa0a6e7 div.sk-estimator:hover {background-color: #d4ebff;}#sk-4319599d-b42b-4bd4-929e-74df3fa0a6e7 div.sk-parallel-item::after {content: \"\";width: 100%;border-bottom: 1px solid gray;flex-grow: 1;}#sk-4319599d-b42b-4bd4-929e-74df3fa0a6e7 div.sk-label:hover label.sk-toggleable__label {background-color: #d4ebff;}#sk-4319599d-b42b-4bd4-929e-74df3fa0a6e7 div.sk-serial::before {content: \"\";position: absolute;border-left: 1px solid gray;box-sizing: border-box;top: 2em;bottom: 0;left: 50%;}#sk-4319599d-b42b-4bd4-929e-74df3fa0a6e7 div.sk-serial {display: flex;flex-direction: column;align-items: center;background-color: white;padding-right: 0.2em;padding-left: 0.2em;}#sk-4319599d-b42b-4bd4-929e-74df3fa0a6e7 div.sk-item {z-index: 1;}#sk-4319599d-b42b-4bd4-929e-74df3fa0a6e7 div.sk-parallel {display: flex;align-items: stretch;justify-content: center;background-color: white;}#sk-4319599d-b42b-4bd4-929e-74df3fa0a6e7 div.sk-parallel::before {content: \"\";position: absolute;border-left: 1px solid gray;box-sizing: border-box;top: 2em;bottom: 0;left: 50%;}#sk-4319599d-b42b-4bd4-929e-74df3fa0a6e7 div.sk-parallel-item {display: flex;flex-direction: column;position: relative;background-color: white;}#sk-4319599d-b42b-4bd4-929e-74df3fa0a6e7 div.sk-parallel-item:first-child::after {align-self: flex-end;width: 50%;}#sk-4319599d-b42b-4bd4-929e-74df3fa0a6e7 div.sk-parallel-item:last-child::after {align-self: flex-start;width: 50%;}#sk-4319599d-b42b-4bd4-929e-74df3fa0a6e7 div.sk-parallel-item:only-child::after {width: 0;}#sk-4319599d-b42b-4bd4-929e-74df3fa0a6e7 div.sk-dashed-wrapped {border: 1px dashed gray;margin: 0 0.4em 0.5em 0.4em;box-sizing: border-box;padding-bottom: 0.4em;background-color: white;position: relative;}#sk-4319599d-b42b-4bd4-929e-74df3fa0a6e7 div.sk-label label {font-family: monospace;font-weight: bold;background-color: white;display: inline-block;line-height: 1.2em;}#sk-4319599d-b42b-4bd4-929e-74df3fa0a6e7 div.sk-label-container {position: relative;z-index: 2;text-align: center;}#sk-4319599d-b42b-4bd4-929e-74df3fa0a6e7 div.sk-container {display: inline-block;position: relative;}</style><div id=\"sk-4319599d-b42b-4bd4-929e-74df3fa0a6e7\" class\"sk-top-container\"><div class=\"sk-container\"><div class=\"sk-item sk-dashed-wrapped\"><div class=\"sk-label-container\"><div class=\"sk-label sk-toggleable\"><input class=\"sk-toggleable__control sk-hidden--visually\" id=\"25b0dae8-4a2b-4559-9d82-3afd53b76357\" type=\"checkbox\" ><label class=\"sk-toggleable__label\" for=\"25b0dae8-4a2b-4559-9d82-3afd53b76357\">Pipeline</label><div class=\"sk-toggleable__content\"><pre>Pipeline(steps=[('preprocessing',\n",
       "                 ColumnTransformer(transformers=[('categorical',\n",
       "                                                  Pipeline(steps=[('ohe',\n",
       "                                                                   OneHotEncoder(handle_unknown='ignore')),\n",
       "                                                                  ('imputer',\n",
       "                                                                   SimpleImputer(add_indicator=True,\n",
       "                                                                                 strategy='most_frequent'))]),\n",
       "                                                  age               False\n",
       "workclass          True\n",
       "education          True\n",
       "education-num     False\n",
       "marital-status     True\n",
       "occupation         True\n",
       "relationship       True\n",
       "race               True\n",
       "gender             True\n",
       "capital-gain      Fals...\n",
       "                                                  Pipeline(steps=[('scaler',\n",
       "                                                                   StandardScaler()),\n",
       "                                                                  ('imputer',\n",
       "                                                                   SimpleImputer(add_indicator=True,\n",
       "                                                                                 strategy='median'))]),\n",
       "                                                  age                True\n",
       "workclass         False\n",
       "education         False\n",
       "education-num      True\n",
       "marital-status    False\n",
       "occupation        False\n",
       "relationship      False\n",
       "race              False\n",
       "gender            False\n",
       "capital-gain       True\n",
       "capital-loss       True\n",
       "hours-per-week     True\n",
       "native-country    False\n",
       "dtype: bool)])),\n",
       "                ('clf', LogisticRegression(solver='liblinear'))])</pre></div></div></div><div class=\"sk-serial\"><div class=\"sk-item sk-dashed-wrapped\"><div class=\"sk-label-container\"><div class=\"sk-label sk-toggleable\"><input class=\"sk-toggleable__control sk-hidden--visually\" id=\"36e1ab65-6f4a-43f0-a233-0c5509c035bf\" type=\"checkbox\" ><label class=\"sk-toggleable__label\" for=\"36e1ab65-6f4a-43f0-a233-0c5509c035bf\">preprocessing: ColumnTransformer</label><div class=\"sk-toggleable__content\"><pre>ColumnTransformer(transformers=[('categorical',\n",
       "                                 Pipeline(steps=[('ohe',\n",
       "                                                  OneHotEncoder(handle_unknown='ignore')),\n",
       "                                                 ('imputer',\n",
       "                                                  SimpleImputer(add_indicator=True,\n",
       "                                                                strategy='most_frequent'))]),\n",
       "                                 age               False\n",
       "workclass          True\n",
       "education          True\n",
       "education-num     False\n",
       "marital-status     True\n",
       "occupation         True\n",
       "relationship       True\n",
       "race               True\n",
       "gender             True\n",
       "capital-gain      False\n",
       "capital-loss      False\n",
       "hours-per-week    F...\n",
       "native-country     True\n",
       "dtype: bool),\n",
       "                                ('continuous',\n",
       "                                 Pipeline(steps=[('scaler', StandardScaler()),\n",
       "                                                 ('imputer',\n",
       "                                                  SimpleImputer(add_indicator=True,\n",
       "                                                                strategy='median'))]),\n",
       "                                 age                True\n",
       "workclass         False\n",
       "education         False\n",
       "education-num      True\n",
       "marital-status    False\n",
       "occupation        False\n",
       "relationship      False\n",
       "race              False\n",
       "gender            False\n",
       "capital-gain       True\n",
       "capital-loss       True\n",
       "hours-per-week     True\n",
       "native-country    False\n",
       "dtype: bool)])</pre></div></div></div><div class=\"sk-parallel\"><div class=\"sk-parallel-item\"><div class=\"sk-item\"><div class=\"sk-label-container\"><div class=\"sk-label sk-toggleable\"><input class=\"sk-toggleable__control sk-hidden--visually\" id=\"74d35e75-ad97-4d45-937f-0c0da577a945\" type=\"checkbox\" ><label class=\"sk-toggleable__label\" for=\"74d35e75-ad97-4d45-937f-0c0da577a945\">categorical</label><div class=\"sk-toggleable__content\"><pre>age               False\n",
       "workclass          True\n",
       "education          True\n",
       "education-num     False\n",
       "marital-status     True\n",
       "occupation         True\n",
       "relationship       True\n",
       "race               True\n",
       "gender             True\n",
       "capital-gain      False\n",
       "capital-loss      False\n",
       "hours-per-week    False\n",
       "native-country     True\n",
       "dtype: bool</pre></div></div></div><div class=\"sk-serial\"><div class=\"sk-item\"><div class=\"sk-serial\"><div class=\"sk-item\"><div class=\"sk-estimator sk-toggleable\"><input class=\"sk-toggleable__control sk-hidden--visually\" id=\"0d115c97-dbe9-4387-b353-7edac169e65c\" type=\"checkbox\" ><label class=\"sk-toggleable__label\" for=\"0d115c97-dbe9-4387-b353-7edac169e65c\">OneHotEncoder</label><div class=\"sk-toggleable__content\"><pre>OneHotEncoder(handle_unknown='ignore')</pre></div></div></div><div class=\"sk-item\"><div class=\"sk-estimator sk-toggleable\"><input class=\"sk-toggleable__control sk-hidden--visually\" id=\"14fe1835-4c1d-4621-939c-b3e0f424cfc7\" type=\"checkbox\" ><label class=\"sk-toggleable__label\" for=\"14fe1835-4c1d-4621-939c-b3e0f424cfc7\">SimpleImputer</label><div class=\"sk-toggleable__content\"><pre>SimpleImputer(add_indicator=True, strategy='most_frequent')</pre></div></div></div></div></div></div></div></div><div class=\"sk-parallel-item\"><div class=\"sk-item\"><div class=\"sk-label-container\"><div class=\"sk-label sk-toggleable\"><input class=\"sk-toggleable__control sk-hidden--visually\" id=\"4d0a410f-86c0-4718-b9a5-01d50f44557b\" type=\"checkbox\" ><label class=\"sk-toggleable__label\" for=\"4d0a410f-86c0-4718-b9a5-01d50f44557b\">continuous</label><div class=\"sk-toggleable__content\"><pre>age                True\n",
       "workclass         False\n",
       "education         False\n",
       "education-num      True\n",
       "marital-status    False\n",
       "occupation        False\n",
       "relationship      False\n",
       "race              False\n",
       "gender            False\n",
       "capital-gain       True\n",
       "capital-loss       True\n",
       "hours-per-week     True\n",
       "native-country    False\n",
       "dtype: bool</pre></div></div></div><div class=\"sk-serial\"><div class=\"sk-item\"><div class=\"sk-serial\"><div class=\"sk-item\"><div class=\"sk-estimator sk-toggleable\"><input class=\"sk-toggleable__control sk-hidden--visually\" id=\"c999d83b-dda7-446b-abc0-e8ca4bbd8f62\" type=\"checkbox\" ><label class=\"sk-toggleable__label\" for=\"c999d83b-dda7-446b-abc0-e8ca4bbd8f62\">StandardScaler</label><div class=\"sk-toggleable__content\"><pre>StandardScaler()</pre></div></div></div><div class=\"sk-item\"><div class=\"sk-estimator sk-toggleable\"><input class=\"sk-toggleable__control sk-hidden--visually\" id=\"790183de-5254-43ff-9fb3-c5c1be3fbc67\" type=\"checkbox\" ><label class=\"sk-toggleable__label\" for=\"790183de-5254-43ff-9fb3-c5c1be3fbc67\">SimpleImputer</label><div class=\"sk-toggleable__content\"><pre>SimpleImputer(add_indicator=True, strategy='median')</pre></div></div></div></div></div></div></div></div></div></div><div class=\"sk-item\"><div class=\"sk-estimator sk-toggleable\"><input class=\"sk-toggleable__control sk-hidden--visually\" id=\"af647f00-8ecd-4d08-88c2-970e26246442\" type=\"checkbox\" ><label class=\"sk-toggleable__label\" for=\"af647f00-8ecd-4d08-88c2-970e26246442\">LogisticRegression</label><div class=\"sk-toggleable__content\"><pre>LogisticRegression(solver='liblinear')</pre></div></div></div></div></div></div></div>"
      ],
      "text/plain": [
       "Pipeline(steps=[('preprocessing',\n",
       "                 ColumnTransformer(transformers=[('categorical',\n",
       "                                                  Pipeline(steps=[('ohe',\n",
       "                                                                   OneHotEncoder(handle_unknown='ignore')),\n",
       "                                                                  ('imputer',\n",
       "                                                                   SimpleImputer(add_indicator=True,\n",
       "                                                                                 strategy='most_frequent'))]),\n",
       "                                                  age               False\n",
       "workclass          True\n",
       "education          True\n",
       "education-num     False\n",
       "marital-status     True\n",
       "occupation         True\n",
       "relationship       True\n",
       "race               True\n",
       "gender             True\n",
       "capital-gain      Fals...\n",
       "                                                  Pipeline(steps=[('scaler',\n",
       "                                                                   StandardScaler()),\n",
       "                                                                  ('imputer',\n",
       "                                                                   SimpleImputer(add_indicator=True,\n",
       "                                                                                 strategy='median'))]),\n",
       "                                                  age                True\n",
       "workclass         False\n",
       "education         False\n",
       "education-num      True\n",
       "marital-status    False\n",
       "occupation        False\n",
       "relationship      False\n",
       "race              False\n",
       "gender            False\n",
       "capital-gain       True\n",
       "capital-loss       True\n",
       "hours-per-week     True\n",
       "native-country    False\n",
       "dtype: bool)])),\n",
       "                ('clf', LogisticRegression(solver='liblinear'))])"
      ]
     },
     "execution_count": 17,
     "metadata": {},
     "output_type": "execute_result"
    }
   ],
   "source": [
    "# Visualize pipeline\n",
    "\n",
    "from sklearn import set_config\n",
    "\n",
    "set_config(display='diagram')\n",
    "\n",
    "pipe"
   ]
  },
  {
   "cell_type": "markdown",
   "id": "b7b58c44",
   "metadata": {
    "slideshow": {
     "slide_type": "slide"
    }
   },
   "source": [
    "<center><h2>Transformations based on column type </h2></center>"
   ]
  },
  {
   "cell_type": "code",
   "execution_count": null,
   "id": "ff642f57",
   "metadata": {
    "slideshow": {
     "slide_type": "skip"
    }
   },
   "outputs": [],
   "source": [
    "import pandas as pd"
   ]
  },
  {
   "cell_type": "code",
   "execution_count": 8,
   "id": "988c99b6",
   "metadata": {
    "slideshow": {
     "slide_type": "slide"
    }
   },
   "outputs": [
    {
     "data": {
      "text/html": [
       "<div>\n",
       "<style scoped>\n",
       "    .dataframe tbody tr th:only-of-type {\n",
       "        vertical-align: middle;\n",
       "    }\n",
       "\n",
       "    .dataframe tbody tr th {\n",
       "        vertical-align: top;\n",
       "    }\n",
       "\n",
       "    .dataframe thead th {\n",
       "        text-align: right;\n",
       "    }\n",
       "</style>\n",
       "<table border=\"1\" class=\"dataframe\">\n",
       "  <thead>\n",
       "    <tr style=\"text-align: right;\">\n",
       "      <th></th>\n",
       "      <th>age</th>\n",
       "      <th>workclass</th>\n",
       "      <th>education</th>\n",
       "      <th>education-num</th>\n",
       "      <th>marital-status</th>\n",
       "      <th>occupation</th>\n",
       "      <th>relationship</th>\n",
       "      <th>race</th>\n",
       "      <th>gender</th>\n",
       "      <th>capital-gain</th>\n",
       "      <th>capital-loss</th>\n",
       "      <th>hours-per-week</th>\n",
       "      <th>native-country</th>\n",
       "      <th>income</th>\n",
       "    </tr>\n",
       "  </thead>\n",
       "  <tbody>\n",
       "    <tr>\n",
       "      <th>32556</th>\n",
       "      <td>27</td>\n",
       "      <td>Private</td>\n",
       "      <td>Assoc-acdm</td>\n",
       "      <td>12</td>\n",
       "      <td>Married-civ-spouse</td>\n",
       "      <td>Tech-support</td>\n",
       "      <td>Wife</td>\n",
       "      <td>White</td>\n",
       "      <td>Female</td>\n",
       "      <td>0</td>\n",
       "      <td>0</td>\n",
       "      <td>38</td>\n",
       "      <td>United-States</td>\n",
       "      <td>&lt;=50K</td>\n",
       "    </tr>\n",
       "    <tr>\n",
       "      <th>32557</th>\n",
       "      <td>40</td>\n",
       "      <td>Private</td>\n",
       "      <td>HS-grad</td>\n",
       "      <td>9</td>\n",
       "      <td>Married-civ-spouse</td>\n",
       "      <td>Machine-op-inspct</td>\n",
       "      <td>Husband</td>\n",
       "      <td>White</td>\n",
       "      <td>Male</td>\n",
       "      <td>0</td>\n",
       "      <td>0</td>\n",
       "      <td>40</td>\n",
       "      <td>United-States</td>\n",
       "      <td>&gt;50K</td>\n",
       "    </tr>\n",
       "    <tr>\n",
       "      <th>32558</th>\n",
       "      <td>58</td>\n",
       "      <td>Private</td>\n",
       "      <td>HS-grad</td>\n",
       "      <td>9</td>\n",
       "      <td>Widowed</td>\n",
       "      <td>Adm-clerical</td>\n",
       "      <td>Unmarried</td>\n",
       "      <td>White</td>\n",
       "      <td>Female</td>\n",
       "      <td>0</td>\n",
       "      <td>0</td>\n",
       "      <td>40</td>\n",
       "      <td>United-States</td>\n",
       "      <td>&lt;=50K</td>\n",
       "    </tr>\n",
       "    <tr>\n",
       "      <th>32559</th>\n",
       "      <td>22</td>\n",
       "      <td>Private</td>\n",
       "      <td>HS-grad</td>\n",
       "      <td>9</td>\n",
       "      <td>Never-married</td>\n",
       "      <td>Adm-clerical</td>\n",
       "      <td>Own-child</td>\n",
       "      <td>White</td>\n",
       "      <td>Male</td>\n",
       "      <td>0</td>\n",
       "      <td>0</td>\n",
       "      <td>20</td>\n",
       "      <td>United-States</td>\n",
       "      <td>&lt;=50K</td>\n",
       "    </tr>\n",
       "    <tr>\n",
       "      <th>32560</th>\n",
       "      <td>52</td>\n",
       "      <td>Self-emp-inc</td>\n",
       "      <td>HS-grad</td>\n",
       "      <td>9</td>\n",
       "      <td>Married-civ-spouse</td>\n",
       "      <td>Exec-managerial</td>\n",
       "      <td>Wife</td>\n",
       "      <td>White</td>\n",
       "      <td>Female</td>\n",
       "      <td>15024</td>\n",
       "      <td>0</td>\n",
       "      <td>40</td>\n",
       "      <td>United-States</td>\n",
       "      <td>&gt;50K</td>\n",
       "    </tr>\n",
       "  </tbody>\n",
       "</table>\n",
       "</div>"
      ],
      "text/plain": [
       "       age      workclass    education  education-num       marital-status  \\\n",
       "32556   27        Private   Assoc-acdm             12   Married-civ-spouse   \n",
       "32557   40        Private      HS-grad              9   Married-civ-spouse   \n",
       "32558   58        Private      HS-grad              9              Widowed   \n",
       "32559   22        Private      HS-grad              9        Never-married   \n",
       "32560   52   Self-emp-inc      HS-grad              9   Married-civ-spouse   \n",
       "\n",
       "               occupation relationship    race   gender  capital-gain  \\\n",
       "32556        Tech-support         Wife   White   Female             0   \n",
       "32557   Machine-op-inspct      Husband   White     Male             0   \n",
       "32558        Adm-clerical    Unmarried   White   Female             0   \n",
       "32559        Adm-clerical    Own-child   White     Male             0   \n",
       "32560     Exec-managerial         Wife   White   Female         15024   \n",
       "\n",
       "       capital-loss  hours-per-week  native-country  income  \n",
       "32556             0              38   United-States   <=50K  \n",
       "32557             0              40   United-States    >50K  \n",
       "32558             0              40   United-States   <=50K  \n",
       "32559             0              20   United-States   <=50K  \n",
       "32560             0              40   United-States    >50K  "
      ]
     },
     "execution_count": 8,
     "metadata": {},
     "output_type": "execute_result"
    }
   ],
   "source": [
    "\n",
    "\n",
    "# Load dataset of income \n",
    "data = pd.read_csv(\"adult.csv\", index_col=0)\n",
    "data.tail() # Data analysis protip - Always look at the last rows. It is sometimes the most recent data. Sometimes the first rows are mock data.\n"
   ]
  },
  {
   "cell_type": "code",
   "execution_count": 9,
   "id": "a751a5cd",
   "metadata": {},
   "outputs": [
    {
     "data": {
      "text/plain": [
       "age               False\n",
       "workclass          True\n",
       "education          True\n",
       "education-num     False\n",
       "marital-status     True\n",
       "occupation         True\n",
       "relationship       True\n",
       "race               True\n",
       "gender             True\n",
       "capital-gain      False\n",
       "capital-loss      False\n",
       "hours-per-week    False\n",
       "native-country     True\n",
       "dtype: bool"
      ]
     },
     "execution_count": 9,
     "metadata": {},
     "output_type": "execute_result"
    }
   ],
   "source": [
    "target   = data.income\n",
    "features = data.drop(\"income\", axis=1)\n",
    "\n",
    "# Find the categorical columns\n",
    "categorical_columns = (features.dtypes == object)\n",
    "categorical_columns"
   ]
  },
  {
   "cell_type": "code",
   "execution_count": 10,
   "id": "32730c3a",
   "metadata": {},
   "outputs": [],
   "source": [
    "from sklearn.model_selection import train_test_split\n",
    "\n",
    "X_train, X_test, y_train, y_test = train_test_split(features, target)"
   ]
  },
  {
   "cell_type": "code",
   "execution_count": 11,
   "id": "57159862",
   "metadata": {},
   "outputs": [
    {
     "data": {
      "text/plain": [
       "array([' >50K', ' <=50K', ' <=50K', ..., ' <=50K', ' <=50K', ' <=50K'],\n",
       "      dtype=object)"
      ]
     },
     "execution_count": 11,
     "metadata": {},
     "output_type": "execute_result"
    }
   ],
   "source": [
    "from sklearn.pipeline        import Pipeline\n",
    "from sklearn.preprocessing   import StandardScaler, OneHotEncoder\n",
    "from sklearn.impute          import SimpleImputer\n",
    "\n",
    "# Setup two preprocessing pipelines\n",
    "con_pipe = Pipeline([('scaler', StandardScaler()),\n",
    "                      ('imputer', SimpleImputer(strategy='median', add_indicator=True))])\n",
    "\n",
    "cat_pipe = Pipeline([('ohe', OneHotEncoder(handle_unknown='ignore')),\n",
    "                     ('imputer', SimpleImputer(strategy='most_frequent', add_indicator=True))])\n",
    "\n",
    "# Put them to together\n",
    "from sklearn.compose         import ColumnTransformer\n",
    "\n",
    "preprocessing = ColumnTransformer([('categorical', cat_pipe,  categorical_columns),\n",
    "                                   ('continuous',  con_pipe, ~categorical_columns),\n",
    "                                   ])\n",
    "\n",
    "# Add the algorithm \n",
    "from sklearn.linear_model    import LogisticRegression\n",
    "\n",
    "pipe = Pipeline([('preprocessing', preprocessing), \n",
    "                 ('clf', LogisticRegression(solver='liblinear'))])\n",
    "pipe.fit(X_train, y_train)\n",
    "pipe.predict(X_test)"
   ]
  },
  {
   "cell_type": "markdown",
   "id": "dangerous-priority",
   "metadata": {
    "slideshow": {
     "slide_type": "slide"
    }
   },
   "source": [
    "<center><h2>Takeaways</h2></center>\n",
    "\n",
    "- Scikit-learn Pipelines encapsulate all the modeling steps.\n"
   ]
  },
  {
   "cell_type": "markdown",
   "id": "0c5611af",
   "metadata": {
    "slideshow": {
     "slide_type": "fragment"
    }
   },
   "source": [
    "- Pipelines act like a regular estimator. Every thing you would do with a regular algorithm, you can do with a Pipeline.\n"
   ]
  },
  {
   "cell_type": "markdown",
   "id": "31f69d4b",
   "metadata": {
    "slideshow": {
     "slide_type": "fragment"
    }
   },
   "source": [
    "\n",
    "- Scikit-learn Pipelines are helpful for writing more readable, robust, and maintainable code.\n"
   ]
  },
  {
   "cell_type": "markdown",
   "id": "aafeac07",
   "metadata": {
    "slideshow": {
     "slide_type": "skip"
    }
   },
   "source": [
    "<center><h2>Bonus Material</h2></center>"
   ]
  },
  {
   "cell_type": "markdown",
   "id": "exciting-bulgaria",
   "metadata": {
    "slideshow": {
     "slide_type": "skip"
    }
   },
   "source": [
    "<center><h2>Sources of Inspiration</h2></center>\n",
    "\n",
    "- [Advanced Machine Learning with Scikit-learn](https://www.youtube.com/watch?v=7l_WQO3JbWE&ab_channel=rakutentech)\n",
    "- https://jakevdp.github.io/PythonDataScienceHandbook/05.02-introducing-scikit-learn.html\n",
    "- [Kevin Goetsch | Deploying Machine Learning using sklearn pipelines](https://www.youtube.com/watch?v=URdnFlZnlaE&ab_channel=PyData)\n",
    "- https://towardsdatascience.com/introduction-to-scikit-learns-pipelines-565cc549754a"
   ]
  },
  {
   "cell_type": "markdown",
   "id": "f67ccdc1",
   "metadata": {
    "slideshow": {
     "slide_type": "skip"
    }
   },
   "source": [
    "<center><h2>Check for understanding</h2></center> \n",
    "\n",
    "Please order the lettered steps to build a valid pipeline\n",
    "\n",
    "```python\n",
    "from sklearn.datasets        import load_boston \n",
    "from sklearn.linear_model    import LinearRegression\n",
    "from sklearn.model_selection import train_test_split\n",
    "from sklearn.pipeline        import Pipeline\n",
    "from sklearn.preprocessing   import StandardScaler\n",
    "\n",
    "\n",
    "# A \n",
    "pipe.fit(X_train, y_train)\n",
    "\n",
    "# B\n",
    "X_train, X_test, y_train, y_test= train_test_split(X, y)\n",
    "\n",
    "# C\n",
    "X, y = load_boston(return_X_y=True)\n",
    "\n",
    "# D\n",
    "pipe.predict(X_test)\n",
    "\n",
    "# E\n",
    "pipe = Pipeline([('scaler', StandardScaler()), \n",
    "                 ('lr',     LinearRegression())])\n",
    "```"
   ]
  },
  {
   "cell_type": "markdown",
   "id": "881bc47f",
   "metadata": {},
   "source": [
    "<br>\n",
    "<br> \n",
    "<br>\n",
    "\n",
    "----"
   ]
  }
 ],
 "metadata": {
  "celltoolbar": "Slideshow",
  "kernelspec": {
   "display_name": "Python 3 (ipykernel)",
   "language": "python",
   "name": "python3"
  },
  "language_info": {
   "codemirror_mode": {
    "name": "ipython",
    "version": 3
   },
   "file_extension": ".py",
   "mimetype": "text/x-python",
   "name": "python",
   "nbconvert_exporter": "python",
   "pygments_lexer": "ipython3",
   "version": "3.9.9"
  },
  "toc": {
   "base_numbering": 1,
   "nav_menu": {},
   "number_sections": false,
   "sideBar": false,
   "skip_h1_title": false,
   "title_cell": "Table of Contents",
   "title_sidebar": "Contents",
   "toc_cell": true,
   "toc_position": {},
   "toc_section_display": true,
   "toc_window_display": false
  }
 },
 "nbformat": 4,
 "nbformat_minor": 5
}
