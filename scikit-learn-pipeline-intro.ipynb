{
 "cells": [
  {
   "cell_type": "markdown",
   "id": "higher-label",
   "metadata": {
    "toc": true
   },
   "source": [
    "<h1>Table of Contents<span class=\"tocSkip\"></span></h1>\n",
    "<div class=\"toc\"><ul class=\"toc-item\"><li><span><a href=\"#Introduction-to-scikit-learn's-pipelines\" data-toc-modified-id=\"Introduction-to-scikit-learn's-pipelines-1\">Introduction to scikit-learn's pipelines</a></span></li><li><span><a href=\"#Motivating-Story\" data-toc-modified-id=\"Motivating-Story-2\">Motivating Story</a></span></li><li><span><a href=\"#Learning-Outcomes\" data-toc-modified-id=\"Learning-Outcomes-3\">Learning Outcomes</a></span></li><li><span><a href=\"#Review-of-Scikit-learn-Package\" data-toc-modified-id=\"Review-of-Scikit-learn-Package-4\">Review of Scikit-learn Package</a></span></li><li><span><a href=\"#Scikit-learn's-Estimator\" data-toc-modified-id=\"Scikit-learn's-Estimator-5\">Scikit-learn's Estimator</a></span></li><li><span><a href=\"#Scikit-learn's-Pipeline\" data-toc-modified-id=\"Scikit-learn's-Pipeline-6\">Scikit-learn's Pipeline</a></span></li><li><span><a href=\"#&quot;Programming-is-all-about-managing-complexity&quot;\" data-toc-modified-id=\"&quot;Programming-is-all-about-managing-complexity&quot;-7\">\"Programming is all about managing complexity\"</a></span></li><li><span><a href=\"#Pipeline-advantages\" data-toc-modified-id=\"Pipeline-advantages-8\">Pipeline advantages</a></span></li><li><span><a href=\"#Check-for-understanding\" data-toc-modified-id=\"Check-for-understanding-9\">Check for understanding</a></span></li><li><span><a href=\"#Automate-fitting-many-models-with-a-pipeline\" data-toc-modified-id=\"Automate-fitting-many-models-with-a-pipeline-10\">Automate fitting many models with a pipeline</a></span></li><li><span><a href=\"#Pipelines-automatically-apply-the-correct-steps-\" data-toc-modified-id=\"Pipelines-automatically-apply-the-correct-steps--11\">Pipelines automatically apply the correct steps </a></span></li><li><span><a href=\"#Takeaways\" data-toc-modified-id=\"Takeaways-12\">Takeaways</a></span></li><li><span><a href=\"#Bonus-Material\" data-toc-modified-id=\"Bonus-Material-13\">Bonus Material</a></span></li><li><span><a href=\"#Transformations-based-on-column-type-\" data-toc-modified-id=\"Transformations-based-on-column-type--14\">Transformations based on column type </a></span></li><li><span><a href=\"#Sources-of-Inspiration\" data-toc-modified-id=\"Sources-of-Inspiration-15\">Sources of Inspiration</a></span></li></ul></div>"
   ]
  },
  {
   "cell_type": "markdown",
   "id": "suitable-black",
   "metadata": {},
   "source": [
    "<center><h2>Introduction to scikit-learn's pipelines</h2></center>\n",
    "<br>\n",
    "<br>\n",
    "<center><img src=\"https://imgs.xkcd.com/comics/data_pipeline.png\" width=\"75%\"/></center>\n",
    "\n",
    "<center><h2>Motivating Story</h2></center>\n",
    "\n",
    "Image you are working as junior Data Scientist at a media company related to the Olympics. You have just built your first model to predict which athletes will be the biggest influencers in the near future. \n",
    "\n",
    "It took a while to find the right data, clean it and organize it, and fit that first algorithm. Now you boss says those dreaded words, \"Does your code scale?\"...\n",
    "\n",
    "Today I'm going to show you how to start on that path towards scale and improving your machine learning programming skills."
   ]
  },
  {
   "cell_type": "markdown",
   "id": "linear-peninsula",
   "metadata": {},
   "source": [
    "<center><h2>Learning Outcomes</h2></center>\n",
    "\n",
    "__By the end of this session, you should be able to__:\n",
    "\n",
    "- Describe what is scikit-learn's pipeline.\n",
    "- List the advantages of using scikit-learn's pipeline.\n",
    "- Code scikit-learn pipelines to automate machine learning."
   ]
  },
  {
   "cell_type": "markdown",
   "id": "occasional-politics",
   "metadata": {},
   "source": [
    "<center><h2>Review of Scikit-learn Package</h2></center>\n",
    "\n",
    "<br>\n",
    "<center><img src=\"images/1200px-Scikit_learn_logo_small.svg.png\" width=\"35%\"/></center>\n",
    "\n",
    "You should already be familiar the fundamentals of scikit-learn.\n",
    "\n",
    "Scikit-learn is a Python library for traditional machine learning.\n",
    "\n",
    "Scikit-learn features:\n",
    "\n",
    "- Open source\n",
    "- Well-established\n",
    "- Comprehensive\n",
    "    - Handles pre-preprocessing, cleaning, feature extraction and selection, and cross-validation\n",
    "    - Most popular algorithms are included\n",
    "- Consistent, easy-to-use interface\n",
    "- Object-oriented programming (OOP) / class based."
   ]
  },
  {
   "cell_type": "markdown",
   "id": "alpha-excitement",
   "metadata": {},
   "source": [
    "<center><h2>Scikit-learn's Estimator</h2></center>\n",
    "\n",
    "Estimator is a consistent interface for all algorithms. \n",
    "\n",
    "All estimators have a fit method:\n",
    "`estimator.fit(X, [y])`\n",
    "\n",
    "X is required.  \n",
    "y is optional.\n",
    "\n",
    "Estimators either have a predict or transform method.\n",
    "\n",
    "- `estimator.predict`\n",
    "    - Classification\n",
    "    - Regression\n",
    "    - Clustering\n",
    "- `estimator.transform` (Sometimes called Transformers)\n",
    "    - Preprocessing\n",
    "    - Dimensionality reduction\n",
    "    - Feature selection\n",
    "\n"
   ]
  },
  {
   "cell_type": "markdown",
   "id": "covered-interface",
   "metadata": {},
   "source": [
    "<center><h2>Scikit-learn's Pipeline</h2></center>\n",
    "<br>\n",
    "<center><img src=\"images/Automate-Machine-Learning-Workflows-with-Pipelines-in-Python-and-scikit-learn.jpg\" width=\"75%\"/></center>\n",
    "\n",
    "Pipelines are very useful concept.\n",
    "\n",
    "Pipelines allow things (oil or data) to move without losing any of the precious resource.\n",
    "\n",
    "Pipelines have modular segments. If section needs to be improved, only that section needs to be replaced."
   ]
  },
  {
   "cell_type": "markdown",
   "id": "failing-trunk",
   "metadata": {},
   "source": [
    "<center><h2>\"Programming is all about managing complexity\"</h2></center>\n",
    "\n",
    "Abstractions help us do that.\n",
    "\n",
    "Pipelines are a great abstraction.\n",
    "\n",
    "Instead of tracking every step, we just create and pass a Pipeline object. An example of encapsulation.\n",
    "\n",
    "[Source](https://stackoverflow.com/questions/33091376/python-what-is-exactly-sklearn-pipeline-pipeline)"
   ]
  },
  {
   "cell_type": "markdown",
   "id": "personal-telescope",
   "metadata": {},
   "source": [
    "<center><h2>Pipeline advantages</h2></center>\n",
    "\n",
    "- Encapsulation all steps in a single object. Pipeline can be evaluated and tuned as a single entity.\n",
    "- Apply the appropriate steps to training and test datasets.\n",
    "- Pipeline will also help prevent data leakage, i.e. disclosing some testing data in your training data.\n",
    "- Plays nicely with cross validation (CV) - feature selection within CV loops.\n"
   ]
  },
  {
   "cell_type": "code",
   "execution_count": 1,
   "id": "429d87e5",
   "metadata": {},
   "outputs": [],
   "source": [
    "reset -fs"
   ]
  },
  {
   "cell_type": "code",
   "execution_count": 2,
   "id": "6f43105d",
   "metadata": {},
   "outputs": [],
   "source": [
    "# Create sample data \n",
    "import numpy as np\n",
    "\n",
    "X = np.array([[1.0, 2],\n",
    "              [5.6, 3.4]])\n",
    "y = np.array([[.5], \n",
    "              [.4]])"
   ]
  },
  {
   "cell_type": "code",
   "execution_count": 3,
   "id": "another-alarm",
   "metadata": {},
   "outputs": [
    {
     "data": {
      "text/plain": [
       "Pipeline(steps=[('scaler', StandardScaler()), ('lr', LinearRegression())])"
      ]
     },
     "execution_count": 3,
     "metadata": {},
     "output_type": "execute_result"
    }
   ],
   "source": [
    "from sklearn.pipeline      import Pipeline\n",
    "from sklearn.preprocessing import StandardScaler\n",
    "from sklearn.linear_model  import LinearRegression\n",
    "\n",
    "pipe = Pipeline([('scaler', StandardScaler()), \n",
    "                 ('lr',     LinearRegression())])\n",
    "\n",
    "pipe.fit(X, y)"
   ]
  },
  {
   "cell_type": "code",
   "execution_count": 4,
   "id": "c9280cca",
   "metadata": {},
   "outputs": [
    {
     "data": {
      "text/plain": [
       "array([[0.35465839]])"
      ]
     },
     "execution_count": 4,
     "metadata": {},
     "output_type": "execute_result"
    }
   ],
   "source": [
    "# Predict new, unlabeled data \n",
    "pipe.predict([[3.2, 5.4]])"
   ]
  },
  {
   "cell_type": "markdown",
   "id": "f67ccdc1",
   "metadata": {},
   "source": [
    "<center><h2>Check for understanding</h2></center> \n",
    "\n",
    "Please order the lettered steps to build a valid pipeline\n",
    "\n",
    "```python\n",
    "from sklearn.datasets        import load_boston \n",
    "from sklearn.linear_model    import LinearRegression\n",
    "from sklearn.model_selection import train_test_split\n",
    "from sklearn.pipeline        import Pipeline\n",
    "from sklearn.preprocessing   import StandardScaler\n",
    "\n",
    "\n",
    "# A \n",
    "pipe.fit(X_train, y_train)\n",
    "\n",
    "# B\n",
    "X_train, X_test, y_train, y_test= train_test_split(X, y)\n",
    "\n",
    "# C\n",
    "X, y = load_boston(return_X_y=True)\n",
    "\n",
    "# D\n",
    "pipe.predict(X_test)\n",
    "\n",
    "# E\n",
    "pipe = Pipeline([('scaler', StandardScaler()), \n",
    "                 ('lr',     LinearRegression())])\n",
    "```"
   ]
  },
  {
   "cell_type": "code",
   "execution_count": 5,
   "id": "e0287e06",
   "metadata": {},
   "outputs": [
    {
     "data": {
      "text/plain": [
       "array([ 88.92008447, 114.65904741, 174.91504897, 209.98093201,\n",
       "        49.13565546, 153.91066311, 291.35560757, 144.64106131,\n",
       "       127.39641771, 293.91523237, 115.71432636, 140.47646326,\n",
       "        87.30255881, 168.90271532, 238.57467258,  51.57405222,\n",
       "       111.2531476 ,  89.35188511, 205.74394518, 157.03842753,\n",
       "       122.31131479, 211.24215133, 232.90652349,  75.71908792,\n",
       "       120.81746353,  77.65643484,  85.63217725,  88.27625045,\n",
       "       187.24747091, 130.84515434,  94.59031398, 143.43469664,\n",
       "       228.10381923, 185.56381795, 122.76223181,  49.07524931,\n",
       "       199.09942768, 179.48968141,  79.0697204 , 155.65565298,\n",
       "       147.04300526, 225.89418693, 271.24295269, 222.05588911,\n",
       "        46.63644237, 112.94296089, 166.07954158, 198.26772627,\n",
       "        88.79091408, 168.21066139, 182.35786708, 127.12134615,\n",
       "       115.74545852, 109.84044812, 102.3994007 , 180.0582096 ,\n",
       "       224.90488491, 215.07107976, 199.16363131, 160.03960736,\n",
       "       103.46451527, 187.47547701, 159.41433222, 234.67223872,\n",
       "       139.66004278, 162.61227129, 122.5988953 , 164.08619177,\n",
       "       234.49065415, 257.24537272, 110.59446783,  72.1830772 ,\n",
       "       175.05818616, 230.96213516, 164.50940519, 145.21798761,\n",
       "       178.69621299, 107.94702277, 127.04879253,  62.21184219,\n",
       "       141.17190508, 115.64765119, 160.503598  , 254.64531029,\n",
       "       196.62803166, 195.15900735,  90.05759919, 100.43960264,\n",
       "       226.81644293, 184.86347558, 181.17441371,  37.74038261,\n",
       "       256.30464991,  74.86589819, 122.08804283, 242.61362048,\n",
       "       228.67858948, 252.14309467,  96.75806794,  68.53466856,\n",
       "       223.21721384,  66.45604691, 110.11764943,  48.50211535,\n",
       "       116.32282254, 145.56775579, 101.3336695 , 210.13660317,\n",
       "        94.36927713,  59.63444157, 228.86904069])"
      ]
     },
     "execution_count": 5,
     "metadata": {},
     "output_type": "execute_result"
    }
   ],
   "source": [
    "from sklearn.datasets        import load_diabetes \n",
    "from sklearn.linear_model    import LinearRegression\n",
    "from sklearn.model_selection import train_test_split\n",
    "from sklearn.pipeline        import Pipeline\n",
    "from sklearn.preprocessing   import StandardScaler\n",
    "\n",
    "X, y = load_diabetes(return_X_y=True)\n",
    "X_train, X_test, y_train, y_test= train_test_split(X, y)\n",
    "pipe = Pipeline([('scaler', StandardScaler()), \n",
    "                 ('lr',     LinearRegression())])\n",
    "pipe.fit(X_train, y_train)\n",
    "pipe.predict(X_test)"
   ]
  },
  {
   "cell_type": "markdown",
   "id": "23950d35",
   "metadata": {},
   "source": [
    "<center><h2>Automate fitting many models with a pipeline</h2></center>\n"
   ]
  },
  {
   "cell_type": "code",
   "execution_count": 6,
   "id": "af1999c3",
   "metadata": {},
   "outputs": [
    {
     "name": "stdout",
     "output_type": "stream",
     "text": [
      "Mean squared error for diabetes dataset (regression): \n",
      "    LinearRegression: 2,770.29\n",
      "    Lasso           : 2,753.35\n",
      "    Ridge           : 2,770.18\n",
      "    ElasticNet      : 2,867.98\n",
      "    HuberRegressor  : 2,769.49\n",
      "    BayesianRidge   : 2,769.91\n"
     ]
    }
   ],
   "source": [
    "from sklearn.decomposition import PCA\n",
    "from sklearn.linear_model  import Lasso, Ridge, ElasticNet, HuberRegressor, BayesianRidge\n",
    "from sklearn.metrics       import mean_squared_error\n",
    "\n",
    "X_train, X_validation, y_train, y_validation= train_test_split(X, y, random_state=42)\n",
    "\n",
    "# Programmatically fit \n",
    "algorithms = [LinearRegression(), Lasso(), Ridge(), ElasticNet(), HuberRegressor(), BayesianRidge()]\n",
    "results = dict()\n",
    "\n",
    "print(\"Mean squared error for diabetes dataset (regression): \")\n",
    "for algo in algorithms:\n",
    "    pipe = Pipeline([('scaler', StandardScaler()), \n",
    "                     ('pca',    PCA(n_components=5)),\n",
    "                     ('lm',     algo)])\n",
    "\n",
    "    pipe.fit(X_train, y_train)\n",
    "    y_pred = pipe.predict(X_validation)\n",
    "    mse = mean_squared_error(y_validation, y_pred)\n",
    "    print(f\"    {algo.__class__.__name__:<16}: {mse:,.2f}\")"
   ]
  },
  {
   "cell_type": "markdown",
   "id": "alternate-tender",
   "metadata": {},
   "source": [
    "<center><h2>Pipelines automatically apply the correct steps </h2></center>\n",
    "<br>\n",
    "<center><img src=\"images/pipeline-diagram.png\" width=\"80%\"/></center>\n",
    "\n",
    "Source: https://iaml.it/blog/optimizing-sklearn-pipelines/"
   ]
  },
  {
   "cell_type": "markdown",
   "id": "dangerous-priority",
   "metadata": {},
   "source": [
    "<center><h2>Takeaways</h2></center>\n",
    "\n",
    "- Scikit-learn Pipelines are helpful for writing production-level code.\n",
    "- Pipelines encapsulate all the modeling steps.\n",
    "- Pipelines act like a regular estimator. Every thing you would do with a regular algorithm, you can do with a Pipeline."
   ]
  },
  {
   "cell_type": "markdown",
   "id": "aafeac07",
   "metadata": {},
   "source": [
    "<center><h2>Bonus Material</h2></center>"
   ]
  },
  {
   "cell_type": "code",
   "execution_count": 7,
   "id": "562e42d0",
   "metadata": {},
   "outputs": [
    {
     "data": {
      "text/html": [
       "<style>#sk-959859c3-9cba-4de8-90cd-3a542a4ff2ba {color: black;background-color: white;}#sk-959859c3-9cba-4de8-90cd-3a542a4ff2ba pre{padding: 0;}#sk-959859c3-9cba-4de8-90cd-3a542a4ff2ba div.sk-toggleable {background-color: white;}#sk-959859c3-9cba-4de8-90cd-3a542a4ff2ba label.sk-toggleable__label {cursor: pointer;display: block;width: 100%;margin-bottom: 0;padding: 0.2em 0.3em;box-sizing: border-box;text-align: center;}#sk-959859c3-9cba-4de8-90cd-3a542a4ff2ba div.sk-toggleable__content {max-height: 0;max-width: 0;overflow: hidden;text-align: left;background-color: #f0f8ff;}#sk-959859c3-9cba-4de8-90cd-3a542a4ff2ba div.sk-toggleable__content pre {margin: 0.2em;color: black;border-radius: 0.25em;background-color: #f0f8ff;}#sk-959859c3-9cba-4de8-90cd-3a542a4ff2ba input.sk-toggleable__control:checked~div.sk-toggleable__content {max-height: 200px;max-width: 100%;overflow: auto;}#sk-959859c3-9cba-4de8-90cd-3a542a4ff2ba div.sk-estimator input.sk-toggleable__control:checked~label.sk-toggleable__label {background-color: #d4ebff;}#sk-959859c3-9cba-4de8-90cd-3a542a4ff2ba div.sk-label input.sk-toggleable__control:checked~label.sk-toggleable__label {background-color: #d4ebff;}#sk-959859c3-9cba-4de8-90cd-3a542a4ff2ba input.sk-hidden--visually {border: 0;clip: rect(1px 1px 1px 1px);clip: rect(1px, 1px, 1px, 1px);height: 1px;margin: -1px;overflow: hidden;padding: 0;position: absolute;width: 1px;}#sk-959859c3-9cba-4de8-90cd-3a542a4ff2ba div.sk-estimator {font-family: monospace;background-color: #f0f8ff;margin: 0.25em 0.25em;border: 1px dotted black;border-radius: 0.25em;box-sizing: border-box;}#sk-959859c3-9cba-4de8-90cd-3a542a4ff2ba div.sk-estimator:hover {background-color: #d4ebff;}#sk-959859c3-9cba-4de8-90cd-3a542a4ff2ba div.sk-parallel-item::after {content: \"\";width: 100%;border-bottom: 1px solid gray;flex-grow: 1;}#sk-959859c3-9cba-4de8-90cd-3a542a4ff2ba div.sk-label:hover label.sk-toggleable__label {background-color: #d4ebff;}#sk-959859c3-9cba-4de8-90cd-3a542a4ff2ba div.sk-serial::before {content: \"\";position: absolute;border-left: 1px solid gray;box-sizing: border-box;top: 2em;bottom: 0;left: 50%;}#sk-959859c3-9cba-4de8-90cd-3a542a4ff2ba div.sk-serial {display: flex;flex-direction: column;align-items: center;background-color: white;}#sk-959859c3-9cba-4de8-90cd-3a542a4ff2ba div.sk-item {z-index: 1;}#sk-959859c3-9cba-4de8-90cd-3a542a4ff2ba div.sk-parallel {display: flex;align-items: stretch;justify-content: center;background-color: white;}#sk-959859c3-9cba-4de8-90cd-3a542a4ff2ba div.sk-parallel-item {display: flex;flex-direction: column;position: relative;background-color: white;}#sk-959859c3-9cba-4de8-90cd-3a542a4ff2ba div.sk-parallel-item:first-child::after {align-self: flex-end;width: 50%;}#sk-959859c3-9cba-4de8-90cd-3a542a4ff2ba div.sk-parallel-item:last-child::after {align-self: flex-start;width: 50%;}#sk-959859c3-9cba-4de8-90cd-3a542a4ff2ba div.sk-parallel-item:only-child::after {width: 0;}#sk-959859c3-9cba-4de8-90cd-3a542a4ff2ba div.sk-dashed-wrapped {border: 1px dashed gray;margin: 0.2em;box-sizing: border-box;padding-bottom: 0.1em;background-color: white;position: relative;}#sk-959859c3-9cba-4de8-90cd-3a542a4ff2ba div.sk-label label {font-family: monospace;font-weight: bold;background-color: white;display: inline-block;line-height: 1.2em;}#sk-959859c3-9cba-4de8-90cd-3a542a4ff2ba div.sk-label-container {position: relative;z-index: 2;text-align: center;}#sk-959859c3-9cba-4de8-90cd-3a542a4ff2ba div.sk-container {display: inline-block;position: relative;}</style><div id=\"sk-959859c3-9cba-4de8-90cd-3a542a4ff2ba\" class\"sk-top-container\"><div class=\"sk-container\"><div class=\"sk-item sk-dashed-wrapped\"><div class=\"sk-label-container\"><div class=\"sk-label sk-toggleable\"><input class=\"sk-toggleable__control sk-hidden--visually\" id=\"5f540946-bda3-4121-ba2c-0819a9d10e4d\" type=\"checkbox\" ><label class=\"sk-toggleable__label\" for=\"5f540946-bda3-4121-ba2c-0819a9d10e4d\">Pipeline</label><div class=\"sk-toggleable__content\"><pre>Pipeline(steps=[('scaler', StandardScaler()), ('pca', PCA(n_components=5)),\n",
       "                ('lm', BayesianRidge())])</pre></div></div></div><div class=\"sk-serial\"><div class=\"sk-item\"><div class=\"sk-estimator sk-toggleable\"><input class=\"sk-toggleable__control sk-hidden--visually\" id=\"c75caa82-5f3a-47b8-a9e5-8ab6adbcf682\" type=\"checkbox\" ><label class=\"sk-toggleable__label\" for=\"c75caa82-5f3a-47b8-a9e5-8ab6adbcf682\">StandardScaler</label><div class=\"sk-toggleable__content\"><pre>StandardScaler()</pre></div></div></div><div class=\"sk-item\"><div class=\"sk-estimator sk-toggleable\"><input class=\"sk-toggleable__control sk-hidden--visually\" id=\"9aac35cb-3459-4ccd-96b9-2cb2bdcabedf\" type=\"checkbox\" ><label class=\"sk-toggleable__label\" for=\"9aac35cb-3459-4ccd-96b9-2cb2bdcabedf\">PCA</label><div class=\"sk-toggleable__content\"><pre>PCA(n_components=5)</pre></div></div></div><div class=\"sk-item\"><div class=\"sk-estimator sk-toggleable\"><input class=\"sk-toggleable__control sk-hidden--visually\" id=\"2a6177c6-b1e8-454d-865b-7d4fd3897703\" type=\"checkbox\" ><label class=\"sk-toggleable__label\" for=\"2a6177c6-b1e8-454d-865b-7d4fd3897703\">BayesianRidge</label><div class=\"sk-toggleable__content\"><pre>BayesianRidge()</pre></div></div></div></div></div></div></div>"
      ],
      "text/plain": [
       "Pipeline(steps=[('scaler', StandardScaler()), ('pca', PCA(n_components=5)),\n",
       "                ('lm', BayesianRidge())])"
      ]
     },
     "execution_count": 7,
     "metadata": {},
     "output_type": "execute_result"
    }
   ],
   "source": [
    "# Visualize pipeline\n",
    "\n",
    "from sklearn import set_config\n",
    "\n",
    "set_config(display='diagram')\n",
    "\n",
    "pipe"
   ]
  },
  {
   "cell_type": "markdown",
   "id": "b7b58c44",
   "metadata": {},
   "source": [
    "<center><h2>Transformations based on column type </h2></center>"
   ]
  },
  {
   "cell_type": "code",
   "execution_count": 8,
   "id": "988c99b6",
   "metadata": {},
   "outputs": [
    {
     "data": {
      "text/html": [
       "<div>\n",
       "<style scoped>\n",
       "    .dataframe tbody tr th:only-of-type {\n",
       "        vertical-align: middle;\n",
       "    }\n",
       "\n",
       "    .dataframe tbody tr th {\n",
       "        vertical-align: top;\n",
       "    }\n",
       "\n",
       "    .dataframe thead th {\n",
       "        text-align: right;\n",
       "    }\n",
       "</style>\n",
       "<table border=\"1\" class=\"dataframe\">\n",
       "  <thead>\n",
       "    <tr style=\"text-align: right;\">\n",
       "      <th></th>\n",
       "      <th>age</th>\n",
       "      <th>workclass</th>\n",
       "      <th>education</th>\n",
       "      <th>education-num</th>\n",
       "      <th>marital-status</th>\n",
       "      <th>occupation</th>\n",
       "      <th>relationship</th>\n",
       "      <th>race</th>\n",
       "      <th>gender</th>\n",
       "      <th>capital-gain</th>\n",
       "      <th>capital-loss</th>\n",
       "      <th>hours-per-week</th>\n",
       "      <th>native-country</th>\n",
       "      <th>income</th>\n",
       "    </tr>\n",
       "  </thead>\n",
       "  <tbody>\n",
       "    <tr>\n",
       "      <th>32556</th>\n",
       "      <td>27</td>\n",
       "      <td>Private</td>\n",
       "      <td>Assoc-acdm</td>\n",
       "      <td>12</td>\n",
       "      <td>Married-civ-spouse</td>\n",
       "      <td>Tech-support</td>\n",
       "      <td>Wife</td>\n",
       "      <td>White</td>\n",
       "      <td>Female</td>\n",
       "      <td>0</td>\n",
       "      <td>0</td>\n",
       "      <td>38</td>\n",
       "      <td>United-States</td>\n",
       "      <td>&lt;=50K</td>\n",
       "    </tr>\n",
       "    <tr>\n",
       "      <th>32557</th>\n",
       "      <td>40</td>\n",
       "      <td>Private</td>\n",
       "      <td>HS-grad</td>\n",
       "      <td>9</td>\n",
       "      <td>Married-civ-spouse</td>\n",
       "      <td>Machine-op-inspct</td>\n",
       "      <td>Husband</td>\n",
       "      <td>White</td>\n",
       "      <td>Male</td>\n",
       "      <td>0</td>\n",
       "      <td>0</td>\n",
       "      <td>40</td>\n",
       "      <td>United-States</td>\n",
       "      <td>&gt;50K</td>\n",
       "    </tr>\n",
       "    <tr>\n",
       "      <th>32558</th>\n",
       "      <td>58</td>\n",
       "      <td>Private</td>\n",
       "      <td>HS-grad</td>\n",
       "      <td>9</td>\n",
       "      <td>Widowed</td>\n",
       "      <td>Adm-clerical</td>\n",
       "      <td>Unmarried</td>\n",
       "      <td>White</td>\n",
       "      <td>Female</td>\n",
       "      <td>0</td>\n",
       "      <td>0</td>\n",
       "      <td>40</td>\n",
       "      <td>United-States</td>\n",
       "      <td>&lt;=50K</td>\n",
       "    </tr>\n",
       "    <tr>\n",
       "      <th>32559</th>\n",
       "      <td>22</td>\n",
       "      <td>Private</td>\n",
       "      <td>HS-grad</td>\n",
       "      <td>9</td>\n",
       "      <td>Never-married</td>\n",
       "      <td>Adm-clerical</td>\n",
       "      <td>Own-child</td>\n",
       "      <td>White</td>\n",
       "      <td>Male</td>\n",
       "      <td>0</td>\n",
       "      <td>0</td>\n",
       "      <td>20</td>\n",
       "      <td>United-States</td>\n",
       "      <td>&lt;=50K</td>\n",
       "    </tr>\n",
       "    <tr>\n",
       "      <th>32560</th>\n",
       "      <td>52</td>\n",
       "      <td>Self-emp-inc</td>\n",
       "      <td>HS-grad</td>\n",
       "      <td>9</td>\n",
       "      <td>Married-civ-spouse</td>\n",
       "      <td>Exec-managerial</td>\n",
       "      <td>Wife</td>\n",
       "      <td>White</td>\n",
       "      <td>Female</td>\n",
       "      <td>15024</td>\n",
       "      <td>0</td>\n",
       "      <td>40</td>\n",
       "      <td>United-States</td>\n",
       "      <td>&gt;50K</td>\n",
       "    </tr>\n",
       "  </tbody>\n",
       "</table>\n",
       "</div>"
      ],
      "text/plain": [
       "       age      workclass    education  education-num       marital-status  \\\n",
       "32556   27        Private   Assoc-acdm             12   Married-civ-spouse   \n",
       "32557   40        Private      HS-grad              9   Married-civ-spouse   \n",
       "32558   58        Private      HS-grad              9              Widowed   \n",
       "32559   22        Private      HS-grad              9        Never-married   \n",
       "32560   52   Self-emp-inc      HS-grad              9   Married-civ-spouse   \n",
       "\n",
       "               occupation relationship    race   gender  capital-gain  \\\n",
       "32556        Tech-support         Wife   White   Female             0   \n",
       "32557   Machine-op-inspct      Husband   White     Male             0   \n",
       "32558        Adm-clerical    Unmarried   White   Female             0   \n",
       "32559        Adm-clerical    Own-child   White     Male             0   \n",
       "32560     Exec-managerial         Wife   White   Female         15024   \n",
       "\n",
       "       capital-loss  hours-per-week  native-country  income  \n",
       "32556             0              38   United-States   <=50K  \n",
       "32557             0              40   United-States    >50K  \n",
       "32558             0              40   United-States   <=50K  \n",
       "32559             0              20   United-States   <=50K  \n",
       "32560             0              40   United-States    >50K  "
      ]
     },
     "execution_count": 8,
     "metadata": {},
     "output_type": "execute_result"
    }
   ],
   "source": [
    "import pandas as pd\n",
    "\n",
    "# Load dataset of income \n",
    "data = pd.read_csv(\"adult.csv\", index_col=0)\n",
    "data.tail() # Data analysis protip - Always look at the last rows. It is sometimes the most recent data. Sometimes the first rows are mock data.\n"
   ]
  },
  {
   "cell_type": "code",
   "execution_count": 9,
   "id": "a751a5cd",
   "metadata": {},
   "outputs": [
    {
     "data": {
      "text/plain": [
       "age               False\n",
       "workclass          True\n",
       "education          True\n",
       "education-num     False\n",
       "marital-status     True\n",
       "occupation         True\n",
       "relationship       True\n",
       "race               True\n",
       "gender             True\n",
       "capital-gain      False\n",
       "capital-loss      False\n",
       "hours-per-week    False\n",
       "native-country     True\n",
       "dtype: bool"
      ]
     },
     "execution_count": 9,
     "metadata": {},
     "output_type": "execute_result"
    }
   ],
   "source": [
    "target   = data.income\n",
    "features = data.drop(\"income\", axis=1)\n",
    "\n",
    "# Find the categorical columns\n",
    "categorical_columns = (features.dtypes == object)\n",
    "categorical_columns"
   ]
  },
  {
   "cell_type": "code",
   "execution_count": 10,
   "id": "32730c3a",
   "metadata": {},
   "outputs": [],
   "source": [
    "from sklearn.model_selection import train_test_split\n",
    "\n",
    "X_train, X_test, y_train, y_test = train_test_split(features, target)"
   ]
  },
  {
   "cell_type": "code",
   "execution_count": 11,
   "id": "57159862",
   "metadata": {},
   "outputs": [
    {
     "data": {
      "text/plain": [
       "array([' <=50K', ' <=50K', ' >50K', ..., ' <=50K', ' >50K', ' <=50K'],\n",
       "      dtype=object)"
      ]
     },
     "execution_count": 11,
     "metadata": {},
     "output_type": "execute_result"
    }
   ],
   "source": [
    "from sklearn.pipeline        import Pipeline\n",
    "from sklearn.preprocessing   import StandardScaler, OneHotEncoder\n",
    "from sklearn.impute          import SimpleImputer\n",
    "\n",
    "# Setup two preprocessing pipelines\n",
    "con_pipe = Pipeline([('scaler', StandardScaler()),\n",
    "                      ('imputer', SimpleImputer(strategy='median', add_indicator=True))])\n",
    "\n",
    "cat_pipe = Pipeline([('ohe', OneHotEncoder(handle_unknown='ignore')),\n",
    "                     ('imputer', SimpleImputer(strategy='most_frequent', add_indicator=True))])\n",
    "\n",
    "# Put them to together\n",
    "from sklearn.compose         import ColumnTransformer\n",
    "\n",
    "preprocessing = ColumnTransformer([('categorical', cat_pipe,  categorical_columns),\n",
    "                                   ('continuous',  con_pipe, ~categorical_columns),\n",
    "                                   ])\n",
    "\n",
    "# Add the algorithm \n",
    "from sklearn.linear_model    import LogisticRegression\n",
    "\n",
    "pipe = Pipeline([('preprocessing', preprocessing), \n",
    "                 ('clf', LogisticRegression(solver='liblinear'))])\n",
    "pipe.fit(X_train, y_train)\n",
    "pipe.predict(X_test)"
   ]
  },
  {
   "cell_type": "markdown",
   "id": "exciting-bulgaria",
   "metadata": {},
   "source": [
    "<center><h2>Sources of Inspiration</h2></center>\n",
    "\n",
    "- [Advanced Machine Learning with Scikit-learn](https://www.youtube.com/watch?v=7l_WQO3JbWE&ab_channel=rakutentech)\n",
    "- https://jakevdp.github.io/PythonDataScienceHandbook/05.02-introducing-scikit-learn.html"
   ]
  }
 ],
 "metadata": {
  "kernelspec": {
   "display_name": "Python 3 (ipykernel)",
   "language": "python",
   "name": "python3"
  },
  "language_info": {
   "codemirror_mode": {
    "name": "ipython",
    "version": 3
   },
   "file_extension": ".py",
   "mimetype": "text/x-python",
   "name": "python",
   "nbconvert_exporter": "python",
   "pygments_lexer": "ipython3",
   "version": "3.8.10"
  },
  "toc": {
   "base_numbering": 1,
   "nav_menu": {},
   "number_sections": false,
   "sideBar": false,
   "skip_h1_title": false,
   "title_cell": "Table of Contents",
   "title_sidebar": "Contents",
   "toc_cell": true,
   "toc_position": {},
   "toc_section_display": true,
   "toc_window_display": false
  }
 },
 "nbformat": 4,
 "nbformat_minor": 5
}
